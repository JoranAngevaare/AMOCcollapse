{
 "cells": [
  {
   "cell_type": "code",
   "execution_count": null,
   "id": "2b83f720-2afb-4f3d-a001-b68b26d0219a",
   "metadata": {},
   "outputs": [],
   "source": [
    "import os\n",
    "import gsw\n",
    "\n",
    "import numpy as np\n",
    "\n",
    "from netCDF4 import Dataset\n",
    "import matplotlib.pyplot as plt"
   ]
  },
  {
   "cell_type": "code",
   "execution_count": null,
   "id": "1a6e3c50-7832-42b9-8579-bf08804d7df7",
   "metadata": {},
   "outputs": [],
   "source": [
    "# Diretories where data is stored:\n",
    "\n",
    "datadir = '/gws/nopw/j04/nemo_vol1/jmecking/en4/v4.2.2_c14/'\n",
    "savedir = '/gws/nopw/j04/nemo_vol1/jmecking/en4/v4.2.2_c14/density/'"
   ]
  },
  {
   "cell_type": "code",
   "execution_count": null,
   "id": "9d1f3368-47ba-4466-ae0c-6d6960d5e1fe",
   "metadata": {},
   "outputs": [],
   "source": [
    "# Compute mixed layer depth:\n",
    "yr = np.arange(1900,2025)\n",
    "ny = np.size(yr,axis=0)\n",
    "\n",
    "for yy in range(0,ny):\n",
    "    for mm in range(0,12):\n",
    "        infile  = (datadir + 'EN.4.2.2.f.analysis.c14.' + str(yr[yy]) + str(mm+1).zfill(2) + '.nc')\n",
    "        outfile = (savedir + 'EN.4.2.2.f.analysis.c14.' + str(yr[yy]) + str(mm+1).zfill(2) + '_mld_d003.nc')\n",
    "        if os.path.isfile(infile):\n",
    "            print(infile)\n",
    "            if not os.path.isfile(outfile):\n",
    "                # Read in potential temperature and salinity:\n",
    "                ncid      = Dataset(infile,'r')\n",
    "                temp      = np.squeeze(ncid.variables['temperature'][:,:,:,:]) - 273.15\n",
    "                sal       = np.squeeze(ncid.variables['salinity'][:,:,:,:])\n",
    "                lat       = ncid.variables['lat'][:]\n",
    "                lon       = ncid.variables['lon'][:]\n",
    "                depth     = ncid.variables['depth'][:]\n",
    "                dep_bnds  = ncid.variables['depth_bnds'][:,:]\n",
    "                time      = ncid.variables['time'][:]\n",
    "                time_bnds = ncid.variables['time_bnds'][:,:]\n",
    "                ncid.close()\n",
    "\n",
    "                # Set required variables:\n",
    "                LON,LAT = np.meshgrid(lon,lat)\n",
    "                LON   = np.tile(LON,(np.size(depth),1,1))\n",
    "                LAT   = np.tile(LAT,(np.size(depth),1,1))\n",
    "                DEP   = np.swapaxes(np.tile(depth,(np.size(lon),np.size(lat),1)),0,2)\n",
    "                p     = gsw.p_from_z(-DEP,LAT)\n",
    "                tmask = 1-temp.mask\n",
    "\n",
    "                # Compute densities:\n",
    "                SA     = gsw.SA_from_SP(sal, p, LON, LAT)\n",
    "                CT     = gsw.conversions.CT_from_pt(SA, temp)\n",
    "                sigma0 = gsw.density.sigma0(SA, CT)\n",
    "                                \n",
    "                # Compute differences:\n",
    "                sigma0_diff = np.tile(sigma0[1,:,:],(len(depth),1,1)) - sigma0\n",
    "\n",
    "                mld_top  = np.nan*np.ones((len(lat),len(lon)),'float')\n",
    "                mld_bot  = np.nan*np.ones((len(lat),len(lon)),'float')\n",
    "                mld_diff = np.nan*np.ones((len(lat),len(lon)),'float')\n",
    "                mld      = np.nan*np.ones((len(lat),len(lon)),'float')\n",
    "                # Compute where thresholds are hit:\n",
    "                for ii in range(0,len(lon)):\n",
    "                    for jj in range(0,len(lat)):\n",
    "                        if np.sum(tmask[:3,jj,ii]) == 3:\n",
    "                            nd = np.sum(tmask[:,jj,ii])\n",
    "                            #plt.figure()\n",
    "                            #plt.plot(sigma0_diff[2:,jj,ii],-depth[2:],marker='.')\n",
    "                            #plt.axvline(x=-0.03,color='k')\n",
    "                            #plt.ylim([-200,0])\n",
    "                            inds_b = np.where(sigma0_diff[2:nd,jj,ii] < -0.03)[0] + 2\n",
    "                            inds_t = np.where(sigma0_diff[2:nd,jj,ii] > -0.03)[0] + 2\n",
    "                            # Check if the mixed layer depth goes to bottom:\n",
    "                            if ((len(inds_b) == 0) & (len(inds_t) == nd-2)): # Mixed layer goes to bottom\n",
    "                                mld[jj,ii]      = dep_bnds[nd-1,1]\n",
    "                                mld_top[jj,ii]  = 0\n",
    "                                mld_bot[jj,ii]  = 1\n",
    "                                mld_diff[jj,ii] = 0\n",
    "                                d_b = mld[jj,ii]\n",
    "                                d_t = mld[jj,ii]\n",
    "                                #plt.axhline(y=-mld[jj,ii],color='C4')\n",
    "                            elif ((len(inds_t) == 0) & (len(inds_b) == nd-2)):  # Mixed layer stays at surface:\n",
    "                                mld[jj,ii]      = 15\n",
    "                                mld_top[jj,ii]  = 1\n",
    "                                mld_bot[jj,ii]  = 0\n",
    "                                mld_diff[jj,ii] = 0\n",
    "                                d_b = 15\n",
    "                                d_t = 15\n",
    "                                #plt.axhline(y=-mld[jj,ii],color='C5')\n",
    "                            else:\n",
    "                                mld_top[jj,ii]  = 0\n",
    "                                mld_bot[jj,ii]  = 0\n",
    "                                mld_diff[jj,ii] = inds_b[0] - inds_t[-1]   \n",
    "                                #plt.axhline(y=-depth[inds_b[0]] ,color='C1')\n",
    "                                #plt.axhline(y=-depth[inds_t[-1]],color='C2',linestyle='--')\n",
    "                                if inds_b[0] > inds_t[-1]:\n",
    "                                    # interpolate between top and bottom:\n",
    "                                    m          = (sigma0_diff[inds_b[0],jj,ii] - sigma0_diff[inds_t[-1],jj,ii])/(depth[inds_b[0]] - depth[inds_t[-1]])\n",
    "                                    b          = sigma0_diff[inds_b[0],jj,ii] - m*depth[inds_b[0]]\n",
    "                                    mld[jj,ii] = (-0.03 - b)/m\n",
    "                                    #plt.axhline(y=-mld[jj,ii],color='C3',linestyle=':')\n",
    "                                else:\n",
    "                                    # Curvy line, interpolate bottom top index and the depth below:\n",
    "                                    if inds_t[-1]+1 == nd:\n",
    "                                        mld[jj,ii] = dep_bnds[nd-1,1]\n",
    "                                    else:\n",
    "                                        m          = (sigma0_diff[inds_t[-1]+1,jj,ii] - sigma0_diff[inds_t[-1],jj,ii])/(depth[inds_t[-1]+1] - depth[inds_t[-1]])\n",
    "                                        b          = sigma0_diff[inds_t[-1]+1,jj,ii] - m*depth[inds_t[-1]+1]\n",
    "                                        mld[jj,ii] = (-0.03 - b)/m\n",
    "                                    #plt.axhline(y=-mld[jj,ii],color='C6',linestyle=':')\n",
    "\n",
    "                                \n",
    "                                \n",
    "                                \n",
    "                # Write to file:\n",
    "                ncid = Dataset(outfile,'w')\n",
    "                \n",
    "                # coordinates:\n",
    "                ncid.createDimension('lat'  ,len(lat))\n",
    "                ncid.createDimension('lon'  ,len(lon))\n",
    "                ncid.createDimension('bnds' ,2)\n",
    "                ncid.createDimension('time' ,None)\n",
    "\n",
    "                # variables:\n",
    "                ncid.createVariable('lat'      ,'f8' ,('lat',))\n",
    "                ncid.createVariable('lon'      ,'f8' ,('lon',))\n",
    "                ncid.createVariable('time'     ,'f8' ,('time',))\n",
    "                ncid.createVariable('time_bnds','f8' ,('time','bnds',))\n",
    "                ncid.createVariable('mld'      ,'f8' ,('time','lat','lon',))\n",
    "                ncid.createVariable('mld_diff' ,'f8' ,('time','lat','lon',))\n",
    "                ncid.createVariable('mld_top'  ,'f8' ,('time','lat','lon',))\n",
    "                ncid.createVariable('mld_bot'  ,'f8' ,('time','lat','lon',))\n",
    "\n",
    "                # fill variables:\n",
    "                ncid.variables['lat'][:]            = lat\n",
    "                ncid.variables['lon'][:]            = lon\n",
    "                ncid.variables['time'][:]           = time\n",
    "                ncid.variables['time_bnds'][:]      = time_bnds\n",
    "                ncid.variables['mld'][0,:,:]      = mld\n",
    "                ncid.variables['mld_diff'][0,:,:] = mld_diff\n",
    "                ncid.variables['mld_top'][0,:,:]  = mld_top\n",
    "                ncid.variables['mld_bot'][0,:,:]  = mld_bot\n",
    "\n",
    "                # Close netcdf file:\n",
    "                ncid.close()"
   ]
  },
  {
   "cell_type": "code",
   "execution_count": null,
   "id": "6bc287df-cca8-4d2e-825c-faf3f672a9fc",
   "metadata": {},
   "outputs": [],
   "source": [
    "jj"
   ]
  },
  {
   "cell_type": "code",
   "execution_count": null,
   "id": "873cd9c0-acfc-4c2d-a95a-77d372d4a88f",
   "metadata": {},
   "outputs": [],
   "source": [
    "temp[:,jj,ii]"
   ]
  },
  {
   "cell_type": "code",
   "execution_count": null,
   "id": "d8970080-ffb4-4346-ab3b-8b62fc53be13",
   "metadata": {},
   "outputs": [],
   "source": [
    "sal[:,jj,ii]"
   ]
  },
  {
   "cell_type": "code",
   "execution_count": null,
   "id": "6397aae3-bb40-402f-9187-dc6de1125ebf",
   "metadata": {
    "scrolled": true
   },
   "outputs": [],
   "source": [
    "plt.plot(temp[:,jj,ii],-depth)"
   ]
  },
  {
   "cell_type": "code",
   "execution_count": null,
   "id": "619e031f-dc2b-44bf-94a5-116223d2105b",
   "metadata": {},
   "outputs": [],
   "source": [
    "cmap = plt.get_cmap('seismic',15)\n",
    "plt.pcolormesh(mld[::,::],vmin=0)\n",
    "plt.colorbar()"
   ]
  },
  {
   "cell_type": "code",
   "execution_count": null,
   "id": "692dc346-29fe-4f11-aff4-1bb76531021c",
   "metadata": {},
   "outputs": [],
   "source": [
    "np.nanmin(mld_diff)"
   ]
  },
  {
   "cell_type": "code",
   "execution_count": null,
   "id": "5dd15994-66df-40b5-a390-04c8943e4556",
   "metadata": {},
   "outputs": [],
   "source": [
    "np.where(temp_diff1[2:,jj,ii] < -0.2)[0]"
   ]
  },
  {
   "cell_type": "code",
   "execution_count": null,
   "id": "0409c14e-f77b-4db9-8315-70ba3b8aed83",
   "metadata": {},
   "outputs": [],
   "source": [
    "inds_b"
   ]
  },
  {
   "cell_type": "code",
   "execution_count": null,
   "id": "9cca7d30-7d29-4c3c-a185-a0b8093a2223",
   "metadata": {},
   "outputs": [],
   "source": [
    "plt.plot(temp_diff1[2:,jj,ii],-depth[2:])\n",
    "plt.plot(temp_diff2[2:,jj,ii],-depth[2:],marker='o')\n",
    "plt.axvline(x=-0.2,color='k')\n",
    "plt.axvline(x=0,color='k',linestyle='--')\n",
    "plt.axhline(y=-depth[13],color='C3')\n",
    "plt.axhline(y=-depth[12],color='C2')\n",
    "plt.ylim([-100,0])\n",
    "plt.xlim([-2,2])"
   ]
  },
  {
   "cell_type": "code",
   "execution_count": null,
   "id": "26cc680f-43a3-46dd-8cbe-f834c73ca3d4",
   "metadata": {},
   "outputs": [],
   "source": [
    "temp_diff2[2:,jj,ii]"
   ]
  },
  {
   "cell_type": "code",
   "execution_count": null,
   "id": "0bbab6bc-5a3d-43fc-8a59-7525888db964",
   "metadata": {},
   "outputs": [],
   "source": [
    "lat[jj]"
   ]
  },
  {
   "cell_type": "code",
   "execution_count": null,
   "id": "eca2a072-ed4b-4157-85da-8d1a4b2608e9",
   "metadata": {},
   "outputs": [],
   "source": [
    "lon[ii]"
   ]
  },
  {
   "cell_type": "code",
   "execution_count": null,
   "id": "a8430e13-24fb-448d-90c0-59a6c9440041",
   "metadata": {},
   "outputs": [],
   "source": [
    "temp_diff1[0,jj,ii]"
   ]
  },
  {
   "cell_type": "code",
   "execution_count": null,
   "id": "e9ad6d35-6d6a-438b-af1d-eec16b342a7c",
   "metadata": {},
   "outputs": [],
   "source": [
    "inds = np.where(temp_diff1[2:,0,0] < -0.2)"
   ]
  },
  {
   "cell_type": "code",
   "execution_count": null,
   "id": "3304eb03-0b33-4731-9a8c-54960a2484e4",
   "metadata": {},
   "outputs": [],
   "source": [
    "np.squeeze(inds) + 2"
   ]
  },
  {
   "cell_type": "code",
   "execution_count": null,
   "id": "ea59fc7d-e611-4a74-8194-f1782a2dd100",
   "metadata": {},
   "outputs": [],
   "source": [
    "temp_diff1[0,0,0].mask"
   ]
  },
  {
   "cell_type": "code",
   "execution_count": null,
   "id": "9027b9ec-7395-43de-8f68-19a6e1c2e2ee",
   "metadata": {},
   "outputs": [],
   "source": [
    "np.where(temp_diff2[:,15,230] < -0.2)\n",
    "np.where(temp_diff2[:,15,230] > -0.2)"
   ]
  },
  {
   "cell_type": "code",
   "execution_count": null,
   "id": "a862794e-6d0b-4e88-b7df-1300250724f0",
   "metadata": {},
   "outputs": [],
   "source": [
    "plt.plot(temp_diff1[:,15,230],-depth)\n",
    "plt.plot(temp_diff2[:,15,230],-depth,marker='o')\n",
    "plt.plot(temp_diff2[:,15,230]-temp_diff1[:,15,230],-depth)\n",
    "plt.axvline(x=-0.2,color='k')\n",
    "plt.axvline(x=0,color='k',linestyle='--')\n",
    "plt.axhline(y=-depth[13],color='C3')\n",
    "plt.axhline(y=-depth[12],color='C2')\n",
    "plt.ylim([-200,0])"
   ]
  },
  {
   "cell_type": "code",
   "execution_count": null,
   "id": "6e5bad05-bb89-48bc-b0fe-0ce161cbb4a4",
   "metadata": {},
   "outputs": [],
   "source": []
  },
  {
   "cell_type": "code",
   "execution_count": null,
   "id": "68dc34b6-356b-4ca3-bbf0-e32907a9cd8f",
   "metadata": {},
   "outputs": [],
   "source": [
    "np.shape(temp_diff1)"
   ]
  },
  {
   "cell_type": "code",
   "execution_count": null,
   "id": "c32ac77d-f361-48f2-9186-3db56ae0894e",
   "metadata": {},
   "outputs": [],
   "source": [
    "plt.pcolormesh(temp_diff1[2,:,:])\n",
    "plt.plot([ii,ii],[jj,jj],marker='.',color='C3')\n",
    "plt.colorbar()"
   ]
  },
  {
   "cell_type": "code",
   "execution_count": null,
   "id": "398b846b-a841-4128-aa73-c660958204a1",
   "metadata": {},
   "outputs": [],
   "source": [
    "plt.pcolormesh(temp_diff2[2,:,:])\n",
    "plt.colorbar()"
   ]
  },
  {
   "cell_type": "code",
   "execution_count": null,
   "id": "41ae755a-b0ee-44cc-8fc8-646cbd778e7e",
   "metadata": {},
   "outputs": [],
   "source": []
  }
 ],
 "metadata": {
  "kernelspec": {
   "display_name": "canari-sprint",
   "language": "python",
   "name": "canari-sprint"
  },
  "language_info": {
   "codemirror_mode": {
    "name": "ipython",
    "version": 3
   },
   "file_extension": ".py",
   "mimetype": "text/x-python",
   "name": "python",
   "nbconvert_exporter": "python",
   "pygments_lexer": "ipython3",
   "version": "3.10.12"
  }
 },
 "nbformat": 4,
 "nbformat_minor": 5
}
