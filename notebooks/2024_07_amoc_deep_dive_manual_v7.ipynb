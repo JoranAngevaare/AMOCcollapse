{
 "cells": [
  {
   "cell_type": "code",
   "execution_count": 1,
   "id": "7a333fae",
   "metadata": {
    "ExecuteTime": {
     "end_time": "2024-09-30T12:18:29.484656Z",
     "start_time": "2024-09-30T12:18:28.136552Z"
    }
   },
   "outputs": [
    {
     "name": "stdout",
     "output_type": "stream",
     "text": [
      "go\n",
      "Hi there, have a great and productive day :)\n"
     ]
    }
   ],
   "source": [
    "print('go')\n",
    "import optim_esm_tools as oet\n",
    "%run ../amoc_collapse_scripts/imports.py\n",
    "from amoc_collapse_scripts import amoc_deep_dive, helper_scripts, amoc_deep_dive_group\n",
    "from amoc_collapse_scripts.amoc_deep_dive import mask_to_full_mask"
   ]
  },
  {
   "cell_type": "code",
   "execution_count": 2,
   "id": "a47db145",
   "metadata": {
    "ExecuteTime": {
     "end_time": "2024-09-30T12:10:54.614575Z",
     "start_time": "2024-09-30T12:10:54.610496Z"
    }
   },
   "outputs": [],
   "source": [
    "base = \"/data/volume_2/tipping_figures/2024_05_07_amoc/\"\n",
    "config = amoc_deep_dive_group.read_config(f'{base}/config.json')\n",
    "oet.config.config.read_dict(config['config_update'])\n",
    "\n",
    "figures_folder = os.path.join(base, 'paper', 'v2024.09.05_paper')\n",
    "save_kw = dict(save_in=figures_folder, dpi=300, file_types=('png',))\n",
    "\n",
    "smoother = partial(oet.analyze.tools.smooth_lowess, window=50)\n",
    "\n",
    "smoother = lambda v, **kw: oet.analyze.tools.smooth_lowess(\n",
    "    scipy.signal.savgol_filter(v,10,1),\n",
    "    window=50, **kw)"
   ]
  },
  {
   "cell_type": "code",
   "execution_count": 3,
   "id": "40980801",
   "metadata": {
    "ExecuteTime": {
     "end_time": "2024-09-30T12:10:54.621581Z",
     "start_time": "2024-09-30T12:10:54.615845Z"
    }
   },
   "outputs": [],
   "source": [
    "def gausian_filter(y, n=100, mu=7.5):\n",
    "    b = gaussian(n, mu)\n",
    "    gauss = scipy.ndimage.convolve1d(y, b / b.sum())\n",
    "    return gauss\n",
    "\n",
    "smoother = gausian_filter"
   ]
  },
  {
   "cell_type": "code",
   "execution_count": 4,
   "id": "5d22af28",
   "metadata": {
    "ExecuteTime": {
     "end_time": "2024-09-30T12:10:54.629268Z",
     "start_time": "2024-09-30T12:10:54.623131Z"
    }
   },
   "outputs": [],
   "source": [
    "oet.utils.setup_plt()"
   ]
  },
  {
   "cell_type": "code",
   "execution_count": 5,
   "id": "288a41c6",
   "metadata": {
    "ExecuteTime": {
     "end_time": "2024-09-30T12:10:54.634442Z",
     "start_time": "2024-09-30T12:10:54.631463Z"
    }
   },
   "outputs": [],
   "source": [
    "folder_dict: ty.Dict[str, str] = amoc_deep_dive_group.read_config(config['read_from'])"
   ]
  },
  {
   "cell_type": "code",
   "execution_count": 6,
   "id": "a1155bd9",
   "metadata": {
    "ExecuteTime": {
     "end_time": "2024-09-30T12:10:54.639657Z",
     "start_time": "2024-09-30T12:10:54.635668Z"
    }
   },
   "outputs": [],
   "source": [
    "for l in sorted(folder_dict):\n",
    "    if folder_dict[l].get('folder_siconca') and not folder_dict[l].get('folder_siconc'):\n",
    "        folder_dict[l]['folder_siconc']=folder_dict[l].get('folder_siconca')"
   ]
  },
  {
   "cell_type": "code",
   "execution_count": 7,
   "id": "bf672007",
   "metadata": {
    "ExecuteTime": {
     "end_time": "2024-09-30T12:10:54.644543Z",
     "start_time": "2024-09-30T12:10:54.641285Z"
    }
   },
   "outputs": [],
   "source": [
    "label = 'MRI-ESM2-0 ssp126 r1i1p1f1'\n",
    "label = 'UKESM1-0-LL ssp126 r4i1p1f2'"
   ]
  },
  {
   "cell_type": "code",
   "execution_count": 8,
   "id": "45b51d7d",
   "metadata": {
    "ExecuteTime": {
     "end_time": "2024-09-30T12:10:54.649536Z",
     "start_time": "2024-09-30T12:10:54.645833Z"
    }
   },
   "outputs": [],
   "source": [
    "rename_dict = {'Greenland Sea': 'Nordic Seas', \n",
    "               'Norwegian Sea': 'Nordic Seas',\n",
    "               'North Atlantic Ocean': 'Irminger Sea',\n",
    "               'Baffin Bay': 'Labrador Sea',\n",
    "               'Davis Strait': 'Labrador Sea'}"
   ]
  },
  {
   "cell_type": "code",
   "execution_count": null,
   "id": "23dca5cb",
   "metadata": {
    "ExecuteTime": {
     "start_time": "2024-09-30T12:10:44.662Z"
    },
    "scrolled": true
   },
   "outputs": [
    {
     "data": {
      "application/vnd.jupyter.widget-view+json": {
       "model_id": "b91ee15368f143b2b63d6c187fee0ffb",
       "version_major": 2,
       "version_minor": 0
      },
      "text/plain": [
       "  0%|          | 0/26 [00:00<?, ?it/s]"
      ]
     },
     "metadata": {},
     "output_type": "display_data"
    },
    {
     "name": "stdout",
     "output_type": "stream",
     "text": [
      "------------ACCESS-CM2 ssp126 r1i1p1f1--------------\n",
      "Nordic Seas 50\n",
      "Nordic Seas 140\n",
      "Irminger Sea 243\n",
      "------------ACCESS-CM2 ssp585 r1i1p1f1--------------\n",
      "Nordic Seas 50\n",
      "Nordic Seas 140\n",
      "Irminger Sea 243\n",
      "------------ACCESS-ESM1-5 ssp126 r1i1p1f1--------------\n"
     ]
    }
   ],
   "source": [
    "result_bucket = {}\n",
    "for label in oet.utils.tqdm(sorted(folder_dict)):\n",
    "\n",
    "    print(f'------------{label}--------------')\n",
    "    ds_mlotst = oet.read_ds(\n",
    "            folder_dict[label][\"folder_mlotst\"],\n",
    "            add_history=True,\n",
    "            max_time=None,\n",
    "        ).load()\n",
    "    amoc_deep_dive.set_time_int(ds_mlotst);\n",
    "\n",
    "    result_bucket[label] = amoc_deep_dive.plot_mlotst_cells_full_ret(\n",
    "            ds_mlotst,\n",
    "            reference_depth=650,\n",
    "            smooth_reference=True,\n",
    "            min_cells=25,\n",
    "            max_cells=200,\n",
    "            show=False,\n",
    "            label=label,\n",
    "            field='mlotst_march',\n",
    "            year_sel = slice(1965, 1995),\n",
    "            mean_or_max='mean',\n",
    "            _split_kw=dict(min_cells=5),\n",
    "        rename_dict=rename_dict\n",
    "            )\n"
   ]
  },
  {
   "cell_type": "code",
   "execution_count": null,
   "id": "42113f58",
   "metadata": {
    "ExecuteTime": {
     "start_time": "2024-09-30T12:10:44.663Z"
    }
   },
   "outputs": [],
   "source": [
    "_cc = oet.utils.get_plt_colors()\n",
    "del _cc[1:4]\n",
    "global_color_dict = {v:k for k,v in zip(_cc, ['Nordic Seas', \n",
    "'Irminger Sea',\n",
    "'Labrador Sea',])}\n",
    "global_color_dict"
   ]
  },
  {
   "cell_type": "code",
   "execution_count": null,
   "id": "9c23390c",
   "metadata": {
    "ExecuteTime": {
     "start_time": "2024-09-30T12:10:44.664Z"
    }
   },
   "outputs": [],
   "source": [
    "def plot_result_buckets(res_0, res_1=None, ax=None, ax2=None, projection='LambertAzimuthalEqualArea', **kw):\n",
    "\n",
    "    plt.figure(figsize=(10,10))\n",
    "    a = 2,1\n",
    "    _cc = oet.utils.get_plt_colors()\n",
    "    del _cc[1:4]\n",
    "    _cc.append(_cc.pop(2))\n",
    "    xmin, xmax = -70, 5\n",
    "    ymin, ymax = 33, 81\n",
    "    if ax is None:\n",
    "        ax = plt.gcf().add_subplot(\n",
    "            *a,1,projection=oet.plotting.plot.get_cartopy_projection(projection=projection, \n",
    "                                                                    central_longitude=(xmin+xmax)/2,\n",
    "                                                                     central_latitude=(ymin+ymax)/2)\n",
    "        )\n",
    "        ax.set_extent([xmin,xmax,ymin,ymax])\n",
    "        ax.add_feature(cfeature.NaturalEarthFeature('physical', 'land', '110m', edgecolor='k', facecolor='gainsboro', zorder=2))\n",
    "\n",
    "        ax.add_feature(cfeature.COASTLINE)\n",
    "        gl = ax.gridlines(draw_labels=True, zorder=1)\n",
    "        gl.top_labels=False\n",
    "        gl.right_labels=False\n",
    "\n",
    "    single_sets = []\n",
    "    for idx in np.unique(res_0.region_map.values):\n",
    "        if idx == 0:\n",
    "            continue\n",
    "        single_sets.append(res_0.region_map == idx)\n",
    "    single_sets = sorted(\n",
    "            single_sets,\n",
    "            key=lambda x: partial(amoc_deep_dive.median_lat_lon, ds=res_0.full_ds)(x.values)[1],\n",
    "        )\n",
    "\n",
    "    res_0.da_global.plot(\n",
    "        ax=ax, \n",
    "        transform=oet.plotting.plot.get_cartopy_transform(),\n",
    "        **{\n",
    "            **dict(vmin=0,\n",
    "                   vmax=res_0.da_basis.max(),\n",
    "                   cbar_kwargs=dict(label=f'Mixed layer depth in March [m] {res_0.year_str}')\n",
    "                  ),\n",
    "            **kw\n",
    "        }\n",
    "    )\n",
    "    for s,c in zip(single_sets, res_0.labels):\n",
    "        plt.sca(ax)\n",
    "        amoc_deep_dive.overlay_contour((s>0).astype(np.float32), \n",
    "                                       levels=[0.5,1.5], linewidths=2, \n",
    "                                       colors=global_color_dict[res_0.region_names[c]],\n",
    "                                       zorder=2,\n",
    "                                      transform=oet.plotting.plot.get_cartopy_transform())\n",
    "\n",
    "    for label, coord in zip(res_0.labels, res_0.median_coords):\n",
    "        x,y=coord[::-1]\n",
    "        \n",
    "        ax.text(x,y, res_0.region_names[label][:1],\n",
    "                c=global_color_dict[res_0.region_names[label]],\n",
    "                ha=\"center\", va=\"center\", \n",
    "                fontsize='large',\n",
    "                weight='bold',\n",
    "                zorder=2,\n",
    "                transform=oet.plotting.plot.get_cartopy_transform()\n",
    "               )\n",
    "    ax2 = ax2 or plt.gcf().add_subplot(*a,2,)\n",
    "    \n",
    "    for label, y in zip(res_0.labels, res_0.averaged_values):\n",
    "        _id = res_0.label.split()[1] if not 'ssp245' in res_0.label else res_0.label.split()[2]\n",
    "        ax2.plot(res_0.timestamps, smoother(y),\n",
    "                 c=global_color_dict[res_0.region_names[label]], label=f'{res_0.region_names[label]} - {_id}')\n",
    "    if res_1 is not None:\n",
    "        for label, y in zip(res_1.labels, res_1.averaged_values):\n",
    "            _id = res_1.label.split()[1] if not 'ssp245' in res_1.label else res_1.label.split()[2]\n",
    "            ax2.plot(res_1.timestamps, smoother(y), \n",
    "                     c=global_color_dict[res_0.region_names[label]], ls= '--', label=f'{_id}')\n",
    "    ax2.set_ylabel(f'Mixed layer depth in March [m] ')\n",
    "    ax2.legend(loc='best', ncol= 1 + (res_1 is not None))\n",
    "   \n",
    "    plt.suptitle(bake_title(res_0, res_1), y=0.93)"
   ]
  },
  {
   "cell_type": "code",
   "execution_count": null,
   "id": "82b02510",
   "metadata": {
    "ExecuteTime": {
     "start_time": "2024-09-30T12:10:44.664Z"
    }
   },
   "outputs": [],
   "source": [
    "def bake_title(res_0, res_1):\n",
    "    title = res_0.label.split()\n",
    "    if res_1 is not None:\n",
    "        if res_1.label.split()[2] != title[2]:\n",
    "            title[2] = ', '.join(sorted([title[2] , res_1.label.split()[2]]))\n",
    "        else:\n",
    "            title[1] = ', '.join(sorted([title[1] , res_1.label.split()[1]]))\n",
    "    return ' '.join(title)"
   ]
  },
  {
   "cell_type": "code",
   "execution_count": null,
   "id": "2f791d5d",
   "metadata": {
    "ExecuteTime": {
     "start_time": "2024-09-30T12:10:44.665Z"
    }
   },
   "outputs": [],
   "source": [
    "group_labels = [\n",
    "\n",
    "                ['ACCESS-CM2 ssp126 r1i1p1f1',  'ACCESS-CM2 ssp585 r1i1p1f1',],\n",
    "                ['CESM2-WACCM ssp126 r1i1p1f1', 'CESM2-WACCM ssp585 r1i1p1f1'],\n",
    "                ['CanESM5 ssp126 r1i1p1f1', 'CanESM5 ssp585 r1i1p1f1'],\n",
    "                ['GISS-E2-1-G ssp126 r1i1p1f2', 'GISS-E2-1-G ssp585 r1i1p1f2',],\n",
    "                ['GISS-E2-1-G ssp245 r1i1p1f2', 'GISS-E2-1-G ssp245 r3i1p1f2',],\n",
    "                ['IPSL-CM6A-LR ssp126 r1i1p1f1', 'IPSL-CM6A-LR ssp585 r1i1p1f1',],\n",
    "                ['MRI-ESM2-0 ssp126 r1i1p1f1', 'MRI-ESM2-0 ssp585 r1i1p1f1',],\n",
    "                ['UKESM1-0-LL ssp126 r4i1p1f2','UKESM1-0-LL ssp585 r4i1p1f2'],\n",
    "                ['NorESM2-MM ssp126 r1i1p1f1', 'NorESM2-MM ssp585 r1i1p1f1',],\n",
    "                ['ACCESS-ESM1-5 ssp126 r1i1p1f1', 'ACCESS-ESM1-5 ssp585 r1i1p1f1',], \n",
    "                ['GISS-E2-1-G ssp126 r1i1p1f2','GISS-E2-1-G ssp585 r1i1p1f2',],\n",
    "]\n",
    "group_labels = [g[::-1] for g in group_labels]"
   ]
  },
  {
   "cell_type": "code",
   "execution_count": null,
   "id": "490d62dd",
   "metadata": {
    "ExecuteTime": {
     "start_time": "2024-09-30T12:10:44.666Z"
    }
   },
   "outputs": [],
   "source": [
    "list(enumerate(group_labels))"
   ]
  },
  {
   "cell_type": "code",
   "execution_count": null,
   "id": "83852ad9",
   "metadata": {
    "ExecuteTime": {
     "start_time": "2024-09-30T12:10:44.667Z"
    }
   },
   "outputs": [],
   "source": [
    "def add_cart_ax(a,idx):\n",
    "    xmin, xmax = -70, 5\n",
    "    ymin, ymax = 33, 81\n",
    "    projection='LambertAzimuthalEqualArea'\n",
    "    ax = plt.gcf().add_subplot(\n",
    "        *a,idx,projection=oet.plotting.plot.get_cartopy_projection(projection=projection, \n",
    "                                                            central_longitude=(xmin+xmax)/2,\n",
    "                                                             central_latitude=(ymin+ymax)/2)\n",
    ")\n",
    "    ax.set_extent([xmin,xmax,ymin,ymax])\n",
    "    ax.add_feature(cfeature.NaturalEarthFeature('physical', 'land', '110m', edgecolor='k', facecolor='gainsboro', zorder=2))\n",
    "    ax.add_feature(cfeature.COASTLINE)\n",
    "    gl = ax.gridlines(draw_labels=True, zorder=1)\n",
    "    gl.top_labels=False\n",
    "    gl.right_labels=False\n",
    "    \n",
    "    return ax"
   ]
  },
  {
   "cell_type": "code",
   "execution_count": null,
   "id": "83fc336a",
   "metadata": {
    "ExecuteTime": {
     "start_time": "2024-09-30T12:10:44.667Z"
    }
   },
   "outputs": [],
   "source": [
    "def add_cart_ax(a,idx):\n",
    "    xmin, xmax = -70, 5\n",
    "    ymin, ymax = 33, 81\n",
    "    projection='LambertAzimuthalEqualArea'\n",
    "    ax = plt.gcf().add_subplot(\n",
    "        *a,idx,projection=oet.plotting.plot.get_cartopy_projection(projection=projection, \n",
    "                                                            central_longitude=(xmin+xmax)/2,\n",
    "                                                             central_latitude=(ymin+ymax)/2)\n",
    ")\n",
    "    ax.set_extent([xmin,xmax,ymin,ymax])\n",
    "    ax.add_feature(cfeature.NaturalEarthFeature('physical', 'land', '110m', edgecolor='k', facecolor='gainsboro', zorder=2))\n",
    "    ax.add_feature(cfeature.COASTLINE)\n",
    "    gl = ax.gridlines(draw_labels=True, zorder=1)\n",
    "    gl.top_labels=False\n",
    "    gl.right_labels=False\n",
    "    \n",
    "    return ax"
   ]
  },
  {
   "cell_type": "code",
   "execution_count": null,
   "id": "db36c0a6",
   "metadata": {
    "ExecuteTime": {
     "start_time": "2024-09-30T12:10:44.668Z"
    }
   },
   "outputs": [],
   "source": [
    "fig_name = 'figure_2'"
   ]
  },
  {
   "cell_type": "code",
   "execution_count": null,
   "id": "ba003ce1",
   "metadata": {
    "ExecuteTime": {
     "start_time": "2024-09-30T12:10:44.668Z"
    },
    "scrolled": false
   },
   "outputs": [],
   "source": [
    "a=3,2\n",
    "\n",
    "xmin, xmax = -70, 5\n",
    "ymin, ymax = 33, 81\n",
    "projection='LambertAzimuthalEqualArea'\n",
    "map_kw = dict(projection=oet.plotting.plot.get_cartopy_projection(projection=projection, \n",
    "                                                                  central_longitude=(xmin+xmax)/2,\n",
    "                                                                  central_latitude=(ymin+ymax)/2))\n",
    "\n",
    "fig, axes = plt.subplot_mosaic('ab\\n..\\nll\\n..\\ncd',\n",
    "                               figsize=(14,12),\n",
    "                               height_ratios=[1.02, 0.1, 0.05, 0.3,1],\n",
    "                               gridspec_kw=dict(hspace=0.025, wspace=0.025),\n",
    "                               per_subplot_kw=dict(a=map_kw, b=map_kw))\n",
    "\n",
    "cmap = mpl.cm.viridis\n",
    "kw = dict(vmin=0, vmax=3000, add_colorbar=False, cmap=cmap,cbar_kwargs=None)\n",
    "norm = mpl.colors.Normalize(vmin=kw['vmin'], vmax=kw['vmax'])\n",
    "\n",
    "for k in 'ab':\n",
    "    ax = axes[k]\n",
    "    ax.set_extent([xmin,xmax,ymin,ymax])\n",
    "    ax.add_feature(cfeature.NaturalEarthFeature('physical', 'land', '110m', \n",
    "                                                edgecolor='k', facecolor='gainsboro', zorder=2))\n",
    "    ax.add_feature(cfeature.COASTLINE)\n",
    "    gl = ax.gridlines(draw_labels=True, zorder=1)\n",
    "    gl.top_labels=False\n",
    "    gl.right_labels=False\n",
    "\n",
    "\n",
    "cb1 = mpl.colorbar.ColorbarBase(axes['l'], \n",
    "                                cmap=cmap,\n",
    "                                norm=norm,\n",
    "                                orientation='horizontal',)\n",
    "\n",
    "axes_left=[axes['a'], axes['c']]\n",
    "axes_right=[axes['b'], axes['d']]\n",
    "\n",
    "ax = axes_right[0]\n",
    "ax._gridliners[0].right_labels = True\n",
    "ax._gridliners[0].left_labels = False\n",
    "ax = axes_right[1]\n",
    "ax.yaxis.tick_right()\n",
    "ax.yaxis.set_label_position(\"right\")\n",
    "\n",
    "g = group_labels[6]\n",
    "res_0 = result_bucket[g[0]]\n",
    "res_1 = result_bucket[g[1]]\n",
    "\n",
    "ax, ax2 = axes_left\n",
    "plt.sca(ax)\n",
    "plot_result_buckets(res_0,res_1, ax=ax, ax2=ax2, **kw )\n",
    "\n",
    "title = bake_title(res_0, res_1)\n",
    "axes_left[0].set_title(title.split()[0])\n",
    "\n",
    "g = group_labels[7]\n",
    "res_0 = result_bucket[g[0]]\n",
    "res_1 = result_bucket[g[1]]\n",
    "## Change the position of the label\n",
    "res_0 = amoc_deep_dive.MlotstRegion(**res_0.__dict__.copy())\n",
    "cc = list(res_0.median_coords.copy())\n",
    "cc[1]  = (55, -44)\n",
    "res_0.median_coords = tuple(cc)\n",
    "\n",
    "ax, ax2 = axes_right\n",
    "plt.sca(ax)\n",
    "plot_result_buckets(res_0,res_1, ax=ax, ax2=ax2, **kw)\n",
    "title = bake_title(res_0, res_1)\n",
    "axes_right[0].set_title(title.split()[0])\n",
    "\n",
    "\n",
    "ax_l=axes_left[1]\n",
    "ax_r=axes_right[1]\n",
    "ax_r.get_legend().set_visible(False) \n",
    "ax_r.set_ylabel('')\n",
    "\n",
    "ax_l.legend(**oet.utils.legend_kw(\n",
    "    bbox_to_anchor=(0, 1.02, 2*1.0125, 0.32),\n",
    "    ncol=6, \n",
    "    handlelength=1.5,\n",
    "    labelspacing=0.3, \n",
    "    handletextpad=0.3,\n",
    "    columnspacing=0.8,\n",
    "    borderpad=0.2,\n",
    "))\n",
    "y_lims = np.array([ax.get_ylim() for ax in [ax_l, ax_r]])\n",
    "x_lims = np.array([ax.get_xlim() for ax in [ax_l, ax_r]])\n",
    "\n",
    "y_lim = np.min(y_lims), np.max(y_lims)\n",
    "x_lim = np.min(x_lims), np.max(x_lims)\n",
    "\n",
    "for ax in ax_l, ax_r:\n",
    "    ax.set_ylim(0, y_lim[1])\n",
    "    ax.set_xlim(*x_lim)\n",
    "    \n",
    "for k in 'abcd':\n",
    "    axes[k].text(0.05,0.95,f'({k})',va='top', transform=axes[k].transAxes)\n",
    "plt.suptitle(f'Convective regions in {group_labels[6][0].split()[0]} and {group_labels[7][0].split()[0]}', y=0.95)\n",
    "cb1.set_label(f'Mixed layer depth in March [m] {res_0.year_str}')\n",
    "oet.utils.save_fig(name=f'{group_labels[6][0].split()[0]} and {group_labels[7][0].split()[0]}',\n",
    "                   sub_dir=fig_name, \n",
    "                   **save_kw)\n",
    "plt.show()"
   ]
  },
  {
   "cell_type": "code",
   "execution_count": null,
   "id": "1bf96f57",
   "metadata": {
    "ExecuteTime": {
     "start_time": "2024-09-30T12:10:44.669Z"
    }
   },
   "outputs": [],
   "source": [
    "for i, g in enumerate(group_labels):\n",
    "    if i == 4:\n",
    "        continue\n"
   ]
  },
  {
   "cell_type": "code",
   "execution_count": null,
   "id": "fe3a8b8e",
   "metadata": {
    "ExecuteTime": {
     "start_time": "2024-09-30T12:10:44.670Z"
    }
   },
   "outputs": [],
   "source": [
    "def new_res_bucket(res_0, res_1=None):\n",
    "\n",
    "    xmin, xmax = -70, 5\n",
    "    ymin, ymax = 33, 81\n",
    "    projection='LambertAzimuthalEqualArea'\n",
    "    map_kw = dict(projection=oet.plotting.plot.get_cartopy_projection(projection=projection, \n",
    "                                                                      central_longitude=(xmin+xmax)/2,\n",
    "                                                                      central_latitude=(ymin+ymax)/2))\n",
    "\n",
    "    fig, axes = plt.subplot_mosaic('a\\nb',\n",
    "                                   figsize=(10,12),\n",
    "                                   height_ratios=[2,1],\n",
    "                                   gridspec_kw=dict(hspace=0.1, wspace=0.025),\n",
    "                                   per_subplot_kw=dict(a=map_kw))\n",
    "\n",
    "    cmap = mpl.cm.viridis\n",
    "    kw = dict(add_colorbar=True, cmap=cmap,cbar_kwargs=dict(orientation='horizontal',\n",
    "                                                            aspect=40,\n",
    "    #                                                         shrink=0.5,\n",
    "                                                            pad=0.07,\n",
    "                                                            label=f'Mixed layer depth in March [m] {res_0.year_str}'))\n",
    "    for k in 'a':\n",
    "        ax = axes[k]\n",
    "        off=10\n",
    "        ax.set_extent([xmin-off,xmax+off,ymin,ymax])\n",
    "        ax.add_feature(cfeature.NaturalEarthFeature('physical', 'land', '110m', \n",
    "                                                    edgecolor='k', facecolor='gainsboro', zorder=2))\n",
    "        ax.add_feature(cfeature.COASTLINE)\n",
    "        gl = ax.gridlines(draw_labels=True, zorder=1)\n",
    "        gl.top_labels=False\n",
    "        gl.right_labels=False\n",
    "    plot_result_buckets(res_0 = res_0, res_1 = res_1, ax=axes['a'], ax2=axes['b'], **kw)\n",
    "    axes['b'].legend(**oet.utils.legend_kw(\n",
    "        ncol=3, \n",
    "        handlelength=1.5,\n",
    "        labelspacing=0.3, \n",
    "        handletextpad=0.3,\n",
    "        columnspacing=0.8,\n",
    "        borderpad=0.2,))\n",
    "    axes['a'].set_title(f'Convective regions in {res_0.label.split()[0]}')\n",
    "    plt.suptitle('')"
   ]
  },
  {
   "cell_type": "code",
   "execution_count": null,
   "id": "b68bb121",
   "metadata": {
    "ExecuteTime": {
     "start_time": "2024-09-30T12:10:44.671Z"
    },
    "scrolled": false
   },
   "outputs": [],
   "source": [
    "fig_name = 'figure_s3'\n",
    "new_res_bucket(res_0 = result_bucket['GISS-E2-1-G ssp245 r1i1p1f2'])\n",
    "plt.gcf().axes[0].set_title(f'Convective regions in GISS-E2-1-G ssp245 r1i1p1f2')\n",
    "oet.utils.save_fig(name='GISS-E2-1-G_ssp245_r1i1p1f2', sub_dir=fig_name, **save_kw)\n",
    "new_res_bucket(res_0 = result_bucket['GISS-E2-1-G ssp245 r3i1p1f2'])\n",
    "plt.gcf().axes[0].set_title(f'Convective regions in GISS-E2-1-G ssp245 r3i1p1f2')\n",
    "oet.utils.save_fig(name='GISS-E2-1-G_ssp245_r3i1p1f2', sub_dir=fig_name, **save_kw)\n",
    "\n",
    "for i, g in enumerate(group_labels):\n",
    "    if i == 4:\n",
    "        continue\n",
    "    new_res_bucket(res_0 = result_bucket[g[0]], res_1 = result_bucket[g[1]])\n",
    "    oet.utils.save_fig(name=g[0].split()[0], sub_dir=fig_name, **save_kw)\n",
    "    "
   ]
  },
  {
   "cell_type": "code",
   "execution_count": null,
   "id": "5aa67a88",
   "metadata": {
    "ExecuteTime": {
     "start_time": "2024-09-30T12:10:44.672Z"
    }
   },
   "outputs": [],
   "source": [
    "def plot_extended_water_vars(res_0, res_1=None, axes=None, add_na=False, variables=('sos', 'tos',\n",
    "                                                                                'hfds', 'siconc')):\n",
    "    _cc = oet.utils.get_plt_colors()\n",
    "    del _cc[1:4]\n",
    "    _cc.append(_cc.pop(2))\n",
    "#     colors = {res_0.region_names[k]:c for k, c in zip(res_0.labels, _cc)}\n",
    "    colors = global_color_dict.copy()\n",
    "    if add_na:\n",
    "        colors['north_atlantic'] = oet.utils.get_plt_colors()[6]\n",
    "\n",
    "    ds_list = [\n",
    "        (oet.read_ds(folder_dict[res_0.label][f'folder_{v}'], max_time=None, add_history=True)\n",
    "        if folder_dict[res_0.label][f'folder_{v}'] else None)\n",
    "        for v in variables\n",
    "        \n",
    "    ]\n",
    "\n",
    "#     if res_1 is not None:\n",
    "    if axes is None:\n",
    "        _, axes = plt.subplots(len(ds_list),1, figsize=(12,16), sharex=True, gridspec_kw=dict(hspace=0.05))\n",
    "    \n",
    "    if add_na:\n",
    "        reg_labels = ['north_atlantic'] + list(res_0.region_names.values())\n",
    "        masks=[amoc_deep_dive._base_mask()] + res_0.masks\n",
    "    else:\n",
    "        reg_labels = res_0.region_names.values() #res_0.labels\n",
    "        masks=res_0.masks\n",
    "    extra_label = '' if res_1 is None else ' ' + res_0.label.split()[1]\n",
    "    plot_all_on_axes(\n",
    "        axes=axes,\n",
    "        ds_list=ds_list,\n",
    "        reg_labels=reg_labels,\n",
    "        masks=masks,\n",
    "        colors=colors,\n",
    "        extra_label=extra_label,\n",
    "    )\n",
    "    if res_1 is not None:\n",
    "        ds_list = [\n",
    "            (oet.read_ds(folder_dict[res_1.label][f'folder_{v}'], max_time=None, add_history=True)\n",
    "            if folder_dict[res_1.label][f'folder_{v}'] else None)\n",
    "            for v in variables\n",
    "        ]\n",
    "        extra_label = res_1.label.split()[1]\n",
    "        plot_all_on_axes(\n",
    "            axes=axes,\n",
    "            ds_list=ds_list,\n",
    "            reg_labels=reg_labels,\n",
    "            skip_reg_label=True,\n",
    "            masks=masks,\n",
    "            ls='--',\n",
    "            colors=colors,\n",
    "            extra_label=extra_label,\n",
    "        )\n",
    "        \n",
    "    plt.suptitle(bake_title(res_0, res_1), y=0.93+(0.02*(res_1 is not None)))\n",
    "    plt.sca(axes[0])\n",
    "    axes[0].legend(**oet.utils.legend_kw(ncol=len(reg_labels)))"
   ]
  },
  {
   "cell_type": "code",
   "execution_count": null,
   "id": "793de96e",
   "metadata": {
    "ExecuteTime": {
     "start_time": "2024-09-30T12:10:44.673Z"
    }
   },
   "outputs": [],
   "source": [
    "def add_secax_tos(ax=None, v_0=None, P_rev=1013, S_rev=35):\n",
    "    ax = ax or plt.gca()\n",
    "    low = -5\n",
    "    high = 40\n",
    "    dummy_t = np.linspace(low, high, int(1e5))\n",
    "    # Need to have dummy_e_x with large sampling\n",
    "    \n",
    "    if v_0 is not None:\n",
    "        dy = seawater.dens(S=S_rev, T=v_0, P=P_rev)\n",
    "        dens_due_to_temp = lambda x: seawater.dens(S=S_rev, T=x, P=P_rev) - dy\n",
    "    else:\n",
    "        dens_due_to_temp = lambda x: seawater.dens(S=S_rev, T=x, P=P_rev)\n",
    "    dummy_rho_x = dens_due_to_temp(dummy_t)\n",
    "\n",
    "\n",
    "    dens_func_inverse = scipy.interpolate.interp1d(dummy_rho_x, dummy_t, bounds_error=False, fill_value='extrapolate')\n",
    "\n",
    "    secax = ax.secondary_yaxis('right', functions=(dens_due_to_temp, dens_func_inverse))\n",
    "    if v_0 is not None:\n",
    "        secax.set_ylabel(f'$\\\\Delta\\\\rho_{{eq.}}$ for s={S_rev} [kg/m$^{-3}$]')\n",
    "    else:\n",
    "        secax.set_ylabel(f'$\\\\rho_{{eq.}}$ for s={S_rev} [kg/m$^{-3}$]')\n",
    "    \n",
    "def add_secax_sos(ax=None, v_0=None, P_rev=1013, T_rev=5):\n",
    "    ax = ax or plt.gca()\n",
    "    low = 20\n",
    "    high = 60\n",
    "    dummy_s = np.linspace(low, high, int(1e5))\n",
    "    # Need to have dummy_e_x with large sampling\n",
    "    if v_0 is not None:\n",
    "        dy = seawater.dens(S=v_0, T=T_rev, P=P_rev)\n",
    "        dens_due_to_sal = lambda x: seawater.dens(S=x, T=T_rev, P=P_rev) - dy\n",
    "    else:\n",
    "        dens_due_to_sal = lambda x: seawater.dens(S=x, T=T_rev, P=P_rev)\n",
    "    dummy_rho_x = dens_due_to_sal(dummy_s)\n",
    "    \n",
    "    dens_func_inverse = scipy.interpolate.interp1d(dummy_rho_x, dummy_s, bounds_error=False, fill_value='extrapolate')\n",
    "\n",
    "    secax = ax.secondary_yaxis('right', functions=(dens_due_to_sal, dens_func_inverse))\n",
    "    secax.set_ylabel(f'$\\\\rho_{{eq.}}$ at T={T_rev}$^\\circ$C [kg/m$^{-3}$]')\n",
    "    if v_0 is not None:\n",
    "        secax.set_ylabel(f'$\\\\Delta\\\\rho_{{eq.}}$ at T={T_rev}$^\\circ$C [kg/m$^{-3}$]')"
   ]
  },
  {
   "cell_type": "code",
   "execution_count": null,
   "id": "0baa8ac7",
   "metadata": {
    "ExecuteTime": {
     "start_time": "2024-09-30T12:10:44.674Z"
    }
   },
   "outputs": [],
   "source": [
    "def flip_hfds(ds):\n",
    "    if ds.variable_id != 'hfds':\n",
    "        return ds\n",
    "    ds = ds.copy()\n",
    "    \n",
    "    for v in list(ds.variables):\n",
    "        if v.startswith('hfds'):\n",
    "            ds[v].attrs.update(dict(short_name='Heat loss', units='$\\mathrm{W}/\\mathrm{m}^2$'))\n",
    "            ds[v] = -ds[v]\n",
    "    return ds"
   ]
  },
  {
   "cell_type": "code",
   "execution_count": null,
   "id": "83614fe9",
   "metadata": {
    "ExecuteTime": {
     "start_time": "2024-09-30T12:10:44.674Z"
    }
   },
   "outputs": [],
   "source": [
    "def plot_all_on_axes(axes, ds_list, reg_labels, masks, colors, extra_label=None, skip_reg_label=False, **kw,):\n",
    "\n",
    "    for ax, ds in zip(axes, ds_list):\n",
    "        if ds is None:\n",
    "            continue\n",
    "        amoc_deep_dive.set_time_int(ds)\n",
    "        update_water_budget_units(ds)\n",
    "        ds = flip_hfds(ds)\n",
    "        ax.set_ylabel(oet.plotting.plot.get_ylabel(ds))\n",
    "        \n",
    "        v_starts = []\n",
    "        v_ends = []\n",
    "        for reg, mask in zip(reg_labels,\n",
    "                             masks):\n",
    "            v = smoother(\n",
    "                        helper_scripts.weighted_mean_array(\n",
    "                            ds.where(amoc_deep_dive._base_mask(), drop=True).where(mask, drop=False),\n",
    "                            field=ds.variable_id,\n",
    "                        ),\n",
    "            )\n",
    "            label = ('' if skip_reg_label else str(reg)) + (extra_label if extra_label else '')\n",
    "            ax.plot(ds['time'].values,\n",
    "                    v,\n",
    "                    label=label,\n",
    "                    c=colors[reg],\n",
    "                    **kw\n",
    "                   )\n",
    "            v_starts.append(v[~np.isnan(v)][0])\n",
    "            v_ends.append(v[~np.isnan(v)][-1])\n",
    "        take = min if np.mean(v_ends) > np.mean(v_starts) else max\n",
    "        # don't add second left axis!\n",
    "        if ds.variable_id  == 'tos' and not ax.child_axes:\n",
    "            add_secax_tos(ax, v_0=take(v_starts))\n",
    "        # don't add second left axis!\n",
    "        if ds.variable_id  == 'sos' and not ax.child_axes:\n",
    "            add_secax_sos(ax, v_0=take(v_starts))"
   ]
  },
  {
   "cell_type": "code",
   "execution_count": null,
   "id": "a4b0eced",
   "metadata": {
    "ExecuteTime": {
     "start_time": "2024-09-30T12:10:44.675Z"
    }
   },
   "outputs": [],
   "source": [
    "# res_0 = result_bucket['ACCESS-CM2 ssp126 r1i1p1f1']\n",
    "# label = res_0.label\n",
    "\n",
    "\n",
    "# def update_water_budget_units(ds, add_label='$10^{-5}$', multiplyby=1e5):\n",
    "#     if ds.variable_id in ['wfo']:\n",
    "#         ...\n",
    "#     else:\n",
    "#         return ds\n",
    "#     for var in list(ds.variables):\n",
    "#         if var.startswith(ds.variable_id):\n",
    "#             units = ds[var].attrs.get('units')\n",
    "#             if add_label in units:\n",
    "#                 continue\n",
    "#             ds[var] = ds[var]*multiplyby\n",
    "#             ds[var].attrs.update(dict(units=add_label + units))\n",
    "#     return ds\n",
    "\n",
    "def update_water_budget_units(ds, change_to='mm/year', multiplyby=60*60*24*365):\n",
    "    if ds.variable_id in ['wfo', 'fsitherm', 'pr', 'evs', 'pr-evs', 'friver']:\n",
    "        ...\n",
    "    else:\n",
    "        return ds\n",
    "    for var in list(ds.variables):\n",
    "        if var.startswith(ds.variable_id):\n",
    "            units = ds[var].attrs.get('units')\n",
    "            if change_to in units:\n",
    "                continue\n",
    "            ds[var] = ds[var]*multiplyby\n",
    "            ds[var].attrs.update(dict(units=change_to))\n",
    "    return ds"
   ]
  },
  {
   "cell_type": "code",
   "execution_count": null,
   "id": "65c4c96c",
   "metadata": {
    "ExecuteTime": {
     "end_time": "2024-08-15T09:20:51.372316Z",
     "start_time": "2024-08-15T09:20:51.354108Z"
    }
   },
   "outputs": [],
   "source": []
  },
  {
   "cell_type": "code",
   "execution_count": null,
   "id": "950c5c31",
   "metadata": {
    "ExecuteTime": {
     "start_time": "2024-09-30T12:10:44.676Z"
    }
   },
   "outputs": [],
   "source": [
    "dict(oet.config.config['variable_label'].items())"
   ]
  },
  {
   "cell_type": "code",
   "execution_count": null,
   "id": "ec01310a",
   "metadata": {
    "ExecuteTime": {
     "start_time": "2024-09-30T12:10:44.677Z"
    },
    "scrolled": false
   },
   "outputs": [],
   "source": [
    "def plot_extended_vars_groups(labels, save_kw, show=True, **kw):\n",
    "    plot_extended_water_vars(res_0 = result_bucket[labels[0]],res_1 = result_bucket[labels[1]], **kw)\n",
    "    fig = plt.gcf()\n",
    "    \n",
    "    y_lims = [ax.get_ylim() for ax in fig.axes]\n",
    "    oet.plotting.plot._show(False)\n",
    "    for i, label in enumerate(labels):\n",
    "        plot_extended_water_vars(res_0 = result_bucket[label], **kw)\n",
    "        for ax, yl in zip(plt.gcf().axes, y_lims):\n",
    "            ax.set_ylim(*yl)\n",
    "        oet.utils.save_fig(label, **save_kw)\n",
    "        oet.plotting.plot._show(show)"
   ]
  },
  {
   "cell_type": "code",
   "execution_count": null,
   "id": "98ae10c5",
   "metadata": {
    "ExecuteTime": {
     "start_time": "2024-09-30T12:10:44.678Z"
    }
   },
   "outputs": [],
   "source": [
    "dict(oet.config.config['variable_label'].items())"
   ]
  },
  {
   "cell_type": "code",
   "execution_count": null,
   "id": "7e6fc716",
   "metadata": {
    "ExecuteTime": {
     "start_time": "2024-09-30T12:10:44.679Z"
    }
   },
   "outputs": [],
   "source": [
    "oet.config.config.read_dict(dict(variable_label=dict(tos='T', \n",
    "                                                     sos='Salinity',\n",
    "                                                     hfds='Heat loss', \n",
    "                                                     siconc='Sea-ice cover',\n",
    "                                                     siconca='Sea-ice cover')))"
   ]
  },
  {
   "cell_type": "code",
   "execution_count": null,
   "id": "544c1ee0",
   "metadata": {
    "ExecuteTime": {
     "start_time": "2024-09-30T12:10:44.679Z"
    }
   },
   "outputs": [],
   "source": [
    "wspace=0.3\n",
    "_, axes = plt.subplots(4,2, figsize=(16,14), sharex=True, gridspec_kw=dict(hspace=0.0, wspace=wspace))\n",
    "\n",
    "axes_left = axes[:, 0]\n",
    "axes_right = axes[:, 1]\n",
    "g = group_labels[6]\n",
    "res_0 = result_bucket[g[0]]\n",
    "res_1 = result_bucket[g[1]]\n",
    "plot_extended_water_vars(res_0,res_1, axes=axes_left)\n",
    "\n",
    "title = bake_title(res_0, res_1)\n",
    "axes_left[0].set_title(title.split()[0], y=1.15)\n",
    "\n",
    "g = group_labels[7]\n",
    "res_0 = result_bucket[g[0]]\n",
    "res_1 = result_bucket[g[1]]\n",
    "plot_extended_water_vars(res_0,res_1, axes=axes_right)\n",
    "title = bake_title(res_0, res_1)\n",
    "axes_right[0].set_title(title.split()[0], y=1.15)\n",
    "\n",
    "\n",
    "for ax_l, ax_r in zip(axes_left, axes_right):\n",
    "    y_lims = np.array([ax.get_ylim() for ax in [ax_l, ax_r]])\n",
    "    \n",
    "    y_lim = np.min(y_lims), np.max(y_lims)\n",
    "    \n",
    "    for ax in ax_l, ax_r:\n",
    "        ax.set_ylim(*y_lim)\n",
    "axes_right[0].get_legend().set_visible(False) \n",
    "axes_left[0].legend(**oet.utils.legend_kw(\n",
    "    bbox_to_anchor=(0, 1.02, 2+wspace, 0.32),\n",
    "    ncol=6, \n",
    "    handlelength=1.5,\n",
    "    labelspacing=0.3, \n",
    "    handletextpad=0.3,\n",
    "    columnspacing=0.8,\n",
    "    borderpad=0.2,\n",
    "))\n",
    "axes[0][0].set_ylabel('Salinity [psu]')\n",
    "axes[0][1].set_ylabel('Salinity [psu]')\n",
    "plt.suptitle(f'Evolution of convective regions of {group_labels[6][0].split()[0]} and {group_labels[7][0].split()[0]}',\n",
    "            y=0.98)\n",
    "oet.utils.save_fig(f'{group_labels[6][0].split()[0]} and {group_labels[7][0].split()[0]}',\n",
    "                   **dict(**save_kw, sub_dir='figure_3'))\n",
    "\n",
    "plt.show()"
   ]
  },
  {
   "cell_type": "code",
   "execution_count": null,
   "id": "05926141",
   "metadata": {
    "ExecuteTime": {
     "start_time": "2024-09-30T12:10:44.680Z"
    },
    "scrolled": false
   },
   "outputs": [],
   "source": [
    "for g in oet.utils.tqdm(group_labels):\n",
    "    res_0 = result_bucket[g[0]]\n",
    "    res_1 = result_bucket[g[1]]\n",
    "    plot_extended_water_vars(res_0,res_1)\n",
    "    \n",
    "    title = bake_title(res_0, res_1)\n",
    "    oet.utils.save_fig(title, **dict(**save_kw, sub_dir='figure_3_extra'))\n",
    "    plt.show()"
   ]
  },
  {
   "cell_type": "code",
   "execution_count": null,
   "id": "dc4ca8c5",
   "metadata": {
    "ExecuteTime": {
     "start_time": "2024-09-30T12:10:44.680Z"
    },
    "scrolled": true
   },
   "outputs": [],
   "source": [
    "# for g in oet.utils.tqdm(group_labels):\n",
    "#     plot_extended_vars_groups(g, save_kw=dict(**save_kw, sub_dir='figure_4_backup'))\n"
   ]
  },
  {
   "cell_type": "code",
   "execution_count": null,
   "id": "b22568f9",
   "metadata": {
    "ExecuteTime": {
     "start_time": "2024-09-30T12:10:44.681Z"
    }
   },
   "outputs": [],
   "source": []
  },
  {
   "cell_type": "code",
   "execution_count": null,
   "id": "d8fae559",
   "metadata": {
    "ExecuteTime": {
     "start_time": "2024-09-30T12:10:44.682Z"
    }
   },
   "outputs": [],
   "source": [
    "global_mask_dict = {}\n",
    "for label, r in result_bucket.items():\n",
    "    for m_name, m_da in zip(r.labels, r.masks):\n",
    "        \n",
    "        global_mask_dict[f'{label}_{m_name}'] = m_da\n",
    "        global_mask_dict[f'{label}_{r.region_names[m_name]}'] = m_da"
   ]
  },
  {
   "cell_type": "code",
   "execution_count": null,
   "id": "e157188a",
   "metadata": {
    "ExecuteTime": {
     "start_time": "2024-09-30T12:10:44.682Z"
    }
   },
   "outputs": [],
   "source": [
    "from functools import lru_cache\n",
    "\n",
    "@lru_cache\n",
    "@oet.utils.timed(seconds=5)\n",
    "def get_time_series_lev_variable(label, variable,  depth_max:int, mask_id:str,depth_min: int=None,\n",
    "                                max_lat=None):\n",
    "    ds = oet.load_glob(amoc_deep_dive_group.read_config(config['read_from'])[label][f'{variable}_path'])\n",
    "    ds[\"lev_size\"] = xr.DataArray(np.diff(ds[\"lev_bnds\"])[:, 0], dims=\"lev\")\n",
    "    amoc_deep_dive.set_time_int(ds)\n",
    "    mask_id = mask_id.split(',')\n",
    "\n",
    "    masks = [global_mask_dict[f'{label}_{m_id}'] for m_id in mask_id]\n",
    "    mask = masks[0]\n",
    "    if len(masks)>1:\n",
    "        for m in masks[1:]:\n",
    "            mask = mask | m\n",
    "    if max_lat:\n",
    "        mask = mask.copy()        \n",
    "        mask[mask.lat.values>max_lat] = False\n",
    "        \n",
    "    pp = amoc_deep_dive.BaseMaskedProducer(ds=ds.sel(lev=slice(depth_min, depth_max)).copy(),\n",
    "                                                   mask=mask_to_full_mask(mask))\n",
    "    return pp.get_mean_time_series(rm=None)\n"
   ]
  },
  {
   "cell_type": "code",
   "execution_count": null,
   "id": "a085b8ca",
   "metadata": {
    "ExecuteTime": {
     "start_time": "2024-09-30T12:10:44.683Z"
    }
   },
   "outputs": [],
   "source": [
    "def get_ylim(list_of_arrays:ty.List[np.ndarray], pad=0.05)->ty.Tuple[float,...]:\n",
    "    _mi, _ma = None, None\n",
    "    for a in list_of_arrays:\n",
    "        if _mi is None:\n",
    "            _mi = np.nanmin(a)\n",
    "        else:\n",
    "            _mi = min(_mi, np.nanmin(a))\n",
    "        if _ma is None:\n",
    "            _ma = np.nanmax(a)\n",
    "        else:        \n",
    "            _ma = max(_ma, np.nanmax(a))\n",
    "    y_dim = _ma - _mi\n",
    "    off = y_dim * pad\n",
    "#     print(off)\n",
    "    return _mi-off, _ma+off"
   ]
  },
  {
   "cell_type": "code",
   "execution_count": null,
   "id": "3a5d4af4",
   "metadata": {
    "ExecuteTime": {
     "start_time": "2024-09-30T12:10:44.684Z"
    }
   },
   "outputs": [],
   "source": [
    "from dataclasses import dataclass"
   ]
  },
  {
   "cell_type": "code",
   "execution_count": null,
   "id": "58a85299",
   "metadata": {},
   "outputs": [],
   "source": []
  },
  {
   "cell_type": "code",
   "execution_count": null,
   "id": "debffad0",
   "metadata": {
    "ExecuteTime": {
     "start_time": "2024-09-30T12:10:44.685Z"
    }
   },
   "outputs": [],
   "source": [
    "@dataclass\n",
    "class WaterBudgetRegion(amoc_deep_dive_group.WaterBudget):\n",
    "    mask_name: str\n",
    "    mask_da: xr.DataArray\n",
    "    ds_dict: ty.Any\n",
    "    \n",
    "def plot_north(label, kw_update=None, mask_dict=None, show=False, add_ds_dict=False, **kw):\n",
    "    mask_dict = mask_dict or {'North Atlantic' : None}\n",
    "    kw_update = kw_update or config['ts_kw']\n",
    "    \n",
    "    ds_dict = {k.split('_')[1]: \n",
    "               update_water_budget_units(\n",
    "                   amoc_deep_dive_group.set_time_int(\n",
    "                       oet.read_ds(v, add_history=True, max_time=None)\n",
    "                   )\n",
    "               ) \n",
    "               for k,v in folder_dict[label].items() \n",
    "               if 'folder_' in k and v is not None}\n",
    "    if 'wfo' not in ds_dict or 'siconc' not in ds_dict:\n",
    "        print(f'{label} incomplete {sorted(ds_dict)}')\n",
    "        return []\n",
    "    \n",
    "    _pr_evs = 'pr-evs'\n",
    "    if _pr_evs not in ds_dict:\n",
    "        if 'siconc' in ds_dict:\n",
    "            ds_dict[_pr_evs] = xr.Dataset(\n",
    "                {\n",
    "                    _pr_evs: (1 - ds_dict[\"siconc\"][ds_dict[\"siconc\"].variable_id] / 100)\n",
    "                    * ds_dict[\"pr\"][\"pr\"] -ds_dict[\"evs\"][\"evs\"],\n",
    "                    \"cell_area\": ds_dict[\"siconc\"][\"cell_area\"],\n",
    "                },\n",
    "                attrs=dict(variable_id=_pr_evs),\n",
    "            )\n",
    "        else:\n",
    "            ds_dict[_pr_evs] = xr.Dataset(\n",
    "                {\n",
    "                    _pr_evs: ds_dict[\"pr\"][\"pr\"] -ds_dict[\"evs\"][\"evs\"],\n",
    "                    \"cell_area\": ds_dict[\"evs\"][\"cell_area\"],\n",
    "                },\n",
    "                attrs=dict(variable_id=_pr_evs),\n",
    "            )\n",
    "    \n",
    "    residual_name='fsitherm' \n",
    "    if residual_name not in ds_dict and all(k in ds_dict for k in 'wfo evs friver siconc'.split()):\n",
    "        oet.get_logger().error(f'Hacking {residual_name} for {label}')\n",
    "        ds_dict[residual_name] = xr.Dataset(\n",
    "                    {\n",
    "                        residual_name: -(- ds_dict['wfo']['wfo']\n",
    "                                      - ds_dict['evs']['evs']\n",
    "                                      + ds_dict['friver']['friver']\n",
    "                                      + (1 - ds_dict[\"siconc\"][ds_dict[\"siconc\"].variable_id] / 100\n",
    "                                        )* ds_dict[\"pr\"][\"pr\"]\n",
    "                                     ),\n",
    "                        \"cell_area\": ds_dict[\"siconc\"][\"cell_area\"],\n",
    "                    },\n",
    "                    attrs=dict(variable_id=\"residual\"),\n",
    "                )\n",
    "    \n",
    "    \n",
    "    results = []\n",
    "    variables = kw.pop('variables', [])\n",
    "    update = kw_update.get(label, {}).copy()\n",
    "    variables = [v for v in variables if v in ds_dict]\n",
    "    for mask_name, mask in mask_dict.items():\n",
    "        \n",
    "        \n",
    "        res = amoc_deep_dive_group.ts_budget_inner(ds_dict, mask=mask, **kw, variables=variables)\n",
    "        results.append(WaterBudgetRegion(**res.__dict__, mask_name=mask_name, mask_da = mask, \n",
    "                                         ds_dict=ds_dict if add_ds_dict else None))\n",
    "        oet.plotting.plot._show(show)\n",
    "    return results"
   ]
  },
  {
   "cell_type": "code",
   "execution_count": null,
   "id": "5d4f621c",
   "metadata": {
    "ExecuteTime": {
     "start_time": "2024-09-30T12:10:44.686Z"
    }
   },
   "outputs": [],
   "source": [
    "def plot_water_budget_for_masks(mask_dict, res_0, res_1=None, _label_id=1, extra_suptitle=None,figsize=(14,5), **kw):\n",
    "    label_dict=dict(fsitherm='sea-ice melt', wfo = 'net water input', friver = 'river runoff' )\n",
    "    label_dict['pr-evs'] = 'P-E'\n",
    "    \n",
    "    kw = kw.copy()\n",
    "    for k,v in dict(split_ax=False, add_sum_to_label=False,\n",
    "                    variables =  \"wfo friver fsitherm pr-evs\".split(),minus_variables = (None,),).items():\n",
    "        kw.setdefault(k, v)\n",
    "    \n",
    "    \n",
    "    results_0 = plot_north(res_0.label, mask_dict=mask_dict, **kw)\n",
    "    \n",
    "    if not len(results_0):\n",
    "        plt.suptitle((extra_suptitle if extra_suptitle is not None else '') + res_1.label.split()[0], y=1.2)\n",
    "        return\n",
    "    if res_1 is not None:\n",
    "        results_1 = plot_north(res_1.label, mask_dict=mask_dict, **kw)\n",
    "    else:\n",
    "        result_1 = []\n",
    "    _, axes = plt.subplots(1,len(results_0), figsize=figsize, sharey=True, gridspec_kw=dict(wspace=0))\n",
    "    plt.suptitle((extra_suptitle if extra_suptitle is not None else '') + res_1.label.split()[0], y=1.2)\n",
    "    if len(results_0) == 1:\n",
    "        axes = [axes]\n",
    "    cc = oet.utils.get_plt_colors()\n",
    "    c_dict = dict(zip(results_0[0].labels, cc))\n",
    "#     print(c_dict)\n",
    "    for ax, res in zip(axes, results_0):\n",
    "        plt.sca(ax)\n",
    "\n",
    "        for x,y,l in zip(res.timestamps, res.y_vals, res.labels):\n",
    "            yy = smoother(y)\n",
    "            off = np.mean(yy[res.reference_slice])\n",
    "            plt.plot(x,yy-off,label=f'{label_dict[l]} - {res_0.label.split()[_label_id]}', c=c_dict[l])\n",
    "\n",
    "        plt.title(f'{res.mask_name}',y=1.0)\n",
    "    \n",
    "    for ax, res in zip(axes, results_1):\n",
    "        plt.sca(ax)\n",
    "\n",
    "        for x,y,l in zip(res.timestamps,res.y_vals, res.labels):\n",
    "            yy = smoother(y)\n",
    "            off = np.mean(yy[res.reference_slice])\n",
    "            plt.plot(x,yy-off,c=c_dict[l], ls='--', label=f'{res_1.label.split()[_label_id]}',)\n",
    "        plt.axvspan(*res.reference_period, label='reference period', color='k', alpha=0.1)\n",
    "    y_label =  f\"$\\\\Delta$Water flux [mm/year]\"  #res.label_dy\n",
    "    axes[0].set_ylabel(y_label)\n",
    "    if len(axes)> 1:\n",
    "        axes[-1].set_ylabel(y_label)\n",
    "        axes[-1].yaxis.tick_right()\n",
    "        axes[-1].yaxis.set_label_position(\"right\")\n",
    "\n",
    "    # axes[-1].yaxis.set_ticklabels(axes[0].yaxis.get_ticklabels())\n",
    "\n",
    "    axes[0].legend(**oet.utils.legend_kw(**{'ncol':4,\n",
    "        'bbox_to_anchor': (0.0, 1.12, len(axes), 0.32)\n",
    "    }))\n",
    "\n",
    "   \n",
    "    return results_0, results_1"
   ]
  },
  {
   "cell_type": "code",
   "execution_count": null,
   "id": "4009a5da",
   "metadata": {
    "ExecuteTime": {
     "start_time": "2024-09-30T12:10:44.686Z"
    }
   },
   "outputs": [],
   "source": [
    "da_na_45n = amoc_deep_dive._base_mask(lat_min=45, lat_max=80, lon_min=-75, lon_max=25)"
   ]
  },
  {
   "cell_type": "code",
   "execution_count": null,
   "id": "6121a141",
   "metadata": {
    "ExecuteTime": {
     "start_time": "2024-09-30T12:10:44.687Z"
    }
   },
   "outputs": [],
   "source": [
    "mask = dict()\n",
    "masks = regionmask.defined_regions.natural_earth_v5_0_0.ocean_basins_50.mask(res_0.full_ds)\n",
    "for i, name in (zip(masks.attrs['flag_values'], masks.attrs['flag_meanings'].split())):\n",
    "    name = name.replace('_', ' ')\n",
    "    if name in rename_dict.values():\n",
    "        cache_name = name\n",
    "    else:\n",
    "        cache_name = rename_dict.get(name, 'skip')\n",
    "    if cache_name != 'skip':\n",
    "        print(cache_name, name)\n",
    "        if cache_name in mask:\n",
    "            mask[cache_name] = (masks == i ) | mask[cache_name]\n",
    "        else:\n",
    "            mask[cache_name] = (masks == i )"
   ]
  },
  {
   "cell_type": "code",
   "execution_count": null,
   "id": "bfe6274b",
   "metadata": {
    "ExecuteTime": {
     "start_time": "2024-09-30T12:10:44.688Z"
    }
   },
   "outputs": [],
   "source": [
    "tot_mask = mask['Nordic Seas'].astype(int)*1 + mask['Irminger Sea'].astype(int)*2 + mask['Labrador Sea'].astype(int)*3"
   ]
  },
  {
   "cell_type": "code",
   "execution_count": null,
   "id": "7dcb55cd",
   "metadata": {
    "ExecuteTime": {
     "start_time": "2024-09-30T12:10:44.688Z"
    }
   },
   "outputs": [],
   "source": [
    "projection='NearsidePerspective'\n",
    "import cartopy.crs as ccrs\n",
    "import cartopy.feature as cfeature\n",
    "from functools import partial\n",
    "xmin, xmax = 0, 359\n",
    "ymin, ymax = 0, 90\n",
    "ax = plt.gcf().add_subplot(\n",
    "    1,1,1,projection=oet.plotting.plot.get_cartopy_projection(projection=projection, \n",
    "                                                              central_longitude=-25,\n",
    "                                                              central_latitude=55,\n",
    "                                                             satellite_height=0.3e7)\n",
    ")\n",
    "# ax.set_extent([xmin, xmax,ymin,ymax])\n",
    "ax.add_feature(cfeature.NaturalEarthFeature('physical', 'land', '110m', edgecolor='k', facecolor='gainsboro', zorder=2))\n",
    "\n",
    "#     plt.xlim(-70, 20)\n",
    "#     plt.ylim(40, 80)\n",
    "\n",
    "ax.add_feature(cfeature.COASTLINE)\n",
    "gl = ax.gridlines(draw_labels=True, zorder=1)\n",
    "gl.top_labels=False\n",
    "gl.right_labels=False\n",
    "tot_mask.plot(transform=oet.plotting.plot.get_cartopy_transform(), add_colorbar=True, cmap='Blues',\n",
    "       cbar_kwargs=dict(label=''), levels=[0.5, 1.5, 2.5, 3.5])\n",
    "# plt.suptitle('wrong old mask')\n",
    "# oet.utils.save_fig('mask', **save_kw, sub_dir = 'figure_5')\n",
    "fig = plt.gcf()\n",
    "ax = fig.axes[-1]\n",
    "ax.yaxis.set_ticks([1,2,3], ['Nordic Seas', 'Irminger Sea', 'Labrador Sea'], rotation=90, ha='left', va='center')\n",
    "# ax.set_ylim(0,1)"
   ]
  },
  {
   "cell_type": "code",
   "execution_count": null,
   "id": "08e6559f",
   "metadata": {
    "ExecuteTime": {
     "start_time": "2024-09-30T12:10:44.689Z"
    }
   },
   "outputs": [],
   "source": [
    "projection='NearsidePerspective'\n",
    "import cartopy.crs as ccrs\n",
    "import cartopy.feature as cfeature\n",
    "from functools import partial\n",
    "xmin, xmax = 0, 359\n",
    "ymin, ymax = 0, 90\n",
    "ax = plt.gcf().add_subplot(\n",
    "    1,1,1,projection=oet.plotting.plot.get_cartopy_projection(projection=projection, \n",
    "                                                              central_longitude=-25,\n",
    "                                                              central_latitude=55,\n",
    "                                                             satellite_height=0.3e7)\n",
    ")\n",
    "# ax.set_extent([xmin, xmax,ymin,ymax])\n",
    "ax.add_feature(cfeature.NaturalEarthFeature('physical', 'land', '110m', edgecolor='k', facecolor='gainsboro', zorder=2))\n",
    "\n",
    "#     plt.xlim(-70, 20)\n",
    "#     plt.ylim(40, 80)\n",
    "\n",
    "ax.add_feature(cfeature.COASTLINE)\n",
    "gl = ax.gridlines(draw_labels=True, zorder=1)\n",
    "gl.top_labels=False\n",
    "gl.right_labels=False\n",
    "da = (da_na_45n.where(amoc_deep_dive._base_mask(), drop=False).copy()>0).astype(np.float16)\n",
    "da.data[da<0.1] = np.nan\n",
    "da.data[da.lat>65] = da.data[da.lat>65]  * 2\n",
    "da=da/3\n",
    "da.plot(transform=oet.plotting.plot.get_cartopy_transform(), add_colorbar=True, cmap='Blues',\n",
    "       cbar_kwargs=dict(label=''), levels=[-0.5,0,0.5,1])\n",
    "# plt.suptitle('wrong old mask')\n",
    "oet.utils.save_fig('mask', **save_kw, sub_dir = 'figure_s4')\n",
    "fig = plt.gcf()\n",
    "ax = fig.axes[-1]\n",
    "ax.yaxis.set_ticks([0, 1/4,3/4], ['', 'Lower region', 'Upper region'], rotation=90, ha='left', va='center')\n",
    "ax.set_ylim(0,1)"
   ]
  },
  {
   "cell_type": "code",
   "execution_count": null,
   "id": "c036e141",
   "metadata": {
    "ExecuteTime": {
     "start_time": "2024-09-30T12:10:44.689Z"
    }
   },
   "outputs": [],
   "source": [
    "index_errors={1: 'wfo is missing', \n",
    "              3: 'budget does not close',\n",
    "              4: 'budget does not close',\n",
    "              8: 'not checked',\n",
    "              len(group_labels)-1: 'budget does not close'\n",
    "             }"
   ]
  },
  {
   "cell_type": "code",
   "execution_count": null,
   "id": "615838a0",
   "metadata": {
    "ExecuteTime": {
     "start_time": "2024-09-30T12:10:44.690Z"
    }
   },
   "outputs": [],
   "source": [
    "config['ts_kw']['GISS-E2-1-G ssp126 r4i1p1f2']['minus_variables'] = [None,]\n",
    "config['ts_kw']['GISS-E2-1-G ssp585 r4i1p1f2']['minus_variables'] = [None,]\n",
    "config['ts_kw'][group_labels[4][0]]['minus_variables'] = [None,]\n",
    "config['ts_kw'][group_labels[4][1]]['minus_variables'] = [None,]\n",
    "\n",
    "# config['ts_kw'][group_labels[len(group_labels)-1][0]]['minus_variables'] = [None,]\n",
    "# config['ts_kw'][group_labels[len(group_labels)-1][1]]['minus_variables'] = [None,]"
   ]
  },
  {
   "cell_type": "code",
   "execution_count": null,
   "id": "44c9514c",
   "metadata": {
    "ExecuteTime": {
     "start_time": "2024-09-30T12:10:44.690Z"
    }
   },
   "outputs": [],
   "source": [
    "list(enumerate(group_labels))"
   ]
  },
  {
   "cell_type": "code",
   "execution_count": null,
   "id": "d9f46743",
   "metadata": {
    "ExecuteTime": {
     "start_time": "2024-09-30T12:10:44.692Z"
    }
   },
   "outputs": [],
   "source": [
    "config['ts_kw'][group_labels[9][0]] = config['ts_kw'][group_labels[0][0]]\n",
    "config['ts_kw'][group_labels[9][1]] = config['ts_kw'][group_labels[0][1]]"
   ]
  },
  {
   "cell_type": "code",
   "execution_count": null,
   "id": "4e981087",
   "metadata": {
    "ExecuteTime": {
     "start_time": "2024-09-30T12:10:44.692Z"
    }
   },
   "outputs": [],
   "source": [
    "# @lru_cache\n",
    "# def read_fwt(p):\n",
    "#     ds_585 = oet.load_glob(p)\n",
    "#     for v in list(ds_585.variables):\n",
    "#         if v not in 'tlat vlat Mov Maz lev time MOC Moc moc_bottomup'.split():\n",
    "#             del ds_585[v]\n",
    "#     ds_585=ds_585.groupby('time.year').mean().load()\n",
    "#     ds_585 = ds_585.rename(year='time')\n",
    "#     ds_585['vlat'] = ds_585['vlat'].mean('time')\n",
    "#     ds_585['tlat'] = ds_585['tlat'].mean('time')\n",
    "# #     ulat = ds_585\n",
    "# #     ds_585['ulat'] = \n",
    "#     return ds_585"
   ]
  },
  {
   "cell_type": "code",
   "execution_count": null,
   "id": "158d8946",
   "metadata": {
    "ExecuteTime": {
     "start_time": "2024-09-30T12:10:44.693Z"
    }
   },
   "outputs": [],
   "source": [
    "# @lru_cache\n",
    "def read_fwt_for_source_and_ssp(source_id, ssp):\n",
    "    p_ssp = glob.glob(f'/data/volume_2/manual_download/mtot_*{source_id}*{ssp}*.nc')\n",
    "    assert len(p_ssp) == 1, p_ssp\n",
    "    p_ssp=p_ssp[0]\n",
    "    return oet.load_glob(p_ssp)\n"
   ]
  },
  {
   "cell_type": "code",
   "execution_count": null,
   "id": "47d36422",
   "metadata": {
    "ExecuteTime": {
     "start_time": "2024-09-30T12:10:44.693Z"
    }
   },
   "outputs": [],
   "source": [
    "\n",
    "# ds_126 = read_fwt_for_source_and_ssp('MRI-ESM2-0', 'ssp126')\n"
   ]
  },
  {
   "cell_type": "code",
   "execution_count": null,
   "id": "2980b9fa",
   "metadata": {
    "ExecuteTime": {
     "start_time": "2024-09-30T12:10:44.694Z"
    }
   },
   "outputs": [],
   "source": [
    "def fw_convergence(ds, field='mtot', lat_min = 45, lat_max = 80):\n",
    "    \n",
    "    fw_n = ds[field].sel(lat=lat_max, method='nearest')\n",
    "    fw_s = ds[field].sel(lat=lat_min, method='nearest')\n",
    "    return fw_s - fw_n\n",
    "\n",
    "def sv_to_mm_per_year(da, area=None):\n",
    "    if area is None:\n",
    "        raise ValueError('No area!')\n",
    "#         area = 12222064049446.7\n",
    "    sv_to_m3 = 1e6\n",
    "    m3_to_mm = 1e3/area\n",
    "    \n",
    "    per_s_to_year = 365*24*3600\n",
    "    \n",
    "    sv = da\n",
    "    return sv * sv_to_m3 * m3_to_mm * per_s_to_year"
   ]
  },
  {
   "cell_type": "code",
   "execution_count": null,
   "id": "5444915a",
   "metadata": {
    "ExecuteTime": {
     "start_time": "2024-09-30T12:10:44.694Z"
    }
   },
   "outputs": [],
   "source": [
    "rename_dict = {'Greenland Sea': 'Nordic Seas', \n",
    "               'Norwegian Sea': 'Nordic Seas',\n",
    "               'North Atlantic Ocean': 'Irminger Sea',\n",
    "               'Baffin Bay': 'Labrador Sea',\n",
    "               'Davis Strait': 'Labrador Sea'}"
   ]
  },
  {
   "cell_type": "code",
   "execution_count": null,
   "id": "b9e046a0",
   "metadata": {
    "ExecuteTime": {
     "start_time": "2024-09-30T12:10:44.695Z"
    }
   },
   "outputs": [],
   "source": [
    "da_na_45n = amoc_deep_dive._base_mask(lat_min=45, lat_max=80, lon_min=-75, lon_max=25)\n",
    "da_na_45n_65n = da_na_45n.copy()\n",
    "da_na_45n_65n[da_na_45n_65n.lat>65] = False\n",
    "\n",
    "da_na_65n_80n = da_na_45n.copy()\n",
    "da_na_65n_80n[da_na_65n_80n.lat<65] = False"
   ]
  },
  {
   "cell_type": "code",
   "execution_count": null,
   "id": "8b72a949",
   "metadata": {
    "ExecuteTime": {
     "start_time": "2024-09-30T12:10:44.696Z"
    }
   },
   "outputs": [],
   "source": [
    "# i = 6\n",
    "# g = group_labels[i]\n",
    "# kw = dict(rm=30, average_slice=slice(115,144), \n",
    "#           update_labels=False,\n",
    "#           minus_variables=config['ts_kw'].get(g[0], {}).get('minus_variables', [None]))\n",
    "\n",
    "# if 'ssp245' in g[0]:\n",
    "#     kw.update(dict(_label_id=2))\n",
    "# if i in index_errors:\n",
    "#     kw.update(dict(extra_suptitle=index_errors[i].upper() + '! '))\n",
    "\n",
    "# res_0 = result_bucket[g[0]]\n",
    "# res_1 = result_bucket[g[1]]\n",
    "# for mask, fw_kw, label in zip(\n",
    "#     [da_na_65n_80n, da_na_45n_65n, da_na_45n],\n",
    "#     [dict(lat_min=65, lat_max=80), dict(lat_min=45, lat_max=65), dict(lat_min=45, lat_max=80)],\n",
    "#     ['Upper region', 'Lower region', 'Total region']\n",
    "# ):\n",
    "#     wb_res = plot_water_budget_for_masks(\n",
    "#             mask_dict = {label: mask},\n",
    "#             res_1=res_1,\n",
    "#             res_0=res_0,\n",
    "#             **kw,\n",
    "#     );\n",
    "#     da_585 = sv_to_mm_per_year(fw_convergence(ds_585, **fw_kw), area=res_0.full_ds['cell_area'].where(mask).sum())\n",
    "#     ref_585 = da_585.values[slice(115, 144, None)].mean()\n",
    "    \n",
    "# #     da_126 = sv_to_mm_per_year(fw_convergence(ds_126, **fw_kw), area=res_0.full_ds['cell_area'].where(mask).sum())\n",
    "# #     ref_126 = da_126.values[slice(115, 144, None)].mean()\n",
    "        \n",
    "#     # (da-ref).plot(alpha=0.1)/\n",
    "\n",
    "#     plt.plot(da_585.time, smoother(da_585)-ref_585, c='black', label='Surfacewater transport ssp585')\n",
    "# #     plt.plot(da_126.time, smoother(da_126)-ref_126, c='black', ls='--', label='Freshwater transport ssp126')\n",
    "    \n",
    "# #     plt.ylabel('$\\Delta$FWT [mm/year]')\n",
    "#     plt.legend(**oet.utils.legend_kw(**{'ncol':4,\n",
    "#         'bbox_to_anchor': (0.0, 1.12, 1, 0.32)\n",
    "#     }))\n",
    "#     oet.utils.save_fig(f'mask', **save_kw, sub_dir = 'figure_s4')\n",
    "# # plt."
   ]
  },
  {
   "cell_type": "code",
   "execution_count": null,
   "id": "6c1d7df9",
   "metadata": {
    "ExecuteTime": {
     "start_time": "2024-09-30T12:10:44.696Z"
    }
   },
   "outputs": [],
   "source": [
    "# da_na_40n = amoc_deep_dive._base_mask(lat_min=40, lat_max=80, lon_min=-75, lon_max=25)\n",
    "# mask = da_na_40n.copy()\n",
    "# mask.data[mask.lat.values>=lat_max] = False\n",
    "# mask.data[mask.lat.values<lat_min] = False\n",
    "# mask.plot()\n",
    "# lat_max,lat_min"
   ]
  },
  {
   "cell_type": "code",
   "execution_count": null,
   "id": "f10bc5ec",
   "metadata": {
    "ExecuteTime": {
     "end_time": "2024-09-04T13:24:32.890914Z",
     "start_time": "2024-09-04T13:24:32.886191Z"
    }
   },
   "outputs": [],
   "source": []
  },
  {
   "cell_type": "code",
   "execution_count": null,
   "id": "8563b1f6",
   "metadata": {
    "ExecuteTime": {
     "start_time": "2024-09-30T12:10:44.697Z"
    }
   },
   "outputs": [],
   "source": [
    "rename_dict"
   ]
  },
  {
   "cell_type": "code",
   "execution_count": null,
   "id": "a0880554",
   "metadata": {
    "ExecuteTime": {
     "start_time": "2024-09-30T12:10:44.698Z"
    }
   },
   "outputs": [],
   "source": [
    "def add_mask_to_figure(mask = da_na_45n,\n",
    "                       n_x=1, n_y=1, idx=1, fig=None,\n",
    "                      projection='NearsidePerspective',\n",
    "                       ctp_kw=None,\n",
    "                       subplot_kw = None\n",
    "                      ):\n",
    "    \n",
    "\n",
    "    import cartopy.crs as ccrs\n",
    "    import cartopy.feature as cfeature\n",
    "\n",
    "    fig = fig or plt.gcf()\n",
    "    subplot_kw = subplot_kw or dict(position=[0.13, 0.57, 0.30, 0.3])\n",
    "#     map_kw = dict(projection=oet.plotting.plot.get_cartopy_projection(projection=projection, \n",
    "#                                                                   central_longitude=(xmin+xmax)/2,\n",
    "#                                                                   central_latitude=(ymin+ymax)/2))\n",
    "\n",
    "# fig, axes = plt.subplot_mosaic('ab\\n..\\nll\\n..\\ncd',\n",
    "#                                figsize=(14,12),\n",
    "#                                height_ratios=[1.02, 0.1, 0.05, 0.3,1],\n",
    "#                                gridspec_kw=dict(hspace=0.00, wspace=0),\n",
    "#                               per_subplot_kw=dict(a=map_kw, b=map_kw))\n",
    "    \n",
    "    ctp_kw = ctp_kw or dict(projection=projection, central_longitude=-25,central_latitude=60,satellite_height=0.5e7)\n",
    "    ax = fig.add_subplot(1,1,1,\n",
    "                         projection=oet.plotting.plot.get_cartopy_projection(**ctp_kw),\n",
    "#                          anchor=(0.01, 1),\n",
    "#                          ymargin=0.9,\n",
    "                         **subplot_kw\n",
    "                        )\n",
    "    ax.add_feature(cfeature.NaturalEarthFeature('physical', 'land', '110m', edgecolor='k', facecolor='gainsboro', zorder=2))\n",
    "    ax.add_feature(cfeature.COASTLINE)\n",
    "    gl = ax.gridlines(draw_labels=False, zorder=1)\n",
    "    gl.top_labels=False\n",
    "    gl.right_labels=False\n",
    "    gl.left_labels=False\n",
    "    gl.bottom_labels=False\n",
    "    da = (mask.where(amoc_deep_dive._base_mask(), drop=False).copy()>0).astype(np.float16)\n",
    "    da.plot(ax=ax,transform=oet.plotting.plot.get_cartopy_transform(), add_colorbar=False, cmap='Blues')\n",
    "    return gl"
   ]
  },
  {
   "cell_type": "code",
   "execution_count": null,
   "id": "dbfa7682",
   "metadata": {
    "ExecuteTime": {
     "start_time": "2024-09-30T12:10:44.698Z"
    }
   },
   "outputs": [],
   "source": [
    "@dataclass\n",
    "class RegSel:\n",
    "    lat_min: float\n",
    "    lat_max: float\n",
    "    lon_min: float\n",
    "    lon_max: float\n",
    "        \n",
    "    label: str\n",
    "        \n",
    "    def modify_mask(self, mask):\n",
    "        a = mask.lat < self.lat_min\n",
    "        a = a | (mask.lat > self.lat_max)\n",
    "        a = a | ((mask.lon-360 < self.lon_min) & (mask.lon > self.lon_max))\n",
    "\n",
    "        m2 = mask.copy()\n",
    "        m2.data[a.values] = False\n",
    "        return m2\n",
    "    \n",
    "    def __str__(self):\n",
    "        return f'{self.label}_{self.lat_min}-{self.lat_max}N'"
   ]
  },
  {
   "cell_type": "code",
   "execution_count": null,
   "id": "fadd1f72",
   "metadata": {
    "ExecuteTime": {
     "start_time": "2024-09-30T12:10:44.699Z"
    }
   },
   "outputs": [],
   "source": [
    "r_up = RegSel(lat_max=75, lat_min=60, lon_min=-45, lon_max=15, label='Nordic Seas')\n",
    "r_down = RegSel(lat_max=60, lat_min=45, lon_min=-1e6, lon_max=1e6, label='Subpolar latitudes')"
   ]
  },
  {
   "cell_type": "code",
   "execution_count": null,
   "id": "fe73f5fb",
   "metadata": {
    "ExecuteTime": {
     "end_time": "2024-09-05T11:23:18.573930Z",
     "start_time": "2024-09-05T11:23:18.571534Z"
    }
   },
   "outputs": [],
   "source": []
  },
  {
   "cell_type": "code",
   "execution_count": null,
   "id": "73969eb2",
   "metadata": {
    "ExecuteTime": {
     "start_time": "2024-09-30T12:10:44.701Z"
    }
   },
   "outputs": [],
   "source": [
    "# plt.figure(dpi=300, figsize=(15,15))\n",
    "# gl=add_mask_to_figure(r_down.modify_mask(da_na_45n), ctp_kw=dict(projection='PlateCarree'))\n",
    "# gl.top_labels=True\n",
    "# gl.right_labels=True\n",
    "# gl.left_labels=True\n",
    "# gl.bottom_labels=True\n",
    "# plt.xlim(-90,50)\n",
    "# plt.ylim(40,90)\n",
    "# plt.axvline(15)"
   ]
  },
  {
   "cell_type": "code",
   "execution_count": null,
   "id": "0009e395",
   "metadata": {
    "ExecuteTime": {
     "start_time": "2024-09-30T12:10:44.701Z"
    },
    "scrolled": false
   },
   "outputs": [],
   "source": [
    "i = 6\n",
    "ds_585 = read_fwt_for_source_and_ssp('MRI-ESM2-0', 'ssp585')\n",
    "ds_126 = read_fwt_for_source_and_ssp('MRI-ESM2-0', 'ssp126')\n",
    "g = group_labels[i]\n",
    "kw = dict(rm=30, average_slice=slice(115,144), \n",
    "          update_labels=False,\n",
    "          add_ds_dict=True,\n",
    "          figsize=(8,6),\n",
    "          minus_variables=config['ts_kw'].get(g[0], {}).get('minus_variables', [None]))\n",
    "\n",
    "if 'ssp245' in g[0]:\n",
    "    kw.update(dict(_label_id=2))\n",
    "if i in index_errors:\n",
    "    kw.update(dict(extra_suptitle=index_errors[i].upper() + '! '))\n",
    "\n",
    "res_0 = result_bucket[g[0]]\n",
    "res_1 = result_bucket[g[1]]\n",
    "# for reg in [r_up, r_down]:\n",
    "for reg in [r_down]:\n",
    "    mask = reg.modify_mask(da_na_45n)\n",
    "\n",
    "    label = reg.label\n",
    "    wb_res = plot_water_budget_for_masks(\n",
    "            mask_dict = {label: mask},\n",
    "            res_1=res_1,\n",
    "            res_0=res_0,\n",
    "            **kw,\n",
    "    );\n",
    "    da_585 = sv_to_mm_per_year(fw_convergence(ds_585, lat_min=reg.lat_min, lat_max=reg.lat_max),\n",
    "                               area=res_0.full_ds['cell_area'].where(mask).sum())\n",
    "    ref_585 = da_585.values[slice(115, 144, None)].mean()\n",
    "    da_126 = sv_to_mm_per_year(fw_convergence(ds_126, lat_min=reg.lat_min, lat_max=reg.lat_max),\n",
    "                               area=res_0.full_ds['cell_area'].where(mask).sum())\n",
    "    ref_126 = da_126.values[slice(115, 144, None)].mean()\n",
    "#     da_126 = sv_to_mm_per_year(fw_convergence(ds_126, **fw_kw), area=res_0.full_ds['cell_area'].where(mask).sum())\n",
    "#     ref_126 = da_126.values[slice(115, 144, None)].mean()\n",
    "        \n",
    "    # (da-ref).plot(alpha=0.1)/\n",
    "\n",
    "    plt.plot(da_585.time, smoother(da_585)-ref_585, c='black', label='WT ssp585')\n",
    "    plt.plot(da_126.time, smoother(da_126)-ref_126, c='black', label='WT ssp126', ls='--')\n",
    "#     plt.plot(da_126.time, smoother(da_126)-ref_126, c='black', ls='--', label='Freshwater transport ssp126')\n",
    "    \n",
    "#     plt.ylabel('$\\Delta$FWT [mm/year]')\n",
    "    plt.legend(**oet.utils.legend_kw(**{'ncol':3,'bbox_to_anchor': (0.0, 1.07, 1, 0.32),\n",
    "                                        'labelspacing': 0.4,\n",
    "                                        'handletextpad': 0.6,\n",
    "                                         'borderaxespad':0.4,\n",
    "                                        'handlelength': 1.6\n",
    "                                       }))\n",
    "#     plt.ylim(-1200,600)\n",
    "    add_mask_to_figure(mask, #subplot_kw=dict(position=[0.13, 0.2, 0.30, 0.3])\n",
    "                      )\n",
    "    \n",
    "    \n",
    "    oet.utils.save_fig(f'water_budget_{res_0.label}_{reg}', **save_kw, sub_dir = 'figure_s4')\n",
    "    plt.show()\n",
    "    \n",
    "#     fig = plt.gcf()\n",
    "#     fig.set_figheight(8)\n",
    "#     fig.set_figheight(6)\n",
    "# plt."
   ]
  },
  {
   "cell_type": "code",
   "execution_count": null,
   "id": "f41beb01",
   "metadata": {
    "ExecuteTime": {
     "start_time": "2024-09-30T12:10:44.702Z"
    },
    "scrolled": false
   },
   "outputs": [],
   "source": [
    "wb_585 = wb_res[0][0]\n",
    "sorted(wb_585.ds_dict)\n",
    "kw = dict(vmin=-2000, vmax=2000, cmap='RdBu_r')\n",
    "kw_delta  = dict(vmin=-2000, vmax=2000, cmap='RdBu_r')\n",
    "cbar_kw = dict(orientation='horizontal', label='sea-ice melt [mm/year]')\n",
    "\n",
    "da = wb_585.ds_dict['fsitherm']['fsitherm']\n",
    "da_2000=da.sel(time=slice(1990,2000)).mean('time')\n",
    "da_2100=da.sel(time=slice(2090,2100)).mean('time')\n",
    "oet.plotting.plot.plot_da(da_2000,\n",
    "                         cbar_kwargs=cbar_kw,\n",
    "                         **kw)\n",
    "plt.title('Sea ice melt 1995')\n",
    "plt.gca().set_extent([-90,30,40,90])\n",
    "plt.suptitle(wb_585.ds_dict['wfo'].source_id)\n",
    "plt.show()\n",
    "\n",
    "oet.plotting.plot.plot_da(da_2100,\n",
    "                         cbar_kwargs=cbar_kw,\n",
    "                         **kw)\n",
    "plt.title('Sea ice melt 2095')\n",
    "plt.gca().set_extent([-90,30,40,90])\n",
    "plt.suptitle(wb_585.ds_dict['wfo'].source_id)\n",
    "plt.show()\n",
    "\n",
    "\n",
    "oet.plotting.plot.plot_da(da_2100 - da_2000,\n",
    "                         cbar_kwargs=cbar_kw,\n",
    "                         **kw_delta)\n",
    "plt.title('$\\Delta $ Sea ice melt 2095 - 1995')\n",
    "plt.gca().set_extent([-90,30,40,90])\n",
    "plt.suptitle(wb_585.ds_dict['wfo'].source_id)\n",
    "plt.show()\n",
    "\n",
    "cbar_kw['label'] = 'P-E [mm/year]'\n",
    "da = wb_585.ds_dict['pr-evs']['pr-evs']\n",
    "da_2000=da.sel(time=slice(1990,2000)).mean('time')\n",
    "da_2100=da.sel(time=slice(2090,2100)).mean('time')\n",
    "oet.plotting.plot.plot_da(da_2000,\n",
    "                         cbar_kwargs=cbar_kw,\n",
    "                         **kw)\n",
    "plt.title('P-E 1995')\n",
    "plt.gca().set_extent([-90,30,40,90])\n",
    "plt.suptitle(wb_585.ds_dict['wfo'].source_id)\n",
    "plt.show()\n",
    "\n",
    "oet.plotting.plot.plot_da(da_2100,\n",
    "                         cbar_kwargs=cbar_kw,\n",
    "                         **kw)\n",
    "plt.title('P-E 2095')\n",
    "plt.gca().set_extent([-90,30,40,90])\n",
    "plt.suptitle(wb_585.ds_dict['wfo'].source_id)\n",
    "plt.show()\n",
    "\n",
    "\n",
    "\n",
    "oet.plotting.plot.plot_da(da_2100 - da_2000,\n",
    "                         cbar_kwargs=cbar_kw,\n",
    "                         **kw_delta)\n",
    "plt.title('$\\Delta $ P-E 2095 - 1995')\n",
    "plt.gca().set_extent([-90,30,40,90])\n",
    "plt.suptitle(wb_585.ds_dict['wfo'].source_id)\n",
    "plt.show()"
   ]
  },
  {
   "cell_type": "code",
   "execution_count": null,
   "id": "e6145576",
   "metadata": {
    "ExecuteTime": {
     "start_time": "2024-09-30T12:10:44.702Z"
    },
    "scrolled": false
   },
   "outputs": [],
   "source": [
    "i = 7\n",
    "g = group_labels[i]\n",
    "ds_585 = read_fwt_for_source_and_ssp('UKESM1-0-L', 'ssp585')\n",
    "ds_126 = read_fwt_for_source_and_ssp('UKESM1-0-L', 'ssp126')\n",
    "kw = dict(rm=30, \n",
    "#           average_slice=slice(115,144), \n",
    "           average_slice=slice(115,144), \n",
    "          update_labels=False,\n",
    "          figsize=(8,6),\n",
    "          add_ds_dict=True,\n",
    "          minus_variables=config['ts_kw'].get(g[0], {}).get('minus_variables', [None]))\n",
    "\n",
    "if 'ssp245' in g[0]:\n",
    "    kw.update(dict(_label_id=2))\n",
    "if i in index_errors:\n",
    "    kw.update(dict(extra_suptitle=index_errors[i].upper() + '! '))\n",
    "\n",
    "res_0 = result_bucket[g[0]]\n",
    "res_1 = result_bucket[g[1]]\n",
    "for reg in [r_up, r_down]:\n",
    "# for reg in regions:\n",
    "    mask = reg.modify_mask(da_na_45n)\n",
    "\n",
    "    label = reg.label\n",
    "    wb_res = plot_water_budget_for_masks(\n",
    "            mask_dict = {label: mask},\n",
    "            res_1=res_1,\n",
    "            res_0=res_0,\n",
    "            **kw,\n",
    "    );\n",
    "    da_585 = sv_to_mm_per_year(fw_convergence(ds_585, lat_min=reg.lat_min, lat_max=reg.lat_max),\n",
    "                               area=res_0.full_ds['cell_area'].where(mask).sum())\n",
    "    ref_585 = da_585.values[kw['average_slice']].mean()\n",
    "    da_126 = sv_to_mm_per_year(fw_convergence(ds_126, lat_min=reg.lat_min, lat_max=reg.lat_max),\n",
    "                               area=res_0.full_ds['cell_area'].where(mask).sum())\n",
    "    ref_126 = da_126.values[kw['average_slice']].mean()\n",
    "#     da_126 = sv_to_mm_per_year(fw_convergence(ds_126, **fw_kw), area=res_0.full_ds['cell_area'].where(mask).sum())\n",
    "#     ref_126 = da_126.values[slice(115, 144, None)].mean()\n",
    "        \n",
    "    # (da-ref).plot(alpha=0.1)/\n",
    "\n",
    "    plt.plot(da_585.time, smoother(da_585)-ref_585, c='black', label='WT ssp585')\n",
    "    plt.plot(da_126.time, smoother(da_126)-ref_126, c='black', label='WT ssp126', ls='--')\n",
    "#     plt.plot(da_126.time, smoother(da_126)-ref_126, c='black', ls='--', label='Freshwater transport ssp126')\n",
    "    \n",
    "#     plt.ylabel('$\\Delta$FWT [mm/year]')\n",
    "    plt.legend(**oet.utils.legend_kw(**{'ncol':3,'bbox_to_anchor': (0.0, 1.07, 1, 0.32),\n",
    "                                        'labelspacing': 0.4,\n",
    "                                        'handletextpad': 0.6,\n",
    "                                         'borderaxespad':0.4,\n",
    "                                        'handlelength': 1.6\n",
    "                                       }))\n",
    "#     plt.ylim(-1200,600)\n",
    "    add_mask_to_figure(mask, subplot_kw=dict(position=[0.13, 0.2, 0.30, 0.3]) if r.label == 'Nordic Seas' else None\n",
    "                      )\n",
    "    \n",
    "    \n",
    "#     oet.utils.save_fig(f'water_budget_mri_{lat_min}:{lat_max}N', **save_kw, sub_dir = 'figure_s4')\n",
    "#     oet.utils.save_fig(f'water_budget_{res_0.label}_{reg}', **save_kw, sub_dir = 'figure_s4')\n",
    "    plt.show()\n",
    "    \n",
    "#     fig = plt.gcf()\n",
    "#     fig.set_figheight(8)\n",
    "#     fig.set_figheight(6)\n",
    "# plt."
   ]
  },
  {
   "cell_type": "code",
   "execution_count": null,
   "id": "1d852766",
   "metadata": {
    "ExecuteTime": {
     "start_time": "2024-09-30T12:10:44.703Z"
    },
    "scrolled": false
   },
   "outputs": [],
   "source": [
    "wb_585 = wb_res[0][0]\n",
    "sorted(wb_585.ds_dict)\n",
    "kw = dict(vmin=-2000, vmax=2000, cmap='RdBu_r')\n",
    "kw_delta  = dict(vmin=-2000, vmax=2000, cmap='RdBu_r')\n",
    "cbar_kw = dict(orientation='horizontal', label='sea-ice melt [mm/year]')\n",
    "\n",
    "da = wb_585.ds_dict['fsitherm']['fsitherm']\n",
    "da_2000=da.sel(time=slice(1990,2000)).mean('time')\n",
    "da_2100=da.sel(time=slice(2090,2100)).mean('time')\n",
    "oet.plotting.plot.plot_da(da_2000,\n",
    "                         cbar_kwargs=cbar_kw,\n",
    "                         **kw)\n",
    "plt.title('Sea ice melt 1995')\n",
    "plt.gca().set_extent([-90,30,40,90])\n",
    "plt.suptitle(wb_585.ds_dict['wfo'].source_id)\n",
    "plt.show()\n",
    "\n",
    "oet.plotting.plot.plot_da(da_2100,\n",
    "                         cbar_kwargs=cbar_kw,\n",
    "                         **kw)\n",
    "plt.title('Sea ice melt 2095')\n",
    "plt.gca().set_extent([-90,30,40,90])\n",
    "plt.suptitle(wb_585.ds_dict['wfo'].source_id)\n",
    "plt.show()\n",
    "\n",
    "\n",
    "oet.plotting.plot.plot_da(da_2100 - da_2000,\n",
    "                         cbar_kwargs=cbar_kw,\n",
    "                         **kw_delta)\n",
    "plt.title('$\\Delta $ Sea ice melt 2095 - 1995')\n",
    "plt.gca().set_extent([-90,30,40,90])\n",
    "plt.suptitle(wb_585.ds_dict['wfo'].source_id)\n",
    "plt.show()\n",
    "\n",
    "cbar_kw['label'] = 'P-E [mm/year]'\n",
    "da = wb_585.ds_dict['pr-evs']['pr-evs']\n",
    "da_2000=da.sel(time=slice(1990,2000)).mean('time')\n",
    "da_2100=da.sel(time=slice(2090,2100)).mean('time')\n",
    "oet.plotting.plot.plot_da(da_2000,\n",
    "                         cbar_kwargs=cbar_kw,\n",
    "                         **kw)\n",
    "plt.title('P-E 1995')\n",
    "plt.gca().set_extent([-90,30,40,90])\n",
    "plt.suptitle(wb_585.ds_dict['wfo'].source_id)\n",
    "plt.show()\n",
    "\n",
    "oet.plotting.plot.plot_da(da_2100,\n",
    "                         cbar_kwargs=cbar_kw,\n",
    "                         **kw)\n",
    "plt.title('P-E 2095')\n",
    "plt.gca().set_extent([-90,30,40,90])\n",
    "plt.suptitle(wb_585.ds_dict['wfo'].source_id)\n",
    "plt.show()\n",
    "\n",
    "\n",
    "\n",
    "oet.plotting.plot.plot_da(da_2100 - da_2000,\n",
    "                         cbar_kwargs=cbar_kw,\n",
    "                         **kw_delta)\n",
    "plt.title('$\\Delta $ P-E 2095 - 1995')\n",
    "plt.gca().set_extent([-90,30,40,90])\n",
    "plt.suptitle(wb_585.ds_dict['wfo'].source_id)\n",
    "plt.show()"
   ]
  },
  {
   "cell_type": "code",
   "execution_count": null,
   "id": "413b64db",
   "metadata": {
    "ExecuteTime": {
     "start_time": "2024-09-30T12:10:44.703Z"
    }
   },
   "outputs": [],
   "source": [
    "group_labels"
   ]
  },
  {
   "cell_type": "code",
   "execution_count": null,
   "id": "2f52c11a",
   "metadata": {
    "ExecuteTime": {
     "start_time": "2024-09-30T12:10:44.704Z"
    },
    "scrolled": false
   },
   "outputs": [],
   "source": [
    "for i in [2,5]:\n",
    "    g = group_labels[i]\n",
    "    ds_585 = read_fwt_for_source_and_ssp(g[0].split()[0], 'ssp585')\n",
    "    kw = dict(rm=30, \n",
    "               average_slice=slice(115,144), \n",
    "              update_labels=False,\n",
    "              figsize=(8,6),\n",
    "              add_ds_dict=True,\n",
    "              minus_variables=config['ts_kw'].get(g[0], {}).get('minus_variables', [None]))\n",
    "\n",
    "    if 'ssp245' in g[0]:\n",
    "        kw.update(dict(_label_id=2))\n",
    "    if i in index_errors:\n",
    "        kw.update(dict(extra_suptitle=index_errors[i].upper() + '! '))\n",
    "\n",
    "    res_0 = result_bucket[g[0]]\n",
    "    res_1 = result_bucket[g[1]]\n",
    "    for reg in [r_up, r_down]:\n",
    "        mask = reg.modify_mask(da_na_45n)\n",
    "\n",
    "        label = reg.label\n",
    "        wb_res = plot_water_budget_for_masks(\n",
    "                mask_dict = {label: mask},\n",
    "                res_1=res_1,\n",
    "                res_0=res_0,\n",
    "                **kw,\n",
    "        );\n",
    "        da_585 = sv_to_mm_per_year(fw_convergence(ds_585, lat_min=reg.lat_min, lat_max=reg.lat_max),\n",
    "                                   area=res_0.full_ds['cell_area'].where(mask).sum())\n",
    "        ref_585 = da_585.values[kw['average_slice']].mean()\n",
    "\n",
    "        plt.plot(da_585.time, smoother(da_585)-ref_585, c='black', label='WT ssp585')\n",
    "        plt.legend(**oet.utils.legend_kw(**{'ncol':3,'bbox_to_anchor': (0.0, 1.07, 1, 0.32),\n",
    "                                            'labelspacing': 0.4,\n",
    "                                            'handletextpad': 0.6,\n",
    "                                             'borderaxespad':0.4,\n",
    "                                            'handlelength': 1.6\n",
    "                                           }))\n",
    "        add_mask_to_figure(mask, subplot_kw=dict(position=[0.13, 0.2, 0.30, 0.3]) if r.label == 'Nordic Seas' else None\n",
    "                          )\n",
    "\n",
    "\n",
    "        oet.utils.save_fig(f'water_budget_{res_0.label}_{reg}', **save_kw, sub_dir = 'figure_s4')\n",
    "        plt.show()\n",
    "\n",
    "    #     fig = plt.gcf()\n",
    "    #     fig.set_figheight(8)\n",
    "    #     fig.set_figheight(6)\n",
    "    # plt."
   ]
  },
  {
   "cell_type": "code",
   "execution_count": null,
   "id": "7a266740",
   "metadata": {
    "ExecuteTime": {
     "start_time": "2024-09-30T12:10:44.704Z"
    }
   },
   "outputs": [],
   "source": [
    "for mask, fw_kw, label in zip(\n",
    "    [da_na_65n_80n, da_na_45n_65n],\n",
    "    [dict(lat_min=65, lat_max=80), dict(lat_min=45, lat_max=65)],\n",
    "    ['Upper region', 'Lower region']\n",
    "):\n",
    "\n",
    "    da_585 = fw_convergence(ds_585, **fw_kw)\n",
    "    plt.plot(da_585.time, smoother(da_585), label=label)\n",
    "plt.title('MRI ESM2-0 ssp585')\n",
    "plt.ylabel('Surface water transport [Sv]')\n",
    "plt.legend()"
   ]
  },
  {
   "cell_type": "code",
   "execution_count": null,
   "id": "5ef7d140",
   "metadata": {
    "ExecuteTime": {
     "end_time": "2024-09-05T12:14:39.510165Z",
     "start_time": "2024-09-05T12:14:39.506961Z"
    }
   },
   "outputs": [],
   "source": []
  },
  {
   "cell_type": "code",
   "execution_count": null,
   "id": "11f53ee3",
   "metadata": {
    "ExecuteTime": {
     "end_time": "2024-09-05T12:15:51.892024Z",
     "start_time": "2024-09-05T12:15:51.889070Z"
    }
   },
   "outputs": [],
   "source": []
  },
  {
   "cell_type": "code",
   "execution_count": null,
   "id": "27262aa4",
   "metadata": {
    "ExecuteTime": {
     "start_time": "2024-09-30T12:10:44.706Z"
    }
   },
   "outputs": [],
   "source": [
    "def get_figure():\n",
    "    xmin, xmax = -70, 5\n",
    "    ymin, ymax = 33, 81\n",
    "    projection='LambertAzimuthalEqualArea'\n",
    "    map_kw = dict(projection=oet.plotting.plot.get_cartopy_projection(projection=projection, \n",
    "                                                                      central_longitude=(xmin+xmax)/2,\n",
    "                                                                      central_latitude=(ymin+ymax)/2))\n",
    "\n",
    "    fig, axes = plt.subplot_mosaic('abc',\n",
    "                                   figsize=(20,8),\n",
    "#                                    height_ratios=[2,1],\n",
    "                                   gridspec_kw=dict(hspace=0.0, wspace=0.15),\n",
    "                                   per_subplot_kw=dict(a=map_kw,b=map_kw,c=map_kw))\n",
    "\n",
    "    cmap = mpl.cm.viridis\n",
    "    kw = dict(add_colorbar=True, cmap=cmap,cbar_kwargs=dict(orientation='horizontal',\n",
    "                                                            aspect=40,\n",
    "    #                                                         shrink=0.5,\n",
    "                                                            pad=0.07,\n",
    "                                                            label=f'Mixed layer depth in March [m] {res_0.year_str}'))\n",
    "    for k in 'abc':\n",
    "        ax = axes[k]\n",
    "        off=0\n",
    "        ax.set_extent([xmin-off,xmax+off,ymin,ymax])\n",
    "        ax.add_feature(cfeature.NaturalEarthFeature('physical', 'land', '110m', \n",
    "                                                    edgecolor='k', facecolor='gainsboro', zorder=2))\n",
    "        ax.add_feature(cfeature.COASTLINE)\n",
    "        gl = ax.gridlines(draw_labels=True, zorder=1)\n",
    "        gl.top_labels=False\n",
    "        gl.right_labels=False\n",
    "    return fig, axes"
   ]
  },
  {
   "cell_type": "code",
   "execution_count": null,
   "id": "71d185d4",
   "metadata": {
    "ExecuteTime": {
     "start_time": "2024-09-30T12:10:44.707Z"
    }
   },
   "outputs": [],
   "source": [
    "g = group_labels[0]\n",
    "r = result_bucket[g[0]]\n",
    "\n"
   ]
  },
  {
   "cell_type": "code",
   "execution_count": null,
   "id": "f0f46bd4",
   "metadata": {
    "ExecuteTime": {
     "start_time": "2024-09-30T12:10:44.707Z"
    },
    "scrolled": false
   },
   "outputs": [],
   "source": [
    "for r in oet.utils.tqdm([result_bucket[k] for kk in group_labels for k in kk]):\n",
    "    kw=dict()\n",
    "    fig,axes = get_figure()\n",
    "    years_2100 = 2070,2100\n",
    "    da_2100 = r.full_ds['mlotst_march'].sel(time=slice(*years_2100)).mean('time')\n",
    "    #                                                                        **kw)\n",
    "\n",
    "    single_sets = []\n",
    "    for idx in np.unique(r.region_map.values):\n",
    "        if idx == 0:\n",
    "            continue\n",
    "        single_sets.append(r.region_map == idx)\n",
    "    single_sets = sorted(\n",
    "            single_sets,\n",
    "            key=lambda x: partial(amoc_deep_dive.median_lat_lon, ds=r.full_ds)(x.values)[1],\n",
    "        )\n",
    "\n",
    "    _pkw = dict(transform=oet.plotting.plot.get_cartopy_transform(),\n",
    "                **{**dict(vmin=0,vmax=r.da_basis.max(),),**kw}\n",
    "               )\n",
    "    r.da_global.plot(\n",
    "        ax=axes['a'], **_pkw, \n",
    "        cbar_kwargs=dict(label=f'Mixed layer depth in March [m]\\n {res_0.year_str}', orientation = 'horizontal'))\n",
    "    str_years_2100 = \" - \" .join([str(y) for y in years_2100])\n",
    "    da_2100.plot(\n",
    "        ax=axes['b'], **_pkw, \n",
    "        cbar_kwargs=dict(label=f'Mixed layer depth in March [m]\\n mean in {str_years_2100}', orientation = 'horizontal')\n",
    "    )\n",
    "\n",
    "\n",
    "    (da_2100-r.da_global).plot(\n",
    "        ax=axes['c'], **{**_pkw, **dict(vmin=None, vmax=None),}, \n",
    "        cbar_kwargs=dict(label=f'$\\Delta$ Mixed layer depth in March [m] \\n({str_years_2100}) - ({res_0.year_str.split(\" in \")[1]})',\n",
    "                         orientation = 'horizontal'))\n",
    "    for k in 'abc':\n",
    "        plt.sca(axes[k])\n",
    "        for s,c in zip(single_sets, res_0.labels):\n",
    "            amoc_deep_dive.overlay_contour((s>0).astype(np.float32), \n",
    "                                           levels=[0.5,1.5], linewidths=2, \n",
    "                                           colors=global_color_dict[res_0.region_names[c]],\n",
    "                                           zorder=2,\n",
    "                                          transform=oet.plotting.plot.get_cartopy_transform())\n",
    "\n",
    "    for title, k in zip('1980 2085 Difference'.split(), 'abc'):\n",
    "        axes[k].set_title(title)\n",
    "\n",
    "    plt.suptitle(r.label, y=0.9)\n",
    "    oet.utils.save_fig(f'mlotst_{r.label}_delta', **save_kw, sub_dir = 'figure_s8')\n",
    "    plt.show()\n"
   ]
  }
 ],
 "metadata": {
  "kernelspec": {
   "display_name": "Python 3 (ipykernel)",
   "language": "python",
   "name": "python3"
  },
  "language_info": {
   "codemirror_mode": {
    "name": "ipython",
    "version": 3
   },
   "file_extension": ".py",
   "mimetype": "text/x-python",
   "name": "python",
   "nbconvert_exporter": "python",
   "pygments_lexer": "ipython3",
   "version": "3.8.16"
  }
 },
 "nbformat": 4,
 "nbformat_minor": 5
}
