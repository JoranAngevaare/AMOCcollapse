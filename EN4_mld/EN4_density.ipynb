{
 "cells": [
  {
   "cell_type": "code",
   "execution_count": null,
   "id": "3e2c2627-ba55-4b7c-a36d-cb1e47f0366e",
   "metadata": {},
   "outputs": [],
   "source": [
    "import os\n",
    "import copy\n",
    "\n",
    "import numpy as np\n",
    "import gsw   as gsw\n",
    "\n",
    "from netCDF4 import Dataset"
   ]
  },
  {
   "cell_type": "code",
   "execution_count": null,
   "id": "8af19f39-38fb-43c1-a79e-fd75a12e510c",
   "metadata": {},
   "outputs": [],
   "source": [
    "# Diretories where data is stored:\n",
    "\n",
    "datadir = '/gws/nopw/j04/nemo_vol1/jmecking/en4/v4.2.2_c14/' # Directory with original downloaded EN4 data\n",
    "savedir = '/gws/nopw/j04/nemo_vol1/jmecking/en4/v4.2.2_c14/density/'  # Directory to store density data"
   ]
  },
  {
   "cell_type": "code",
   "execution_count": null,
   "id": "47f8b7b3-0979-43a5-bc96-0c984594d37b",
   "metadata": {},
   "outputs": [],
   "source": [
    "# Compute potential and in-situ density:\n",
    "yr = np.arange(1900,2025)\n",
    "ny = np.size(yr,axis=0)\n",
    "\n",
    "for yy in range(0,ny):\n",
    "    for mm in range(0,12):\n",
    "        infile  = (datadir + 'EN.4.2.2.f.analysis.c14.' + str(yr[yy]) + str(mm+1).zfill(2) + '.nc')\n",
    "        outfile = (savedir + 'EN.4.2.2.f.analysis.c14.' + str(yr[yy]) + str(mm+1).zfill(2) + '_density.nc')\n",
    "        if os.path.isfile(infile):\n",
    "            if not os.path.isfile(outfile):\n",
    "                print(infile)\n",
    "                # Read in temperature and salinity:\n",
    "                ncid = Dataset(infile,'r')\n",
    "                pt  = np.squeeze(ncid.variables['temperature'][:,:,:,:])\n",
    "                SP  = np.squeeze(ncid.variables['salinity'][:,:,:,:])\n",
    "                lat = ncid.variables['lat'][:]\n",
    "                lon = ncid.variables['lon'][:]\n",
    "                depth = ncid.variables['depth'][:]\n",
    "                time  = ncid.variables['time'][:]\n",
    "                time_bnds = ncid.variables[ncid.variables['time'].bounds][:,:]\n",
    "                ncid.close()\n",
    "\n",
    "                # Set required variables:\n",
    "                LON,LAT = np.meshgrid(lon,lat)\n",
    "                LON = np.tile(LON,(np.size(depth),1,1))\n",
    "                LAT = np.tile(LAT,(np.size(depth),1,1))\n",
    "                DEP = np.swapaxes(np.tile(depth,(np.size(lon),np.size(lat),1)),0,2)\n",
    "                p   = gsw.p_from_z(-DEP,LAT)\n",
    "                \n",
    "                # Compute densities:\n",
    "                SA     = gsw.SA_from_SP(SP, p, LON, LAT)\n",
    "                CT     = gsw.conversions.CT_from_pt(SA, pt-273.15)\n",
    "                sigma0 = gsw.density.sigma0(SA, CT)\n",
    "                rho    = gsw.density.rho(SA, CT, p)\n",
    "\n",
    "                # Write to file:\n",
    "                ncid = Dataset(outfile,'w')\n",
    "                \n",
    "                # coordinates:\n",
    "                ncid.createDimension('lat'  ,len(lat))\n",
    "                ncid.createDimension('lon'  ,len(lon))\n",
    "                ncid.createDimension('depth',len(depth))\n",
    "                ncid.createDimension('bnds' ,2)\n",
    "                ncid.createDimension('time' ,None)\n",
    "\n",
    "                # variables:\n",
    "                ncid.createVariable('lat'      ,'f8' ,('lat',))\n",
    "                ncid.createVariable('lon'      ,'f8' ,('lon',))\n",
    "                ncid.createVariable('depth'    ,'f8' ,('depth',))\n",
    "                ncid.createVariable('time'     ,'f8' ,('time',))\n",
    "                ncid.createVariable('time_bnds','f8' ,('time','bnds',))\n",
    "                ncid.createVariable('rho'      ,'f8' ,('time','depth','lat','lon',))\n",
    "                ncid.createVariable('sigma0'   ,'f8' ,('time','depth','lat','lon',))\n",
    "\n",
    "                # fill variables:\n",
    "                ncid.variables['lat'][:]          = lat\n",
    "                ncid.variables['lon'][:]          = lon\n",
    "                ncid.variables['depth'][:]        = depth\n",
    "                ncid.variables['time'][:]         = time\n",
    "                ncid.variables['time_bnds'][:]    = time_bnds\n",
    "                ncid.variables['rho'][0,:,:,:]    = rho\n",
    "                ncid.variables['sigma0'][0,:,:,:] = 1000 + sigma0\n",
    "\n",
    "                # Close netcdf file:\n",
    "                ncid.close()"
   ]
  },
  {
   "cell_type": "code",
   "execution_count": null,
   "id": "f0a4682b-dd12-4025-9219-39a27ee7a976",
   "metadata": {},
   "outputs": [],
   "source": []
  }
 ],
 "metadata": {
  "kernelspec": {
   "display_name": "FWTpaper",
   "language": "python",
   "name": "fwtpaper"
  },
  "language_info": {
   "codemirror_mode": {
    "name": "ipython",
    "version": 3
   },
   "file_extension": ".py",
   "mimetype": "text/x-python",
   "name": "python",
   "nbconvert_exporter": "python",
   "pygments_lexer": "ipython3",
   "version": "3.10.14"
  }
 },
 "nbformat": 4,
 "nbformat_minor": 5
}
