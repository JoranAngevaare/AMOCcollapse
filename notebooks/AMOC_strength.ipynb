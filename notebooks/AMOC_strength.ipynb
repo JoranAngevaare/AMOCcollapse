{
 "cells": [
  {
   "cell_type": "markdown",
   "id": "208f965d",
   "metadata": {},
   "source": [
    "## Setup and imports"
   ]
  },
  {
   "cell_type": "code",
   "execution_count": 1,
   "id": "ba73ce83",
   "metadata": {
    "ExecuteTime": {
     "end_time": "2024-09-30T14:35:59.312922Z",
     "start_time": "2024-09-30T14:35:57.951383Z"
    }
   },
   "outputs": [
    {
     "name": "stdout",
     "output_type": "stream",
     "text": [
      "go\n",
      "Hi there, have a great and productive day :)\n"
     ]
    }
   ],
   "source": [
    "print('go')\n",
    "import optim_esm_tools as oet\n",
    "%run ../amoc_collapse_scripts/imports.py\n",
    "from amoc_collapse_scripts import helper_scripts, manual_msft"
   ]
  },
  {
   "cell_type": "code",
   "execution_count": 2,
   "id": "e42ec7b8",
   "metadata": {
    "ExecuteTime": {
     "end_time": "2024-09-30T14:35:59.319384Z",
     "start_time": "2024-09-30T14:35:59.315065Z"
    }
   },
   "outputs": [],
   "source": [
    "def gausian_filter(y, n=100, mu=7.5):\n",
    "    b = gaussian(n, mu)\n",
    "    gauss = scipy.ndimage.convolve1d(y, b / b.sum())\n",
    "    return gauss\n",
    "\n",
    "smoother = gausian_filter"
   ]
  },
  {
   "cell_type": "code",
   "execution_count": 3,
   "id": "4cec8642",
   "metadata": {
    "ExecuteTime": {
     "end_time": "2024-09-30T14:35:59.328249Z",
     "start_time": "2024-09-30T14:35:59.323024Z"
    }
   },
   "outputs": [],
   "source": [
    "base = '/data/volume_2/tipping_figures/2024_02_27_msft_v12'\n",
    "paper_figure_path = os.path.join(base, 'paper_v2024.09.05_paper')\n",
    "os.makedirs(base, exist_ok=True)\n",
    "os.makedirs(paper_figure_path, exist_ok=True)"
   ]
  },
  {
   "cell_type": "code",
   "execution_count": 4,
   "id": "be81e0f2",
   "metadata": {
    "ExecuteTime": {
     "end_time": "2024-09-30T14:35:59.335567Z",
     "start_time": "2024-09-30T14:35:59.329476Z"
    }
   },
   "outputs": [
    {
     "name": "stdout",
     "output_type": "stream",
     "text": [
      "Change default plt.table row height\n"
     ]
    }
   ],
   "source": [
    "oet.utils.setup_plt()\n",
    "oet.analyze.combine_variables.change_plt_table_height(1.5)"
   ]
  },
  {
   "cell_type": "code",
   "execution_count": 5,
   "id": "26813352",
   "metadata": {
    "ExecuteTime": {
     "end_time": "2024-09-30T14:35:59.611158Z",
     "start_time": "2024-09-30T14:35:59.336834Z"
    }
   },
   "outputs": [],
   "source": [
    "ds_ht_rapid_full = oet.load_glob('/data/volume_2/2024_08_12_rapid_data/mocha_mht_data_ERA5_v2020.nc')\n",
    "ds_rapid_vert_full = oet.load_glob('/data/volume_2/2024_08_12_rapid_data/moc_vertical.nc')\n",
    "t0 = oet.analyze.xarray_tools._native_date_fmt(ds_rapid_vert_full['time'], (2005,1,1))\n",
    "t1 = oet.analyze.xarray_tools._native_date_fmt(ds_rapid_vert_full['time'], (2021,12,31,23,59,59))\n",
    "ds_rapid = ds_rapid_vert_full.sel(time=slice(t0,t1))\n",
    "t0 = oet.analyze.xarray_tools._native_date_fmt(ds_ht_rapid_full['time'], (2005,1,1))\n",
    "t1 = oet.analyze.xarray_tools._native_date_fmt(ds_ht_rapid_full['time'], (2019,12,31,23,59,59))\n",
    "ds_ht_rapid = ds_ht_rapid_full.sel(time=slice(t0,t1))\n",
    "\n",
    "\n",
    "ds_transport = oet.load_glob('/data/volume_2/tipping_figures/2024_05_07_amoc/data/transports_from_jenny/Atlantic_OHT_H_None_26.5N_SybrenPaper.nc')"
   ]
  },
  {
   "cell_type": "markdown",
   "id": "bb00953f",
   "metadata": {},
   "source": [
    "## Looping over all available data"
   ]
  },
  {
   "cell_type": "code",
   "execution_count": 6,
   "id": "d6e94f8d",
   "metadata": {
    "ExecuteTime": {
     "end_time": "2024-09-30T14:35:59.663839Z",
     "start_time": "2024-09-30T14:35:59.612691Z"
    }
   },
   "outputs": [
    {
     "data": {
      "text/plain": [
       "1209"
      ]
     },
     "execution_count": 6,
     "metadata": {},
     "output_type": "execute_result"
    }
   ],
   "source": [
    "heads = sorted(glob.glob('/data/volume_2/2024_06_17_msft_manual_stage/data/CMIP6/ScenarioMIP/*/*/*/*/*/msft*z/*/*'))\n",
    "len(heads)"
   ]
  },
  {
   "cell_type": "code",
   "execution_count": 7,
   "id": "5841abf1",
   "metadata": {
    "ExecuteTime": {
     "end_time": "2024-09-30T14:36:00.050091Z",
     "start_time": "2024-09-30T14:35:59.665294Z"
    }
   },
   "outputs": [],
   "source": [
    "work_dir = os.path.join(base, 'stats_v24.09.03.csv',)\n",
    "os.makedirs(work_dir, exist_ok=True)\n",
    "p_info=os.path.join(work_dir, 'infos_v24.09.03.csv')\n",
    "if os.path.exists(p_info):\n",
    "    infos = pd.read_csv(p_info)\n",
    "    infos = [a.to_dict() for _, a in infos.iterrows()]\n",
    "else:\n",
    "    infos = []\n",
    "p_doc=os.path.join(work_dir, 'docs_v24.09.03.csv')\n",
    "if os.path.exists(p_doc):\n",
    "    docs = pd.read_csv(p_doc)\n",
    "    docs = [a.to_dict() for _, a in docs.iterrows()]\n",
    "else:\n",
    "    docs = []"
   ]
  },
  {
   "cell_type": "code",
   "execution_count": 8,
   "id": "9dced5c8",
   "metadata": {
    "ExecuteTime": {
     "end_time": "2024-09-30T14:36:00.054719Z",
     "start_time": "2024-09-30T14:36:00.051730Z"
    }
   },
   "outputs": [],
   "source": [
    "head='/data/volume_2/2024_06_17_msft_manual_stage/data/CMIP6/ScenarioMIP'\n",
    "to_fix = [\n",
    "    '/data/volume_2/2024_06_17_msft_manual_stage/data/CMIP6/ScenarioMIP/CAS/CAS-ESM2-0/ssp126/r1i1p1f1/Omon/msftmz/gn/v20201230',\n",
    "    '/data/volume_2/2024_06_17_msft_manual_stage/data/CMIP6/ScenarioMIP/CAS/CAS-ESM2-0/ssp126/r3i1p1f1/Omon/msftmz/gn/v20201230',\n",
    "    '/data/volume_2/2024_06_17_msft_manual_stage/data/CMIP6/ScenarioMIP/CAS/CAS-ESM2-0/ssp245/r1i1p1f1/Omon/msftmz/gn/v20201230',\n",
    "    '/data/volume_2/2024_06_17_msft_manual_stage/data/CMIP6/ScenarioMIP/CAS/CAS-ESM2-0/ssp245/r3i1p1f1/Omon/msftmz/gn/v20201230',\n",
    "    '/data/volume_2/2024_06_17_msft_manual_stage/data/CMIP6/ScenarioMIP/CAS/CAS-ESM2-0/ssp370/r1i1p1f1/Omon/msftmz/gn/v20201230',\n",
    "    '/data/volume_2/2024_06_17_msft_manual_stage/data/CMIP6/ScenarioMIP/CAS/CAS-ESM2-0/ssp370/r3i1p1f1/Omon/msftmz/gn/v20201230',\n",
    "    '/data/volume_2/2024_06_17_msft_manual_stage/data/CMIP6/ScenarioMIP/CAS/CAS-ESM2-0/ssp585/r1i1p1f1/Omon/msftmz/gn/v20201230',\n",
    "    '/data/volume_2/2024_06_17_msft_manual_stage/data/CMIP6/ScenarioMIP/CAS/CAS-ESM2-0/ssp585/r3i1p1f1/Omon/msftmz/gn/v20201230',\n",
    "]\n",
    "bad = []"
   ]
  },
  {
   "cell_type": "code",
   "execution_count": 9,
   "id": "31377c60",
   "metadata": {
    "ExecuteTime": {
     "end_time": "2024-09-30T14:36:00.062771Z",
     "start_time": "2024-09-30T14:36:00.057848Z"
    }
   },
   "outputs": [],
   "source": [
    "def read_from_h(h, need_pi=False):\n",
    "    target = os.path.join(h, 'merged.nc')\n",
    "    paths = manual_msft.find_paths(target, need_pi=need_pi)\n",
    "\n",
    "    ds2, ds2_pi = manual_msft.get_dss_cached(paths, head, base)\n",
    "    return ds2, ds2_pi"
   ]
  },
  {
   "cell_type": "code",
   "execution_count": 10,
   "id": "04d77946",
   "metadata": {
    "ExecuteTime": {
     "end_time": "2024-09-30T14:36:00.169674Z",
     "start_time": "2024-09-30T14:36:00.064054Z"
    }
   },
   "outputs": [
    {
     "name": "stdout",
     "output_type": "stream",
     "text": [
      "/data/volume_2/2024_06_17_msft_manual_stage/data/CMIP6/ScenarioMIP/CAS/CAS-ESM2-0/ssp126/r1i1p1f1/Omon/msftmz/gn/v20201230 False\n",
      "/data/volume_2/2024_06_17_msft_manual_stage/data/CMIP6/ScenarioMIP/CAS/CAS-ESM2-0/ssp126/r3i1p1f1/Omon/msftmz/gn/v20201230 False\n",
      "/data/volume_2/2024_06_17_msft_manual_stage/data/CMIP6/ScenarioMIP/CAS/CAS-ESM2-0/ssp245/r1i1p1f1/Omon/msftmz/gn/v20201230 False\n",
      "/data/volume_2/2024_06_17_msft_manual_stage/data/CMIP6/ScenarioMIP/CAS/CAS-ESM2-0/ssp245/r3i1p1f1/Omon/msftmz/gn/v20201230 False\n",
      "/data/volume_2/2024_06_17_msft_manual_stage/data/CMIP6/ScenarioMIP/CAS/CAS-ESM2-0/ssp370/r1i1p1f1/Omon/msftmz/gn/v20201230 False\n",
      "/data/volume_2/2024_06_17_msft_manual_stage/data/CMIP6/ScenarioMIP/CAS/CAS-ESM2-0/ssp370/r3i1p1f1/Omon/msftmz/gn/v20201230 False\n",
      "/data/volume_2/2024_06_17_msft_manual_stage/data/CMIP6/ScenarioMIP/CAS/CAS-ESM2-0/ssp585/r1i1p1f1/Omon/msftmz/gn/v20201230 False\n",
      "/data/volume_2/2024_06_17_msft_manual_stage/data/CMIP6/ScenarioMIP/CAS/CAS-ESM2-0/ssp585/r3i1p1f1/Omon/msftmz/gn/v20201230 False\n"
     ]
    }
   ],
   "source": [
    "for p in to_fix:\n",
    "    if os.path.exists(pp:=os.path.join(p, 'merged.nc')):\n",
    "        print(p, oet.load_glob(pp)['time'].values[-1]>2100)"
   ]
  },
  {
   "cell_type": "code",
   "execution_count": 11,
   "id": "df0c161d",
   "metadata": {
    "ExecuteTime": {
     "end_time": "2024-09-30T14:36:00.224208Z",
     "start_time": "2024-09-30T14:36:00.171208Z"
    },
    "scrolled": true
   },
   "outputs": [
    {
     "data": {
      "application/vnd.jupyter.widget-view+json": {
       "model_id": "4b11eb7c988c48d59284375073d8c116",
       "version_major": 2,
       "version_minor": 0
      },
      "text/plain": [
       "  0%|          | 0/1209 [00:00<?, ?it/s]"
      ]
     },
     "metadata": {},
     "output_type": "display_data"
    }
   ],
   "source": [
    "for h in oet.utils.tqdm(heads):\n",
    "    if h in to_fix or any(h==d['h'] for d in infos):\n",
    "        continue\n",
    "    \n",
    "    target = os.path.join(h, 'merged.nc')\n",
    "    if not os.path.exists(target):\n",
    "        files = sorted([f for f in glob.glob(os.path.join(h, '*.nc')) if 'merged.nc' not in f])\n",
    "        manual_msft.build_ds(files, target)\n",
    "    try:\n",
    "        try:\n",
    "            paths = manual_msft.find_paths(target)\n",
    "        except ValueError:\n",
    "            paths = manual_msft.find_paths(target, need_pi=False)\n",
    "    except ValueError as e:\n",
    "#         raise\n",
    "        print(f'find {e} for {h}')\n",
    "        infos.append(dict(h=h))\n",
    "        docs.append(dict(h=h))\n",
    "        pd.DataFrame(infos).to_csv(p_info, index=None)\n",
    "        pd.DataFrame(docs).to_csv(p_doc, index=None)\n",
    "        bad += [h]\n",
    "        continue\n",
    "        \n",
    "    try:\n",
    "        ds2, ds2_pi = manual_msft.get_dss_cached(paths, head, base)\n",
    "        ds2_pi_shift = manual_msft.shift_to_start(ds2_pi, ds2, offset=50) \n",
    "    except ValueError as e:\n",
    "        bad += [h]\n",
    "        print(f'build {e} for {h}')\n",
    "        raise\n",
    "#         continue\n",
    "\n",
    "    doc = manual_msft.tabulated_plot(ds2, ds2_pi_shift)\n",
    "    name = ' '.join(target.replace(head, '').split(os.sep)[:-1])\n",
    "    plt.suptitle(name,y=1.1)\n",
    "    \n",
    "    oet.utils.save_fig(save_in=os.path.join(base, 'figures_v4'), \n",
    "                       file_types=('png',), sub_dir='', name=name.replace(' ', '_')+'_v4')\n",
    "    oet.plotting.plot._show(len(docs) > 0.90 * (len(heads)-len(bad))*len(doc))\n",
    "\n",
    "#     info={k: manual_msft.crit_E(**d) for k, d in doc.items()}\n",
    "    info['last_year'] = int(ds2['time'].values[-1])\n",
    "    \n",
    "    info['h']=h\n",
    "    for b, row in doc.items():\n",
    "        docs.append(dict(**row, h=h, basin=b))\n",
    "    infos += [info]\n",
    "    \n",
    "    pd.DataFrame(infos).to_csv(p_info, index=None)\n",
    "    pd.DataFrame(docs).to_csv(p_doc, index=None)\n"
   ]
  },
  {
   "cell_type": "code",
   "execution_count": 12,
   "id": "4f430434",
   "metadata": {
    "ExecuteTime": {
     "end_time": "2024-09-30T14:36:00.227667Z",
     "start_time": "2024-09-30T14:36:00.225527Z"
    }
   },
   "outputs": [],
   "source": [
    "work_docs = docs.copy()"
   ]
  },
  {
   "cell_type": "code",
   "execution_count": 13,
   "id": "a1b8b695",
   "metadata": {
    "ExecuteTime": {
     "end_time": "2024-09-30T14:36:00.316101Z",
     "start_time": "2024-09-30T14:36:00.229003Z"
    }
   },
   "outputs": [
    {
     "data": {
      "application/vnd.jupyter.widget-view+json": {
       "model_id": "d899adf57a164141b248e1a08c95f1fb",
       "version_major": 2,
       "version_minor": 0
      },
      "text/plain": [
       "  0%|          | 0/5415 [00:00<?, ?it/s]"
      ]
     },
     "metadata": {},
     "output_type": "display_data"
    }
   ],
   "source": [
    "for i, d in enumerate(oet.utils.tqdm(work_docs.copy())):\n",
    "    p_split = d['h'].split(os.sep)\n",
    "    e = dict(source_id = p_split[8], ssp=p_split[9], variant_label=p_split[10], \n",
    "             variable_id =p_split[12], grid_id=p_split[-2], version=p_split[-1])\n",
    "    work_docs[i].update(e)\n",
    "    if 'last_year' not in d:\n",
    "        work_docs[i].update(dict(last_year=int(oet.load_glob(d['h'] + '/merged.nc')['time'].values[-1])))\n",
    "pd.DataFrame(docs).to_csv(p_doc, index=None)"
   ]
  },
  {
   "cell_type": "code",
   "execution_count": 14,
   "id": "30b0336e",
   "metadata": {
    "ExecuteTime": {
     "end_time": "2024-09-30T14:36:04.525338Z",
     "start_time": "2024-09-30T14:36:00.317708Z"
    },
    "scrolled": false
   },
   "outputs": [
    {
     "data": {
      "application/vnd.jupyter.widget-view+json": {
       "model_id": "9683fbcbc3df498da46a9ace9f60e91d",
       "version_major": 2,
       "version_minor": 0
      },
      "text/plain": [
       "ssp119:   0%|          | 0/40 [00:00<?, ?it/s]"
      ]
     },
     "metadata": {},
     "output_type": "display_data"
    },
    {
     "name": "stdout",
     "output_type": "stream",
     "text": [
      "keep msftmz of {'msftyz', 'msftmz'} for MRI-ESM2-0 ssp119 r1i1p1f1\n",
      "keep msftmz of {'msftyz', 'msftmz'} for MRI-ESM2-0 ssp119 r2i1p1f1\n",
      "keep msftmz of {'msftyz', 'msftmz'} for MRI-ESM2-0 ssp119 r3i1p1f1\n",
      "keep msftmz of {'msftyz', 'msftmz'} for MRI-ESM2-0 ssp119 r4i1p1f1\n",
      "keep msftmz of {'msftyz', 'msftmz'} for MRI-ESM2-0 ssp119 r5i1p1f1\n"
     ]
    },
    {
     "data": {
      "application/vnd.jupyter.widget-view+json": {
       "model_id": "47ff39d075774e48ab0014dd24895bef",
       "version_major": 2,
       "version_minor": 0
      },
      "text/plain": [
       "ssp126:   0%|          | 0/40 [00:00<?, ?it/s]"
      ]
     },
     "metadata": {},
     "output_type": "display_data"
    },
    {
     "name": "stdout",
     "output_type": "stream",
     "text": [
      "keep v20210322 of {'v20200519', 'v20210322'} for ACCESS-ESM1-5 ssp126 r2i1p1f1\n",
      "keep v20210318 of {'v20210318', 'v20191201'} for ACCESS-ESM1-5 ssp126 r3i1p1f1\n",
      "keep v20210318 of {'v20210318', 'v20200908'} for ACCESS-ESM1-5 ssp126 r8i1p1f1\n",
      "keep v20210318 of {'v20210318', 'v20200908'} for ACCESS-ESM1-5 ssp126 r9i1p1f1\n",
      "keep msftmz of {'msftyz', 'msftmz'} for MRI-ESM2-0 ssp126 r1i1p1f1\n",
      "keep msftmz of {'msftyz', 'msftmz'} for MRI-ESM2-0 ssp126 r2i1p1f1\n",
      "keep msftmz of {'msftyz', 'msftmz'} for MRI-ESM2-0 ssp126 r3i1p1f1\n",
      "keep msftmz of {'msftyz', 'msftmz'} for MRI-ESM2-0 ssp126 r4i1p1f1\n",
      "keep msftmz of {'msftyz', 'msftmz'} for MRI-ESM2-0 ssp126 r5i1p1f1\n"
     ]
    },
    {
     "data": {
      "application/vnd.jupyter.widget-view+json": {
       "model_id": "d9f93d90754340e2b925d1335b13bb62",
       "version_major": 2,
       "version_minor": 0
      },
      "text/plain": [
       "ssp245:   0%|          | 0/40 [00:00<?, ?it/s]"
      ]
     },
     "metadata": {},
     "output_type": "display_data"
    },
    {
     "name": "stdout",
     "output_type": "stream",
     "text": [
      "keep v20240606 of {'v20200115', 'v20240606'} for GISS-E2-1-G ssp245 r10i1p1f2\n",
      "keep v20240606 of {'v20200115', 'v20240606'} for GISS-E2-1-G ssp245 r1i1p1f2\n",
      "keep v20240606 of {'v20200115', 'v20240606'} for GISS-E2-1-G ssp245 r2i1p1f2\n",
      "keep v20240606 of {'v20200115', 'v20240606'} for GISS-E2-1-G ssp245 r3i1p1f2\n",
      "keep v20240606 of {'v20200115', 'v20240606'} for GISS-E2-1-G ssp245 r3i1p3f1\n",
      "keep v20240606 of {'v20200115', 'v20240606'} for GISS-E2-1-G ssp245 r4i1p1f2\n",
      "keep v20240606 of {'v20200115', 'v20240606'} for GISS-E2-1-G ssp245 r4i1p3f1\n",
      "keep v20240606 of {'v20200115', 'v20240606'} for GISS-E2-1-G ssp245 r5i1p1f2\n",
      "keep v20240606 of {'v20200115', 'v20240606'} for GISS-E2-1-G ssp245 r5i1p3f1\n",
      "keep v20240606 of {'v20200115', 'v20240606'} for GISS-E2-1-G ssp245 r6i1p1f2\n",
      "keep v20240606 of {'v20200115', 'v20240606'} for GISS-E2-1-G ssp245 r7i1p1f2\n",
      "keep v20240606 of {'v20200115', 'v20240606'} for GISS-E2-1-G ssp245 r8i1p1f2\n",
      "keep v20240606 of {'v20200115', 'v20240606'} for GISS-E2-1-G ssp245 r9i1p1f2\n",
      "keep msftmz of {'msftyz', 'msftmz'} for MRI-ESM2-0 ssp245 r1i1p1f1\n",
      "keep msftmz of {'msftyz', 'msftmz'} for MRI-ESM2-0 ssp245 r1i3p1f1\n",
      "keep msftmz of {'msftyz', 'msftmz'} for MRI-ESM2-0 ssp245 r2i1p1f1\n",
      "keep msftmz of {'msftyz', 'msftmz'} for MRI-ESM2-0 ssp245 r2i3p1f1\n",
      "keep msftmz of {'msftyz', 'msftmz'} for MRI-ESM2-0 ssp245 r3i1p1f1\n",
      "keep msftmz of {'msftyz', 'msftmz'} for MRI-ESM2-0 ssp245 r3i3p1f1\n",
      "keep msftmz of {'msftyz', 'msftmz'} for MRI-ESM2-0 ssp245 r4i1p1f1\n",
      "keep msftmz of {'msftyz', 'msftmz'} for MRI-ESM2-0 ssp245 r4i3p1f1\n",
      "keep msftmz of {'msftyz', 'msftmz'} for MRI-ESM2-0 ssp245 r5i1p1f1\n",
      "keep msftmz of {'msftyz', 'msftmz'} for MRI-ESM2-0 ssp245 r5i3p1f1\n"
     ]
    },
    {
     "data": {
      "application/vnd.jupyter.widget-view+json": {
       "model_id": "c49364603df8409dad82131fe085256f",
       "version_major": 2,
       "version_minor": 0
      },
      "text/plain": [
       "ssp370:   0%|          | 0/40 [00:00<?, ?it/s]"
      ]
     },
     "metadata": {},
     "output_type": "display_data"
    },
    {
     "name": "stdout",
     "output_type": "stream",
     "text": [
      "keep msftmz of {'msftyz', 'msftmz'} for MRI-ESM2-0 ssp370 r1i1p1f1\n",
      "keep msftmz of {'msftyz', 'msftmz'} for MRI-ESM2-0 ssp370 r2i1p1f1\n",
      "keep msftmz of {'msftyz', 'msftmz'} for MRI-ESM2-0 ssp370 r3i1p1f1\n",
      "keep msftmz of {'msftyz', 'msftmz'} for MRI-ESM2-0 ssp370 r4i1p1f1\n",
      "keep msftmz of {'msftyz', 'msftmz'} for MRI-ESM2-0 ssp370 r5i1p1f1\n"
     ]
    },
    {
     "data": {
      "application/vnd.jupyter.widget-view+json": {
       "model_id": "5fd24eaf9c754e7e8ac429db4f822f09",
       "version_major": 2,
       "version_minor": 0
      },
      "text/plain": [
       "ssp585:   0%|          | 0/40 [00:00<?, ?it/s]"
      ]
     },
     "metadata": {},
     "output_type": "display_data"
    },
    {
     "name": "stdout",
     "output_type": "stream",
     "text": [
      "keep v20210318 of {'v20200519', 'v20210318'} for ACCESS-ESM1-5 ssp585 r2i1p1f1\n",
      "keep v20210318 of {'v20210318', 'v20191203'} for ACCESS-ESM1-5 ssp585 r3i1p1f1\n",
      "keep v20240820 of {'v20190429', 'v20240820'} for CanESM5 ssp585 r1i1p1f1\n",
      "keep msftmz of {'msftyz', 'msftmz'} for MRI-ESM2-0 ssp585 r1i1p1f1\n",
      "keep msftmz of {'msftyz', 'msftmz'} for MRI-ESM2-0 ssp585 r1i2p1f1\n",
      "keep msftmz of {'msftyz', 'msftmz'} for MRI-ESM2-0 ssp585 r2i1p1f1\n",
      "keep msftmz of {'msftyz', 'msftmz'} for MRI-ESM2-0 ssp585 r3i1p1f1\n",
      "keep msftmz of {'msftyz', 'msftmz'} for MRI-ESM2-0 ssp585 r4i1p1f1\n",
      "keep msftmz of {'msftyz', 'msftmz'} for MRI-ESM2-0 ssp585 r5i1p1f1\n",
      "keep 5239 of 5415\n"
     ]
    }
   ],
   "source": [
    "keep_one_per_source_per_ssp = []\n",
    "for ssp in np.unique([w[\"ssp\"] for w in work_docs]):\n",
    "    for source_id in oet.utils.tqdm(\n",
    "        np.unique([w[\"source_id\"] for w in work_docs]), desc=ssp\n",
    "    ):\n",
    "        for variant_label in np.unique(\n",
    "            [\n",
    "                w[\"variant_label\"]\n",
    "                for w in work_docs\n",
    "                if (w[\"source_id\"] == source_id and w[\"ssp\"] == ssp)\n",
    "            ]\n",
    "        ):\n",
    "\n",
    "            matches = [\n",
    "                w\n",
    "                for w in work_docs\n",
    "                if all(\n",
    "                    w[k] == globals().get(k, 1)\n",
    "                    for k in \"ssp variant_label source_id\".split()\n",
    "                )\n",
    "            ]\n",
    "            versions = [os.path.split(w[\"h\"])[1] for w in matches]\n",
    "            variables = [w['variable_id'] for w in matches]\n",
    "            if len(set(versions)) > 1:\n",
    "                last_version = np.unique(versions)[1]\n",
    "                print(\n",
    "                    f\"keep {last_version} of {set(versions)} for {source_id} {ssp} {variant_label}\"\n",
    "                )\n",
    "                keep_one_per_source_per_ssp += [w for w, v in zip(matches, versions) if v == last_version]\n",
    "            elif len(set(variables)) >1:\n",
    "                keep_var = np.unique(variables)[0]\n",
    "                print(\n",
    "                    f\"keep {keep_var} of {set(variables)} for {source_id} {ssp} {variant_label}\"\n",
    "                )\n",
    "                keep_one_per_source_per_ssp += [w for w, v in zip(matches, variables) if v == keep_var]\n",
    "            elif len(matches)>len(set(w['basin'] for w in matches)):\n",
    "                raise ValueError(matches)\n",
    "            else:\n",
    "                keep_one_per_source_per_ssp += matches\n",
    "print(f\"keep {len(keep_one_per_source_per_ssp)} of {len(work_docs)}\")\n",
    "work_docs = keep_one_per_source_per_ssp.copy()\n",
    "del keep_one_per_source_per_ssp"
   ]
  },
  {
   "cell_type": "markdown",
   "id": "71369e01",
   "metadata": {},
   "source": [
    "## Organize all data in `df_info`"
   ]
  },
  {
   "cell_type": "code",
   "execution_count": 15,
   "id": "99796bd1",
   "metadata": {
    "ExecuteTime": {
     "end_time": "2024-09-30T14:36:04.539102Z",
     "start_time": "2024-09-30T14:36:04.527014Z"
    }
   },
   "outputs": [],
   "source": [
    "df_info = pd.DataFrame([i for i in work_docs if 'p_dip' in i])"
   ]
  },
  {
   "cell_type": "code",
   "execution_count": 16,
   "id": "59262f23",
   "metadata": {
    "ExecuteTime": {
     "end_time": "2024-09-30T14:36:04.550004Z",
     "start_time": "2024-09-30T14:36:04.541048Z"
    }
   },
   "outputs": [],
   "source": [
    "df_info['_r'] = [int(a.split('i')[0][1:]) for a in df_info['variant_label'].values]\n",
    "df_info['_y'] = -df_info['last_year']\n",
    "df_info=df_info.sort_values(['source_id', 'ssp', '_y', '_r'])"
   ]
  },
  {
   "cell_type": "code",
   "execution_count": 17,
   "id": "cc1bfb1c",
   "metadata": {
    "ExecuteTime": {
     "end_time": "2024-09-30T14:36:04.554622Z",
     "start_time": "2024-09-30T14:36:04.551535Z"
    }
   },
   "outputs": [],
   "source": [
    "_header=['source_id', 'last_year', 'variant_label', 'variable_id', 'ssp']"
   ]
  },
  {
   "cell_type": "code",
   "execution_count": 18,
   "id": "fffa3963",
   "metadata": {
    "ExecuteTime": {
     "end_time": "2024-09-30T14:36:04.568162Z",
     "start_time": "2024-09-30T14:36:04.556186Z"
    }
   },
   "outputs": [
    {
     "data": {
      "text/html": [
       "<div>\n",
       "<style scoped>\n",
       "    .dataframe tbody tr th:only-of-type {\n",
       "        vertical-align: middle;\n",
       "    }\n",
       "\n",
       "    .dataframe tbody tr th {\n",
       "        vertical-align: top;\n",
       "    }\n",
       "\n",
       "    .dataframe thead th {\n",
       "        text-align: right;\n",
       "    }\n",
       "</style>\n",
       "<table border=\"1\" class=\"dataframe\">\n",
       "  <thead>\n",
       "    <tr style=\"text-align: right;\">\n",
       "      <th></th>\n",
       "      <th>source_id</th>\n",
       "      <th>last_year</th>\n",
       "      <th>variant_label</th>\n",
       "      <th>variable_id</th>\n",
       "      <th>ssp</th>\n",
       "    </tr>\n",
       "  </thead>\n",
       "  <tbody>\n",
       "    <tr>\n",
       "      <th>270</th>\n",
       "      <td>ACCESS-CM2</td>\n",
       "      <td>2300</td>\n",
       "      <td>r1i1p1f1</td>\n",
       "      <td>msftmz</td>\n",
       "      <td>ssp126</td>\n",
       "    </tr>\n",
       "    <tr>\n",
       "      <th>384</th>\n",
       "      <td>ACCESS-ESM1-5</td>\n",
       "      <td>2300</td>\n",
       "      <td>r1i1p1f1</td>\n",
       "      <td>msftmz</td>\n",
       "      <td>ssp126</td>\n",
       "    </tr>\n",
       "    <tr>\n",
       "      <th>450</th>\n",
       "      <td>ACCESS-ESM1-5</td>\n",
       "      <td>2300</td>\n",
       "      <td>r2i1p1f1</td>\n",
       "      <td>msftmz</td>\n",
       "      <td>ssp126</td>\n",
       "    </tr>\n",
       "    <tr>\n",
       "      <th>516</th>\n",
       "      <td>ACCESS-ESM1-5</td>\n",
       "      <td>2300</td>\n",
       "      <td>r3i1p1f1</td>\n",
       "      <td>msftmz</td>\n",
       "      <td>ssp126</td>\n",
       "    </tr>\n",
       "    <tr>\n",
       "      <th>528</th>\n",
       "      <td>ACCESS-ESM1-5</td>\n",
       "      <td>2300</td>\n",
       "      <td>r4i1p1f1</td>\n",
       "      <td>msftmz</td>\n",
       "      <td>ssp126</td>\n",
       "    </tr>\n",
       "    <tr>\n",
       "      <th>534</th>\n",
       "      <td>ACCESS-ESM1-5</td>\n",
       "      <td>2300</td>\n",
       "      <td>r5i1p1f1</td>\n",
       "      <td>msftmz</td>\n",
       "      <td>ssp126</td>\n",
       "    </tr>\n",
       "    <tr>\n",
       "      <th>540</th>\n",
       "      <td>ACCESS-ESM1-5</td>\n",
       "      <td>2300</td>\n",
       "      <td>r6i1p1f1</td>\n",
       "      <td>msftmz</td>\n",
       "      <td>ssp126</td>\n",
       "    </tr>\n",
       "    <tr>\n",
       "      <th>546</th>\n",
       "      <td>ACCESS-ESM1-5</td>\n",
       "      <td>2300</td>\n",
       "      <td>r7i1p1f1</td>\n",
       "      <td>msftmz</td>\n",
       "      <td>ssp126</td>\n",
       "    </tr>\n",
       "    <tr>\n",
       "      <th>552</th>\n",
       "      <td>ACCESS-ESM1-5</td>\n",
       "      <td>2300</td>\n",
       "      <td>r8i1p1f1</td>\n",
       "      <td>msftmz</td>\n",
       "      <td>ssp126</td>\n",
       "    </tr>\n",
       "    <tr>\n",
       "      <th>558</th>\n",
       "      <td>ACCESS-ESM1-5</td>\n",
       "      <td>2300</td>\n",
       "      <td>r9i1p1f1</td>\n",
       "      <td>msftmz</td>\n",
       "      <td>ssp126</td>\n",
       "    </tr>\n",
       "    <tr>\n",
       "      <th>324</th>\n",
       "      <td>ACCESS-ESM1-5</td>\n",
       "      <td>2300</td>\n",
       "      <td>r10i1p1f1</td>\n",
       "      <td>msftmz</td>\n",
       "      <td>ssp126</td>\n",
       "    </tr>\n",
       "    <tr>\n",
       "      <th>582</th>\n",
       "      <td>CESM2-WACCM</td>\n",
       "      <td>2299</td>\n",
       "      <td>r1i1p1f1</td>\n",
       "      <td>msftmz</td>\n",
       "      <td>ssp126</td>\n",
       "    </tr>\n",
       "    <tr>\n",
       "      <th>793</th>\n",
       "      <td>CanESM5</td>\n",
       "      <td>2300</td>\n",
       "      <td>r1i1p1f1</td>\n",
       "      <td>msftmz</td>\n",
       "      <td>ssp126</td>\n",
       "    </tr>\n",
       "    <tr>\n",
       "      <th>1027</th>\n",
       "      <td>GISS-E2-1-G</td>\n",
       "      <td>2500</td>\n",
       "      <td>r1i1p1f2</td>\n",
       "      <td>msftmz</td>\n",
       "      <td>ssp126</td>\n",
       "    </tr>\n",
       "    <tr>\n",
       "      <th>1045</th>\n",
       "      <td>GISS-E2-1-G</td>\n",
       "      <td>2500</td>\n",
       "      <td>r2i1p1f2</td>\n",
       "      <td>msftmz</td>\n",
       "      <td>ssp126</td>\n",
       "    </tr>\n",
       "    <tr>\n",
       "      <th>1057</th>\n",
       "      <td>GISS-E2-1-G</td>\n",
       "      <td>2500</td>\n",
       "      <td>r3i1p1f2</td>\n",
       "      <td>msftmz</td>\n",
       "      <td>ssp126</td>\n",
       "    </tr>\n",
       "    <tr>\n",
       "      <th>1069</th>\n",
       "      <td>GISS-E2-1-G</td>\n",
       "      <td>2500</td>\n",
       "      <td>r4i1p1f2</td>\n",
       "      <td>msftmz</td>\n",
       "      <td>ssp126</td>\n",
       "    </tr>\n",
       "    <tr>\n",
       "      <th>1081</th>\n",
       "      <td>GISS-E2-1-G</td>\n",
       "      <td>2500</td>\n",
       "      <td>r5i1p1f2</td>\n",
       "      <td>msftmz</td>\n",
       "      <td>ssp126</td>\n",
       "    </tr>\n",
       "    <tr>\n",
       "      <th>1094</th>\n",
       "      <td>GISS-E2-2-G</td>\n",
       "      <td>2300</td>\n",
       "      <td>r1i1p3f1</td>\n",
       "      <td>msftmz</td>\n",
       "      <td>ssp126</td>\n",
       "    </tr>\n",
       "    <tr>\n",
       "      <th>1100</th>\n",
       "      <td>GISS-E2-2-G</td>\n",
       "      <td>2300</td>\n",
       "      <td>r2i1p3f1</td>\n",
       "      <td>msftmz</td>\n",
       "      <td>ssp126</td>\n",
       "    </tr>\n",
       "    <tr>\n",
       "      <th>1106</th>\n",
       "      <td>GISS-E2-2-G</td>\n",
       "      <td>2300</td>\n",
       "      <td>r3i1p3f1</td>\n",
       "      <td>msftmz</td>\n",
       "      <td>ssp126</td>\n",
       "    </tr>\n",
       "    <tr>\n",
       "      <th>1112</th>\n",
       "      <td>GISS-E2-2-G</td>\n",
       "      <td>2300</td>\n",
       "      <td>r4i1p3f1</td>\n",
       "      <td>msftmz</td>\n",
       "      <td>ssp126</td>\n",
       "    </tr>\n",
       "    <tr>\n",
       "      <th>1118</th>\n",
       "      <td>GISS-E2-2-G</td>\n",
       "      <td>2300</td>\n",
       "      <td>r5i1p3f1</td>\n",
       "      <td>msftmz</td>\n",
       "      <td>ssp126</td>\n",
       "    </tr>\n",
       "    <tr>\n",
       "      <th>1160</th>\n",
       "      <td>IPSL-CM6A-LR</td>\n",
       "      <td>2300</td>\n",
       "      <td>r1i1p1f1</td>\n",
       "      <td>msftyz</td>\n",
       "      <td>ssp126</td>\n",
       "    </tr>\n",
       "    <tr>\n",
       "      <th>1436</th>\n",
       "      <td>MRI-ESM2-0</td>\n",
       "      <td>2300</td>\n",
       "      <td>r1i1p1f1</td>\n",
       "      <td>msftmz</td>\n",
       "      <td>ssp126</td>\n",
       "    </tr>\n",
       "    <tr>\n",
       "      <th>1537</th>\n",
       "      <td>UKESM1-0-LL</td>\n",
       "      <td>2300</td>\n",
       "      <td>r4i1p1f2</td>\n",
       "      <td>msftyz</td>\n",
       "      <td>ssp126</td>\n",
       "    </tr>\n",
       "  </tbody>\n",
       "</table>\n",
       "</div>"
      ],
      "text/plain": [
       "          source_id  last_year variant_label variable_id     ssp\n",
       "270      ACCESS-CM2       2300      r1i1p1f1      msftmz  ssp126\n",
       "384   ACCESS-ESM1-5       2300      r1i1p1f1      msftmz  ssp126\n",
       "450   ACCESS-ESM1-5       2300      r2i1p1f1      msftmz  ssp126\n",
       "516   ACCESS-ESM1-5       2300      r3i1p1f1      msftmz  ssp126\n",
       "528   ACCESS-ESM1-5       2300      r4i1p1f1      msftmz  ssp126\n",
       "534   ACCESS-ESM1-5       2300      r5i1p1f1      msftmz  ssp126\n",
       "540   ACCESS-ESM1-5       2300      r6i1p1f1      msftmz  ssp126\n",
       "546   ACCESS-ESM1-5       2300      r7i1p1f1      msftmz  ssp126\n",
       "552   ACCESS-ESM1-5       2300      r8i1p1f1      msftmz  ssp126\n",
       "558   ACCESS-ESM1-5       2300      r9i1p1f1      msftmz  ssp126\n",
       "324   ACCESS-ESM1-5       2300     r10i1p1f1      msftmz  ssp126\n",
       "582     CESM2-WACCM       2299      r1i1p1f1      msftmz  ssp126\n",
       "793         CanESM5       2300      r1i1p1f1      msftmz  ssp126\n",
       "1027    GISS-E2-1-G       2500      r1i1p1f2      msftmz  ssp126\n",
       "1045    GISS-E2-1-G       2500      r2i1p1f2      msftmz  ssp126\n",
       "1057    GISS-E2-1-G       2500      r3i1p1f2      msftmz  ssp126\n",
       "1069    GISS-E2-1-G       2500      r4i1p1f2      msftmz  ssp126\n",
       "1081    GISS-E2-1-G       2500      r5i1p1f2      msftmz  ssp126\n",
       "1094    GISS-E2-2-G       2300      r1i1p3f1      msftmz  ssp126\n",
       "1100    GISS-E2-2-G       2300      r2i1p3f1      msftmz  ssp126\n",
       "1106    GISS-E2-2-G       2300      r3i1p3f1      msftmz  ssp126\n",
       "1112    GISS-E2-2-G       2300      r4i1p3f1      msftmz  ssp126\n",
       "1118    GISS-E2-2-G       2300      r5i1p3f1      msftmz  ssp126\n",
       "1160   IPSL-CM6A-LR       2300      r1i1p1f1      msftyz  ssp126\n",
       "1436     MRI-ESM2-0       2300      r1i1p1f1      msftmz  ssp126\n",
       "1537    UKESM1-0-LL       2300      r4i1p1f2      msftyz  ssp126"
      ]
     },
     "execution_count": 18,
     "metadata": {},
     "output_type": "execute_result"
    }
   ],
   "source": [
    "df_info[(df_info.last_year > 2100) & (df_info.ssp=='ssp126')& (df_info.basin=='atlantic_max')][_header]"
   ]
  },
  {
   "cell_type": "markdown",
   "id": "33ee16bf",
   "metadata": {},
   "source": [
    "### Smoothing functions"
   ]
  },
  {
   "cell_type": "code",
   "execution_count": 19,
   "id": "b0e0197a",
   "metadata": {
    "ExecuteTime": {
     "end_time": "2024-09-30T14:36:04.575164Z",
     "start_time": "2024-09-30T14:36:04.569932Z"
    }
   },
   "outputs": [],
   "source": [
    "def rm_smooth(a, rm):\n",
    "    if rm == 'smooth':\n",
    "        return smoother(a)\n",
    "    return helper_scripts.running_mean(a, rm)\n",
    "\n",
    "def read_rmx_from_year(h, year = 2095, rm=10):\n",
    "    if isinstance(year, slice):\n",
    "        year = year.start, year.stop\n",
    "    return _read_rmx_from_year(h, year, rm)\n",
    "\n",
    "@lru_cache(maxsize=20_000)\n",
    "def _read_rmx_from_year(h, year = 2095, rm=10):\n",
    "    da = read_rmx_from_h(h,rm)\n",
    "    if isinstance(year, tuple):\n",
    "        return float(da.sel(time=slice(year[0], year[1])).mean('time'))\n",
    "    return float(da.sel(time=year,))\n",
    "\n",
    "@lru_cache(maxsize=20_000)\n",
    "def read_rmx_from_h(h,rm):\n",
    "    ds2, _ = read_from_h(h)\n",
    "    manual_msft.set_time_int(ds2)\n",
    "    if rm == 1:\n",
    "        return ds2['atlantic_max_fix']\n",
    "    key = f'atlantic_max_fix_run_mean_{rm}'\n",
    "    if key not in ds2:\n",
    "        ds2[key] = xr.DataArray(rm_smooth(ds2['atlantic_max_fix'].values, rm), dims='time')\n",
    "    return ds2[key]\n",
    "\n",
    "\n",
    "def read_except_rmx_from_h(h, y, rm='smooth'):\n",
    "    try:\n",
    "        return read_rmx_from_year(h, y, 'smooth')\n",
    "    except (KeyError, ValueError):\n",
    "        return np.nan"
   ]
  },
  {
   "cell_type": "code",
   "execution_count": 20,
   "id": "b8e0f855",
   "metadata": {
    "ExecuteTime": {
     "end_time": "2024-09-30T14:36:04.581284Z",
     "start_time": "2024-09-30T14:36:04.576625Z"
    }
   },
   "outputs": [],
   "source": [
    "sc_dict = dict(ssp126='H_126', ssp245='H_245', ssp585='H_585')\n",
    "sc_dict_inv = {v:k for k,v in sc_dict.items()}\n",
    "    \n",
    "def _get_ts_from_jenny(member, scenario):\n",
    "    da_sel = ds_transport.sel(members=member)\n",
    "    \n",
    "    a = np.concatenate([da_sel['H_hist'].values, da_sel[sc_dict.get(scenario, scenario)].values[10:]])\n",
    "    na = np.isnan(a)\n",
    "    da = xr.DataArray(a[~na], dims='time') \n",
    "    da['time'] = np.arange(1850, 2501)[~na]\n",
    "    da['ssp'] = sc_dict_inv.get(scenario, scenario)\n",
    "    return da\n",
    "\n",
    "def get_oht_if_available(*a, last_year = 2100):\n",
    "    da = _get_ts_from_jenny(*a)\n",
    "    if np.sum(np.isnan(da.values))>0:\n",
    "        return\n",
    "    if da.time.values[0] == 1850 and da.time.values[-1] >= last_year:\n",
    "        return da"
   ]
  },
  {
   "cell_type": "markdown",
   "id": "787fada0",
   "metadata": {},
   "source": [
    "### Select passing data"
   ]
  },
  {
   "cell_type": "code",
   "execution_count": 21,
   "id": "123b500e",
   "metadata": {
    "ExecuteTime": {
     "end_time": "2024-09-30T14:36:59.408006Z",
     "start_time": "2024-09-30T14:36:04.582666Z"
    }
   },
   "outputs": [
    {
     "data": {
      "application/vnd.jupyter.widget-view+json": {
       "model_id": "4001cec770fd40089df36cca48788d09",
       "version_major": 2,
       "version_minor": 0
      },
      "text/plain": [
       "  0%|          | 0/5239 [00:00<?, ?it/s]"
      ]
     },
     "metadata": {},
     "output_type": "display_data"
    }
   ],
   "source": [
    "df_info['pass'] = [(\n",
    "    (\n",
    "        (read_except_rmx_from_h(row.h, slice(2090, 2100)) < 8.6) |\n",
    "        (read_except_rmx_from_h(row.h, slice(2290, 2300)) < 10)\n",
    "    ) &\n",
    "    (row.last_year > 2100) & (row.basin == 'atlantic_max')\n",
    ") for _, row in oet.utils.tqdm(list(df_info.iterrows()))]\n"
   ]
  },
  {
   "cell_type": "code",
   "execution_count": 22,
   "id": "7816c0b7",
   "metadata": {
    "ExecuteTime": {
     "end_time": "2024-09-30T14:36:59.713233Z",
     "start_time": "2024-09-30T14:36:59.409694Z"
    }
   },
   "outputs": [
    {
     "data": {
      "text/plain": [
       "(104, 104)"
      ]
     },
     "execution_count": 22,
     "metadata": {},
     "output_type": "execute_result"
    }
   ],
   "source": [
    "keep_one_per_source_per_ssp=np.zeros(len(df_info), bool)\n",
    "_k = keep_one_per_source_per_ssp.copy()\n",
    "\n",
    "keep_one_per_source_per_ssp_prev_passing = dict()\n",
    "seen = []\n",
    "\n",
    "for k, (_, row) in enumerate(df_info.iterrows()):\n",
    "#     if 'gr2z' in row['h']:\n",
    "#         continue\n",
    "    if np.isnan(row.p_dip):\n",
    "        continue\n",
    "    if row.basin != 'atlantic_max':\n",
    "        continue\n",
    "\n",
    "    h=row['h']\n",
    "    var_lab = manual_msft.get_vari(h)\n",
    "    key = row.source_id, row.ssp\n",
    "    \n",
    "    if key not in seen:\n",
    "        keep_one_per_source_per_ssp[k]=1\n",
    "\n",
    "    if key in keep_one_per_source_per_ssp_prev_passing:\n",
    "        if row['pass']:\n",
    "            keep_one_per_source_per_ssp_prev_passing[key]=k\n",
    "    else:\n",
    "        keep_one_per_source_per_ssp_prev_passing[key] = k\n",
    "\n",
    "    seen.append(key)\n",
    "for k in keep_one_per_source_per_ssp_prev_passing.values():\n",
    "    _k[k]=True\n",
    "\n",
    "keep_one_per_source_per_ssp_prev_passing = _k.copy()\n",
    "np.sum(keep_one_per_source_per_ssp_prev_passing), np.sum(keep_one_per_source_per_ssp)"
   ]
  },
  {
   "cell_type": "code",
   "execution_count": 23,
   "id": "4df08e8d",
   "metadata": {
    "ExecuteTime": {
     "end_time": "2024-09-30T14:36:59.719910Z",
     "start_time": "2024-09-30T14:36:59.714470Z"
    }
   },
   "outputs": [],
   "source": [
    "range_ssp585 = df_info[keep_one_per_source_per_ssp_prev_passing & df_info['pass'] & (df_info['ssp'] == 'ssp585')]\n",
    "range_ssp126 = df_info[keep_one_per_source_per_ssp_prev_passing & df_info['pass'] & (df_info['ssp'] == 'ssp126')]\n",
    "range_sspany = df_info[keep_one_per_source_per_ssp_prev_passing & df_info['pass']]\n"
   ]
  },
  {
   "cell_type": "code",
   "execution_count": 24,
   "id": "f69d94eb",
   "metadata": {
    "ExecuteTime": {
     "end_time": "2024-09-30T14:36:59.739833Z",
     "start_time": "2024-09-30T14:36:59.721038Z"
    }
   },
   "outputs": [
    {
     "data": {
      "text/html": [
       "<div>\n",
       "<style scoped>\n",
       "    .dataframe tbody tr th:only-of-type {\n",
       "        vertical-align: middle;\n",
       "    }\n",
       "\n",
       "    .dataframe tbody tr th {\n",
       "        vertical-align: top;\n",
       "    }\n",
       "\n",
       "    .dataframe thead th {\n",
       "        text-align: right;\n",
       "    }\n",
       "</style>\n",
       "<table border=\"1\" class=\"dataframe\">\n",
       "  <thead>\n",
       "    <tr style=\"text-align: right;\">\n",
       "      <th></th>\n",
       "      <th>source_id</th>\n",
       "      <th>last_year</th>\n",
       "      <th>variant_label</th>\n",
       "      <th>variable_id</th>\n",
       "      <th>ssp</th>\n",
       "    </tr>\n",
       "  </thead>\n",
       "  <tbody>\n",
       "    <tr>\n",
       "      <th>582</th>\n",
       "      <td>CESM2-WACCM</td>\n",
       "      <td>2299</td>\n",
       "      <td>r1i1p1f1</td>\n",
       "      <td>msftmz</td>\n",
       "      <td>ssp126</td>\n",
       "    </tr>\n",
       "    <tr>\n",
       "      <th>1436</th>\n",
       "      <td>MRI-ESM2-0</td>\n",
       "      <td>2300</td>\n",
       "      <td>r1i1p1f1</td>\n",
       "      <td>msftmz</td>\n",
       "      <td>ssp126</td>\n",
       "    </tr>\n",
       "  </tbody>\n",
       "</table>\n",
       "</div>"
      ],
      "text/plain": [
       "        source_id  last_year variant_label variable_id     ssp\n",
       "582   CESM2-WACCM       2299      r1i1p1f1      msftmz  ssp126\n",
       "1436   MRI-ESM2-0       2300      r1i1p1f1      msftmz  ssp126"
      ]
     },
     "metadata": {},
     "output_type": "display_data"
    },
    {
     "data": {
      "text/html": [
       "<div>\n",
       "<style scoped>\n",
       "    .dataframe tbody tr th:only-of-type {\n",
       "        vertical-align: middle;\n",
       "    }\n",
       "\n",
       "    .dataframe tbody tr th {\n",
       "        vertical-align: top;\n",
       "    }\n",
       "\n",
       "    .dataframe thead th {\n",
       "        text-align: right;\n",
       "    }\n",
       "</style>\n",
       "<table border=\"1\" class=\"dataframe\">\n",
       "  <thead>\n",
       "    <tr style=\"text-align: right;\">\n",
       "      <th></th>\n",
       "      <th>source_id</th>\n",
       "      <th>last_year</th>\n",
       "      <th>variant_label</th>\n",
       "      <th>variable_id</th>\n",
       "      <th>ssp</th>\n",
       "    </tr>\n",
       "  </thead>\n",
       "  <tbody>\n",
       "    <tr>\n",
       "      <th>3815</th>\n",
       "      <td>ACCESS-CM2</td>\n",
       "      <td>2300</td>\n",
       "      <td>r1i1p1f1</td>\n",
       "      <td>msftmz</td>\n",
       "      <td>ssp585</td>\n",
       "    </tr>\n",
       "    <tr>\n",
       "      <th>3869</th>\n",
       "      <td>ACCESS-ESM1-5</td>\n",
       "      <td>2300</td>\n",
       "      <td>r10i1p1f1</td>\n",
       "      <td>msftmz</td>\n",
       "      <td>ssp585</td>\n",
       "    </tr>\n",
       "    <tr>\n",
       "      <th>4133</th>\n",
       "      <td>CESM2-WACCM</td>\n",
       "      <td>2299</td>\n",
       "      <td>r1i1p1f1</td>\n",
       "      <td>msftmz</td>\n",
       "      <td>ssp585</td>\n",
       "    </tr>\n",
       "    <tr>\n",
       "      <th>4368</th>\n",
       "      <td>CanESM5</td>\n",
       "      <td>2300</td>\n",
       "      <td>r1i1p1f1</td>\n",
       "      <td>msftmz</td>\n",
       "      <td>ssp585</td>\n",
       "    </tr>\n",
       "    <tr>\n",
       "      <th>4760</th>\n",
       "      <td>GISS-E2-1-G</td>\n",
       "      <td>2300</td>\n",
       "      <td>r5i1p1f2</td>\n",
       "      <td>msftmz</td>\n",
       "      <td>ssp585</td>\n",
       "    </tr>\n",
       "    <tr>\n",
       "      <th>4869</th>\n",
       "      <td>IPSL-CM6A-LR</td>\n",
       "      <td>2300</td>\n",
       "      <td>r1i1p1f1</td>\n",
       "      <td>msftyz</td>\n",
       "      <td>ssp585</td>\n",
       "    </tr>\n",
       "    <tr>\n",
       "      <th>5163</th>\n",
       "      <td>MRI-ESM2-0</td>\n",
       "      <td>2300</td>\n",
       "      <td>r1i1p1f1</td>\n",
       "      <td>msftmz</td>\n",
       "      <td>ssp585</td>\n",
       "    </tr>\n",
       "    <tr>\n",
       "      <th>5202</th>\n",
       "      <td>NorESM2-MM</td>\n",
       "      <td>2298</td>\n",
       "      <td>r1i1p1f1</td>\n",
       "      <td>msftmz</td>\n",
       "      <td>ssp585</td>\n",
       "    </tr>\n",
       "    <tr>\n",
       "      <th>5228</th>\n",
       "      <td>UKESM1-0-LL</td>\n",
       "      <td>2300</td>\n",
       "      <td>r4i1p1f2</td>\n",
       "      <td>msftyz</td>\n",
       "      <td>ssp585</td>\n",
       "    </tr>\n",
       "  </tbody>\n",
       "</table>\n",
       "</div>"
      ],
      "text/plain": [
       "          source_id  last_year variant_label variable_id     ssp\n",
       "3815     ACCESS-CM2       2300      r1i1p1f1      msftmz  ssp585\n",
       "3869  ACCESS-ESM1-5       2300     r10i1p1f1      msftmz  ssp585\n",
       "4133    CESM2-WACCM       2299      r1i1p1f1      msftmz  ssp585\n",
       "4368        CanESM5       2300      r1i1p1f1      msftmz  ssp585\n",
       "4760    GISS-E2-1-G       2300      r5i1p1f2      msftmz  ssp585\n",
       "4869   IPSL-CM6A-LR       2300      r1i1p1f1      msftyz  ssp585\n",
       "5163     MRI-ESM2-0       2300      r1i1p1f1      msftmz  ssp585\n",
       "5202     NorESM2-MM       2298      r1i1p1f1      msftmz  ssp585\n",
       "5228    UKESM1-0-LL       2300      r4i1p1f2      msftyz  ssp585"
      ]
     },
     "metadata": {},
     "output_type": "display_data"
    },
    {
     "data": {
      "text/html": [
       "<div>\n",
       "<style scoped>\n",
       "    .dataframe tbody tr th:only-of-type {\n",
       "        vertical-align: middle;\n",
       "    }\n",
       "\n",
       "    .dataframe tbody tr th {\n",
       "        vertical-align: top;\n",
       "    }\n",
       "\n",
       "    .dataframe thead th {\n",
       "        text-align: right;\n",
       "    }\n",
       "</style>\n",
       "<table border=\"1\" class=\"dataframe\">\n",
       "  <thead>\n",
       "    <tr style=\"text-align: right;\">\n",
       "      <th></th>\n",
       "      <th>source_id</th>\n",
       "      <th>last_year</th>\n",
       "      <th>variant_label</th>\n",
       "      <th>variable_id</th>\n",
       "      <th>ssp</th>\n",
       "    </tr>\n",
       "  </thead>\n",
       "  <tbody>\n",
       "    <tr>\n",
       "      <th>3815</th>\n",
       "      <td>ACCESS-CM2</td>\n",
       "      <td>2300</td>\n",
       "      <td>r1i1p1f1</td>\n",
       "      <td>msftmz</td>\n",
       "      <td>ssp585</td>\n",
       "    </tr>\n",
       "    <tr>\n",
       "      <th>3869</th>\n",
       "      <td>ACCESS-ESM1-5</td>\n",
       "      <td>2300</td>\n",
       "      <td>r10i1p1f1</td>\n",
       "      <td>msftmz</td>\n",
       "      <td>ssp585</td>\n",
       "    </tr>\n",
       "    <tr>\n",
       "      <th>582</th>\n",
       "      <td>CESM2-WACCM</td>\n",
       "      <td>2299</td>\n",
       "      <td>r1i1p1f1</td>\n",
       "      <td>msftmz</td>\n",
       "      <td>ssp126</td>\n",
       "    </tr>\n",
       "    <tr>\n",
       "      <th>4133</th>\n",
       "      <td>CESM2-WACCM</td>\n",
       "      <td>2299</td>\n",
       "      <td>r1i1p1f1</td>\n",
       "      <td>msftmz</td>\n",
       "      <td>ssp585</td>\n",
       "    </tr>\n",
       "    <tr>\n",
       "      <th>4368</th>\n",
       "      <td>CanESM5</td>\n",
       "      <td>2300</td>\n",
       "      <td>r1i1p1f1</td>\n",
       "      <td>msftmz</td>\n",
       "      <td>ssp585</td>\n",
       "    </tr>\n",
       "    <tr>\n",
       "      <th>2781</th>\n",
       "      <td>GISS-E2-1-G</td>\n",
       "      <td>2500</td>\n",
       "      <td>r9i1p1f2</td>\n",
       "      <td>msftmz</td>\n",
       "      <td>ssp245</td>\n",
       "    </tr>\n",
       "    <tr>\n",
       "      <th>4760</th>\n",
       "      <td>GISS-E2-1-G</td>\n",
       "      <td>2300</td>\n",
       "      <td>r5i1p1f2</td>\n",
       "      <td>msftmz</td>\n",
       "      <td>ssp585</td>\n",
       "    </tr>\n",
       "    <tr>\n",
       "      <th>4869</th>\n",
       "      <td>IPSL-CM6A-LR</td>\n",
       "      <td>2300</td>\n",
       "      <td>r1i1p1f1</td>\n",
       "      <td>msftyz</td>\n",
       "      <td>ssp585</td>\n",
       "    </tr>\n",
       "    <tr>\n",
       "      <th>1436</th>\n",
       "      <td>MRI-ESM2-0</td>\n",
       "      <td>2300</td>\n",
       "      <td>r1i1p1f1</td>\n",
       "      <td>msftmz</td>\n",
       "      <td>ssp126</td>\n",
       "    </tr>\n",
       "    <tr>\n",
       "      <th>5163</th>\n",
       "      <td>MRI-ESM2-0</td>\n",
       "      <td>2300</td>\n",
       "      <td>r1i1p1f1</td>\n",
       "      <td>msftmz</td>\n",
       "      <td>ssp585</td>\n",
       "    </tr>\n",
       "    <tr>\n",
       "      <th>5202</th>\n",
       "      <td>NorESM2-MM</td>\n",
       "      <td>2298</td>\n",
       "      <td>r1i1p1f1</td>\n",
       "      <td>msftmz</td>\n",
       "      <td>ssp585</td>\n",
       "    </tr>\n",
       "    <tr>\n",
       "      <th>5228</th>\n",
       "      <td>UKESM1-0-LL</td>\n",
       "      <td>2300</td>\n",
       "      <td>r4i1p1f2</td>\n",
       "      <td>msftyz</td>\n",
       "      <td>ssp585</td>\n",
       "    </tr>\n",
       "  </tbody>\n",
       "</table>\n",
       "</div>"
      ],
      "text/plain": [
       "          source_id  last_year variant_label variable_id     ssp\n",
       "3815     ACCESS-CM2       2300      r1i1p1f1      msftmz  ssp585\n",
       "3869  ACCESS-ESM1-5       2300     r10i1p1f1      msftmz  ssp585\n",
       "582     CESM2-WACCM       2299      r1i1p1f1      msftmz  ssp126\n",
       "4133    CESM2-WACCM       2299      r1i1p1f1      msftmz  ssp585\n",
       "4368        CanESM5       2300      r1i1p1f1      msftmz  ssp585\n",
       "2781    GISS-E2-1-G       2500      r9i1p1f2      msftmz  ssp245\n",
       "4760    GISS-E2-1-G       2300      r5i1p1f2      msftmz  ssp585\n",
       "4869   IPSL-CM6A-LR       2300      r1i1p1f1      msftyz  ssp585\n",
       "1436     MRI-ESM2-0       2300      r1i1p1f1      msftmz  ssp126\n",
       "5163     MRI-ESM2-0       2300      r1i1p1f1      msftmz  ssp585\n",
       "5202     NorESM2-MM       2298      r1i1p1f1      msftmz  ssp585\n",
       "5228    UKESM1-0-LL       2300      r4i1p1f2      msftyz  ssp585"
      ]
     },
     "metadata": {},
     "output_type": "display_data"
    }
   ],
   "source": [
    "display(range_ssp126[_header])\n",
    "display(range_ssp585[_header])\n",
    "display(range_sspany[_header])"
   ]
  },
  {
   "cell_type": "markdown",
   "id": "18cbc822",
   "metadata": {},
   "source": [
    "## plotting streamfunctions"
   ]
  },
  {
   "cell_type": "code",
   "execution_count": 25,
   "id": "e75a1162",
   "metadata": {
    "ExecuteTime": {
     "end_time": "2024-09-30T14:36:59.922626Z",
     "start_time": "2024-09-30T14:36:59.741282Z"
    }
   },
   "outputs": [],
   "source": [
    "def spaghetti_plot(\n",
    "    single_panel=True,\n",
    "    only_p2300=False,\n",
    "    split_giss=False,\n",
    "    all_ensambles=False,\n",
    "    reference_year=slice(1900, 2000),\n",
    "    use_cmaps=None,\n",
    "    cmap_range=(0.3, 1),\n",
    "    rm=10,\n",
    "    bar_ref_year=2100,\n",
    "    only_passing=False,\n",
    "    include_all_giss_when_seperate=False,\n",
    "    take_ensemble_mean=False,\n",
    "    giss_on_seperate_ax=False,\n",
    "    only_keep_combinations=True,\n",
    "    annotate_below=None,\n",
    "    _ann_dict=None,\n",
    "    passing_reference_value=10,\n",
    "    data_from=\"oet\",\n",
    "    annotate_kw = None,\n",
    "    axes_dict = None,\n",
    "    **plot_kw,\n",
    "):\n",
    "    annotate_kw = annotate_kw or dict()\n",
    "    exps = \"ssp126 ssp245 ssp585\".split()\n",
    "    if axes_dict is not None:\n",
    "        # we already have as set of axes, let's continue\n",
    "        axes = np.array(list(axes_dict.values()))\n",
    "        \n",
    "    elif single_panel and not giss_on_seperate_ax:\n",
    "        plt.figure(figsize=(12, 7))\n",
    "        axes = [plt.gca()]\n",
    "        axes_dict = {k: plt.gca() for k in exps}\n",
    "    elif single_panel and giss_on_seperate_ax:\n",
    "        _, axes = plt.subplots(2, 1, figsize=(12, 5 * 2))\n",
    "\n",
    "        axes_dict = {k: axes[0] for k in exps}\n",
    "        axes_dict[\"GISS-E2-1-G\"] = axes[1]\n",
    "    elif giss_on_seperate_ax:\n",
    "\n",
    "        _, axes = plt.subplot_mosaic(\n",
    "            \"a\\nb\\nc\\n.\\nd\",\n",
    "            gridspec_kw=dict(hspace=0.02, height_ratios=[1, 1, 1, 0.1, 1]),\n",
    "            figsize=(12, 5 * len(exps) + 5), \n",
    "        )\n",
    "        axes = np.array(list(axes.values()))\n",
    "        manual_msft.set_share_axes(axes[:-1])\n",
    "\n",
    "        axes_dict = {k: ax for k, ax in zip(exps + [\"GISS-E2-1-G\"], axes)}\n",
    "    else:\n",
    "        _, axes = plt.subplots(\n",
    "            len(exps),\n",
    "            1,\n",
    "            figsize=(12, 5 * len(exps)),\n",
    "            gridspec_kw=dict(hspace=0.02),\n",
    "            sharex=True,\n",
    "        )\n",
    "        axes_dict = {k: ax for k, ax in zip(exps, axes)}\n",
    "\n",
    "    if all_ensambles:\n",
    "        if data_from == \"oet\":\n",
    "            use_items = (df_info.basin == \"atlantic_max\") & (df_info.p_dip < 2)\n",
    "        else:\n",
    "            use_members = ds_transport.members.values\n",
    "    else:\n",
    "        if data_from == \"oet\":\n",
    "            use_items = keep_one_per_source_per_ssp_prev_passing.copy()\n",
    "\n",
    "            if include_all_giss_when_seperate:\n",
    "                use_items = use_items | (\n",
    "                    (df_info[\"source_id\"] == \"GISS-E2-1-G\")\n",
    "                    & (df_info.basin == \"atlantic_max\")\n",
    "                    & (df_info.p_dip < 2)\n",
    "                )\n",
    "        else:\n",
    "            use_members = []\n",
    "            for m in ds_transport.members.values:\n",
    "                if include_all_giss_when_seperate and 'GISS' in m:\n",
    "                    use_members.append(f\"{m}\")\n",
    "                    continue\n",
    "                if any(f\"{m}\".split(\"_\")[1] in k for k in use_members):\n",
    "                    continue\n",
    "                use_members.append(f\"{m}\")\n",
    "\n",
    "    if data_from != \"oet\":\n",
    "        use_members = [m for m in use_members if m.startswith(\"6_\")]\n",
    "\n",
    "    if split_giss:\n",
    "        if data_from == \"oet\":\n",
    "            use_items = use_items & (~keep_giss_245)\n",
    "        else:\n",
    "            use_members = [m for m in use_members if \"GISS\" not in m]\n",
    "\n",
    "    if data_from == \"oet\":\n",
    "        refs = [\n",
    "            read_rmx_from_year(h, year=reference_year, rm=rm)\n",
    "            for h in oet.utils.tqdm(df_info[use_items][\"h\"], desc=\"read rmx\")\n",
    "        ]\n",
    "    else:\n",
    "        ref_per_ssp = defaultdict(list)\n",
    "        for ssp, mem in itertools.product(exps, use_members):\n",
    "            da = get_oht_if_available(mem, ssp)\n",
    "            if da is None:\n",
    "                continue\n",
    "            if isinstance(reference_year, slice):\n",
    "                    v_ref = np.mean(rm_smooth(da.values, rm)[np.argwhere((da.time.values >= reference_year.start) \n",
    "                                               & (da.time.values < reference_year.stop)).squeeze()])\n",
    "            else:\n",
    "                    \n",
    "                v_ref = rm_smooth(da.values, rm)[\n",
    "                    np.argwhere(da.time.values == reference_year).squeeze()\n",
    "                ]\n",
    "            ref_per_ssp[ssp].append(v_ref)\n",
    "        refs = [vv for v in ref_per_ssp.values() for vv in v]\n",
    "    if use_cmaps is None:\n",
    "\n",
    "        itp = scipy.interpolate.interp1d(\n",
    "            [np.min(refs), np.max(refs)], np.linspace(0.3, 0.8, 2, endpoint=True)\n",
    "        )\n",
    "    else:\n",
    "        if data_from == \"oet\":\n",
    "            ref_per_ssp = {\n",
    "                ssp: [\n",
    "                    r\n",
    "                    for r, (_, row) in zip(refs, df_info[use_items].iterrows())\n",
    "                    if (\n",
    "                        (row.ssp == ssp)  # and\n",
    "                        #                                  (row.last_year > 2100 or not only_p2300)\n",
    "                    )\n",
    "                ]\n",
    "                for ssp in exps\n",
    "            }\n",
    "        itp = {\n",
    "            ssp: scipy.interpolate.interp1d(\n",
    "                np.sort(ref_per_ssp[ssp]),\n",
    "                np.linspace(*cmap_range, len(ref_per_ssp[ssp]), endpoint=True),\n",
    "            )\n",
    "            for ssp in exps\n",
    "        }\n",
    "\n",
    "    nplset = {k: False for k in exps}\n",
    "    annotation_points = []\n",
    "    take_ensemble_mean_done = []\n",
    "    if data_from != \"oet\":\n",
    "        for i, model in enumerate(ds_transport.members.values):\n",
    "            if model not in use_members:\n",
    "                continue\n",
    "            if model in take_ensemble_mean_done:\n",
    "                continue\n",
    "            \n",
    "            for ssp in \"H_126 H_245 H_585\".split():\n",
    "                ssp_k = sc_dict_inv[ssp]\n",
    "                if only_keep_combinations:\n",
    "                    for m, s, v in keep_combinations:\n",
    "                        if m in model and v in model and s == ssp_k:\n",
    "                            break\n",
    "                    else:\n",
    "                        continue\n",
    "                source, var_label = model.split('_')[-2:]\n",
    "                if take_ensemble_mean:\n",
    "                    all_ensemble = [mod for mod in ds_transport.members.values if \n",
    "                                  model[0] == mod[0]\n",
    "                                  and (\n",
    "                                      not only_keep_combinations or \n",
    "                                      any(m in mod and v in mod for m, _, v in keep_combinations)\n",
    "                                      ) \n",
    "                                  and source in mod\n",
    "                                  \n",
    "                    ]\n",
    "#                     print(f\"Do {source}, {ssp} has {len(all_ensemble)} members\")\n",
    "                    take_ensemble_mean_done += all_ensemble\n",
    "#                 print(f\"Do {model}, {ssp}\")\n",
    "                if giss_on_seperate_ax and \"GISS-E2-1-G\" in model:\n",
    "                    plt.sca(axes_dict[\"GISS-E2-1-G\"])\n",
    "                else:\n",
    "                    plt.sca(axes_dict[ssp_k])\n",
    "                \n",
    "                if take_ensemble_mean and len(all_ensemble)>1:\n",
    "                    das = [get_oht_if_available(m, ssp, last_year=(2179 if only_p2300 else 2100)) for m in all_ensemble]\n",
    "                    das = [v for v in das if v is not None]\n",
    "                    das = [d for d in das if rm_smooth(d, rm)[~np.isnan(rm_smooth(d, rm))][-1]<passing_reference_value]\n",
    "                    print(f\"Do {source}, {ssp} used {len(das)}/{len(all_ensemble)} members\")\n",
    "                    if not das:\n",
    "                        continue\n",
    "                    len_max = max([len(d) for d in das])\n",
    "                    \n",
    "                    da_v = np.nanmean(\n",
    "                        [np.pad(v.astype(np.float64), (0, len_max-len(v)), mode='constant', constant_values=np.nan)\n",
    "                               for v in das]\n",
    "                        , axis=0)\n",
    "                    da = [d for d in das if len(d) == len_max][0].copy()\n",
    "                    da.data = da_v\n",
    "                    \n",
    "                else:\n",
    "                    da = get_oht_if_available(model, ssp, last_year=(2179 if only_p2300 else 2100))\n",
    "                if da is None:\n",
    "                    continue\n",
    "\n",
    "                values = rm_smooth(da.values, rm)\n",
    "\n",
    "                if isinstance(reference_year, slice):\n",
    "                    v_ref = np.mean(values[np.argwhere((da.time.values >= reference_year.start) \n",
    "                                               & (da.time.values < reference_year.stop)).squeeze()])\n",
    "                else:\n",
    "                    v_ref = values[np.argwhere(da.time.values == reference_year)[0]]\n",
    "                if use_cmaps is None:\n",
    "                    kw = dict(c=default_colors[ssp_k], alpha=float(itp(v_ref)))\n",
    "                else:\n",
    "                    kw = dict(c=use_cmaps[ssp_k](float(itp[ssp_k](v_ref))))\n",
    "                if split_giss:\n",
    "                    if use_cmaps is None:\n",
    "                        kw = dict(c=\"violet\", alpha=float(itp(v_ref)))\n",
    "                    else:\n",
    "                        kw = dict(c=\"violet\")\n",
    "                if only_passing and values[~np.isnan(values)][-1] > passing_reference_value:\n",
    "                    continue\n",
    "\n",
    "                last_val = values[~np.isnan(values)][-1]\n",
    "                plt.plot(\n",
    "                    da[\"time\"],\n",
    "                    values,\n",
    "                    **kw,\n",
    "                    label=ssp_k if not nplset[ssp_k] else None,\n",
    "                    **plot_kw,\n",
    "                    zorder=100 - last_val - 10*int(ssp_k[4]),\n",
    "                )\n",
    "                nplset[ssp_k] = True\n",
    "                if annotate_below is not None and last_val < annotate_below:\n",
    "                    annotation_points.append(\n",
    "                        dict(\n",
    "                            x=da[\"time\"].values[~np.isnan(values)][-1],\n",
    "                            y=last_val,\n",
    "                            source_id=model.split(\"_\")[1],\n",
    "                            ssp=ssp_k,\n",
    "                            ax=plt.gca(),\n",
    "                            color = kw['c'],\n",
    "                            last_year = da.time.values[-1],\n",
    "                            n_members = len(das) if (take_ensemble_mean and len(all_ensemble)>1) else 1,\n",
    "                        )\n",
    "                    )\n",
    "\n",
    "    if data_from == \"oet\":\n",
    "        for _, row in oet.utils.tqdm(\n",
    "            list(df_info[use_items].sort_values('_y last_value'.split()).iterrows()), desc=\"plot ts\"\n",
    "        ):\n",
    "            if row.ssp not in exps:\n",
    "                continue\n",
    "            if only_p2300 and row.last_year <= 2100:\n",
    "                continue\n",
    "            if giss_on_seperate_ax and row.source_id == \"GISS-E2-1-G\":\n",
    "                plt.sca(axes_dict[\"GISS-E2-1-G\"])\n",
    "            else:\n",
    "                plt.sca(axes_dict[row.ssp])\n",
    "            h = row[\"h\"]\n",
    "            ds2, _ = read_from_h(h)\n",
    "            \n",
    "            should_plot_giss_anyway = (row.source_id == \"GISS-E2-1-G\") and giss_on_seperate_ax and include_all_giss_when_seperate\n",
    "            if should_plot_giss_anyway:\n",
    "                # keep this arround for reference to avoid undefined errors\n",
    "                hs = [h]\n",
    "            if take_ensemble_mean and not should_plot_giss_anyway:\n",
    "#                 ensemble_key = row.source_id, row.ssp, row.last_year\n",
    "                ensemble_key = row.source_id, row.ssp\n",
    "                if ensemble_key in take_ensemble_mean_done:\n",
    "                    continue\n",
    "                take_ensemble_mean_done.append(ensemble_key)\n",
    "                hs = [r.h for _, r in df_info[use_items].iterrows() \n",
    "                      if (\n",
    "#                           ((r.source_id, r.ssp, r.last_year)==ensemble_key)\n",
    "                          ((r.source_id, r.ssp)==ensemble_key)\n",
    "                          and\n",
    "                          (not only_p2300 or r.last_year > 2100)\n",
    "                          )\n",
    "                      ]\n",
    "#                 print(f'{ensemble_key}\\n' + \"\\n-\".join(hs))\n",
    "                if len(hs) == 1:\n",
    "                    v_ref = read_rmx_from_year(h, year=reference_year, rm=rm)\n",
    "                else:\n",
    "                    v_ref = np.nanmean(np.array(\n",
    "                        [read_rmx_from_year(h, year=reference_year, rm=rm) for h in hs]))\n",
    "            else:\n",
    "                v_ref = read_rmx_from_year(h, year=reference_year, rm=rm)\n",
    "            if use_cmaps is None:\n",
    "                kw = dict(c=default_colors[row.ssp], alpha=float(itp(v_ref)))\n",
    "            else:\n",
    "                kw = dict(c=use_cmaps[row.ssp](float(itp[row.ssp](v_ref))))\n",
    "            if split_giss:\n",
    "                if use_cmaps is None:\n",
    "                    kw = dict(c=\"violet\", alpha=float(itp(v_ref)))\n",
    "                else:\n",
    "                    kw = dict(c=\"violet\")\n",
    "            \n",
    "            if take_ensemble_mean and len(hs)>1:\n",
    "                time_series = [read_rmx_from_h(h, 1) for h in hs]\n",
    "                # remove members that do not pass\n",
    "                time_series = [v for v in time_series if \n",
    "                               (\n",
    "                                   (rm_smooth(v, rm)[~np.isnan(rm_smooth(v, rm))][-1]<passing_reference_value) \n",
    "                                   or not only_passing\n",
    "                               )]\n",
    "                \n",
    "                if not len(time_series):\n",
    "                    continue\n",
    "                print(f'{ensemble_key} kept {len(time_series)}/{len(hs)}')\n",
    "                len_max = np.max([len(v) for v in time_series])\n",
    "                time_array = [v.time for v in time_series if len(v) == len_max][0]\n",
    "                time_series = [np.pad(v.astype(np.float64), (0, len_max-len(v)), mode='constant', constant_values=np.nan)\n",
    "                               for v in time_series]\n",
    "                values = rm_smooth(np.nanmean(time_series, axis=0), rm)\n",
    "            else:\n",
    "                time_array = ds2['time']\n",
    "                values = rm_smooth(ds2[row.basin + \"_fix\"].values, rm)\n",
    "            if only_passing and values[~np.isnan(values)][-1] > passing_reference_value:\n",
    "                continue\n",
    "\n",
    "            last_val = values[~np.isnan(values)][-1]\n",
    "            plt.plot(\n",
    "                time_array,\n",
    "                values,\n",
    "                **kw,\n",
    "                label=row.ssp if not nplset[row.ssp] else None,\n",
    "                **plot_kw,\n",
    "                zorder=100 - last_val - 10*int(row.ssp[4]),\n",
    "            )\n",
    "            nplset[row.ssp] = True\n",
    "            if annotate_below is not None and last_val < annotate_below:\n",
    "                annotation_points.append(\n",
    "                    dict(\n",
    "                        x=time_array.values[~np.isnan(values)][-1],\n",
    "                        last_year = time_array.values[-1],\n",
    "                        y=last_val,\n",
    "                        source_id=row.source_id,\n",
    "                        ssp=row.ssp,\n",
    "                        ax=plt.gca(),\n",
    "                        color = kw['c'],\n",
    "                        n_members = len(time_series) if (take_ensemble_mean and len(hs) > 1) else 1,\n",
    "                    )\n",
    "                )\n",
    "    seen = []\n",
    "    i = 0\n",
    "    y_last = None\n",
    "    year_last = None\n",
    "    for doc in sorted(\n",
    "        annotation_points,\n",
    "        key=lambda d: (int(d[\"ssp\"][3:]) * (not single_panel), -round(d['last_year']/100,0), d[\"y\"]),\n",
    "    ):\n",
    "        k = doc[\"source_id\"] + doc[\"ssp\"]\n",
    "        if k in seen or doc[\"source_id\"] == \"GISS-E2-1-G\" and giss_on_seperate_ax:\n",
    "            continue\n",
    "        if not single_panel and len(seen) and doc[\"ssp\"] not in seen[-1]:\n",
    "            i = 0\n",
    "\n",
    "        seen.append(k)\n",
    "        plt.sca(doc[\"ax\"])\n",
    "        _a = _ann_dict or dict(dx=10, dy=0.75, offy=2, offx=10, clip_t=2500 - rm if rm != 'smooth' else 0)\n",
    "        _yr_rnd =  int(round(doc['last_year']/100,0)*100)\n",
    "        if year_last is not None and year_last != _yr_rnd:\n",
    "#             print(f'reset {year_last}!={_yr_rnd} {y_last}')\n",
    "            y_last = None\n",
    "        year_last = _yr_rnd\n",
    "        y_last = y_last or doc[\"y\"] + _a[\"offy\"]\n",
    "        if doc['last_year'] in _a.get('off_for_year', {}):\n",
    "            if y_last == doc[\"y\"] + _a[\"offy\"]:\n",
    "                y_last += _a['off_for_year'][doc['last_year']]\n",
    "                \n",
    "        manual_msft.annotate(\n",
    "            doc[\"source_id\"],\n",
    "            doc[\"x\"] + 1,\n",
    "            doc[\"y\"],\n",
    "            np.clip(doc[\"x\"] + _a[\"offx\"] - _a[\"dx\"] * i, 0, _a[\"clip_t\"]\n",
    "                   ) if doc['last_year'] != 2180 else 2180 + 1,\n",
    "            y_last + _a[\"dy\"] * i  if doc['last_year'] != 2180 else 12,\n",
    "            zorder=3 - i / len(annotation_points),\n",
    "#             bbox=dict(edgecolor=doc['color'], linewidth=2)\n",
    "            color=doc['color'],\n",
    "            **annotate_kw\n",
    "        )\n",
    "        i += 1\n",
    "\n",
    "    if not single_panel or giss_on_seperate_ax:\n",
    "        for ssp, ax in axes_dict.items():\n",
    "\n",
    "            plt.sca(ax)\n",
    "            if \"ssp\" not in ssp:  # single_panel and\n",
    "                \n",
    "                plt.text(\n",
    "                    1855,\n",
    "                    0.1 if data_from == 'jenny' else 3,\n",
    "                    ssp,\n",
    "                    ha=\"left\",\n",
    "                    va=\"bottom\",\n",
    "                    bbox=dict(facecolor=\"gainsboro\", edgecolor=\"black\", boxstyle=\"round\"),\n",
    "                )\n",
    "            if bar_ref_year is None:\n",
    "                continue\n",
    "            if data_from == \"oet\":\n",
    "                refs_585 = [\n",
    "                    read_rmx_from_year(row.h, year=bar_ref_year - (rm if rm != 'smooth' else 0) // 2, rm=rm)\n",
    "                    for _, row in df_info[use_items].iterrows()\n",
    "                    if ((row.ssp == \"ssp585\") #and manual_msft.crit_E(**row)\n",
    "                       )\n",
    "                ]\n",
    "            else:\n",
    "                refs_585 = ref_per_ssp[\"ssp585\"]\n",
    "            if data_from == \"oet\":\n",
    "                plt.plot(\n",
    "                    [bar_ref_year - (rm if rm != 'smooth' else 0) // 2 + 1, bar_ref_year - (rm if rm != 'smooth' else 0) // 2 + 1],\n",
    "                    [min(refs_585), max(refs_585)],\n",
    "                    lw=5,\n",
    "                    c=default_colors[\"ssp585\"],\n",
    "                    alpha=0.4,\n",
    "                    zorder=0,  # label='passing ssp585'\n",
    "                )\n",
    "           \n",
    "\n",
    "    for ssp, ax in axes_dict.items():\n",
    "        plt.sca(ax)\n",
    "        if use_cmaps is not None and ssp != \"GISS-E2-1-G\":\n",
    "            if single_panel:\n",
    "                ccmaps = use_cmaps\n",
    "            else:\n",
    "                ccmaps = {k: v for k, v in use_cmaps.items() if k == ssp}\n",
    "            manual_msft.cmap_legend(\n",
    "                list(ccmaps.values()),\n",
    "                list(ccmaps),\n",
    "                np.linspace(*cmap_range, 100),\n",
    "                loc=\"upper right\",\n",
    "                ncol=3,\n",
    "                plt_kw=dict(linewidth=7),\n",
    "            )\n",
    "        elif ssp != \"GISS-E2-1-G\":\n",
    "            plt.legend(loc=\"upper right\", ncol=3)\n",
    "        else:\n",
    "            manual_msft.cmap_legend(\n",
    "                list(use_cmaps.values()),\n",
    "                list(use_cmaps),\n",
    "                np.linspace(*cmap_range, 100),\n",
    "                loc=\"upper right\",\n",
    "                ncol=3,\n",
    "                plt_kw=dict(linewidth=7),\n",
    "            )\n",
    "        if data_from == \"oet\":\n",
    "            plt.ylabel(f\"Streamfunction at 26$^\\circ$N [Sv]\")\n",
    "        else:\n",
    "            plt.ylabel(f\"Ocean heat transport at 26$^\\circ$N [PW]\")\n",
    "        plt.xlabel(\"\")\n",
    "        plt.ylim(0, 34)\n",
    "    if not single_panel and giss_on_seperate_ax:\n",
    "        for ax in axes[:-2]:\n",
    "            plt.setp(ax.get_xticklabels(), visible=False)"
   ]
  },
  {
   "cell_type": "code",
   "execution_count": 26,
   "id": "5928be1f",
   "metadata": {
    "ExecuteTime": {
     "end_time": "2024-09-30T14:36:59.931218Z",
     "start_time": "2024-09-30T14:36:59.923852Z"
    }
   },
   "outputs": [],
   "source": [
    "def str_norm(x):\n",
    "    for y in '()$><':\n",
    "        x=x.replace(y, '')\n",
    "    for y in ' ,.':\n",
    "        x=x.replace(y, '_')\n",
    "    x=x.replace('-', '_')\n",
    "    return x.lower()\n",
    "\n",
    "def suptitle_and_save(x, y=0.93, skip=False, save_in=paper_figure_path, figure='figure_x', **kw):\n",
    "    if not skip:\n",
    "        plt.suptitle(x, y=y)\n",
    "    \n",
    "    oet.utils.save_fig(str_norm(x), save_in=save_in, sub_dir=figure, file_types=('png',), dpi=300)"
   ]
  },
  {
   "cell_type": "code",
   "execution_count": 27,
   "id": "9f983b93",
   "metadata": {
    "ExecuteTime": {
     "end_time": "2024-09-30T14:36:59.944954Z",
     "start_time": "2024-09-30T14:36:59.935326Z"
    }
   },
   "outputs": [],
   "source": [
    "@oet.utils.check_accepts(accepts=dict(sel=('ovt', 'oht')))\n",
    "def plot_rapid_data(sel='ovt' , ax = None, depth = 1050,\n",
    "                    do_skatter=False,\n",
    "                    scatter_kw=None, remove_last=False,\n",
    "                   estm_err = False,\n",
    "                    do_smooth=False,\n",
    "                   **kw,)->ty.List[mpl.pyplot.Artist]:\n",
    "    lin = lambda x, a, b: a *x + b\n",
    "    scatter_kw = scatter_kw or dict(marker='o')\n",
    "    scatter_kw=scatter_kw.copy()\n",
    "    ax = ax or plt.gca()\n",
    "    kw = kw.copy()\n",
    "    kw.setdefault('lw',3)\n",
    "    ret = []\n",
    "    if sel == 'ovt':\n",
    "        ds = ds_rapid\n",
    "        v = 'moc_mar_hc10'\n",
    "        da = ds_rapid['stream_function_mar'].groupby('time.year').mean().sel(depth=depth, method='nearest')\n",
    "        yerr = np.array([float(y) for y in '1.0 0.9 1.3 0.9 0.9 0.9 0.9 0.9 0.9 0.9'.split() + ['0.9'] * 7\n",
    "                        ])\n",
    "        if remove_last:\n",
    "            da=da[:-1]\n",
    "            yerr=yerr[:-1]\n",
    "        \n",
    "        \n",
    "        \n",
    "        \n",
    "        res = scipy.optimize.curve_fit(lin, \n",
    "                                        da.year.values,\n",
    "                                        da.values,\n",
    "                                        sigma=yerr        \n",
    "                                       )\n",
    "        \n",
    "        for k,v in dict(ls='None', capsize=2, marker='o', **kw).items():\n",
    "            scatter_kw.setdefault(k, v)\n",
    "        if do_skatter:\n",
    "            l = ax.errorbar(da.year.values.astype(int), da.values, yerr=yerr, **scatter_kw, )\n",
    "            ret.append(l[0])\n",
    "        l = ax.plot(da.year.values.astype(int), lin(da.year.values, *res[0]), **kw)\n",
    "        ret.append(l[0])\n",
    "        if do_smooth:\n",
    "            l = ax.plot(da.year.values.astype(int), smoother(da.values), )\n",
    "            ret.append(l[0])\n",
    "\n",
    "    else:\n",
    "        ds = ds_ht_rapid\n",
    "        v = 'Q_sum'\n",
    "        yerr = ds[v].groupby('time.year').std()/1e15\n",
    "        da = ds[v].groupby('time.year').mean()/1e15\n",
    "        for k,v in dict(**kw).items():\n",
    "            scatter_kw.setdefault(k, v)\n",
    "        if estm_err:\n",
    "            for k,v in dict(ls='None', capsize=2, marker='o', **kw).items():\n",
    "                scatter_kw.setdefault(k, v)\n",
    "            \n",
    "            if do_skatter:\n",
    "                l = ax.errorbar(da.year.values.astype(int), da.values, yerr=yerr, **scatter_kw, )\n",
    "                ret.append(l[0])\n",
    "        else:\n",
    "            if do_skatter:\n",
    "                l = ax.scatter(da.year.values.astype(int), da.values, **scatter_kw)\n",
    "                ret.append(l[0])\n",
    "        res = scipy.optimize.curve_fit(lin, \n",
    "                                        da.year.values,\n",
    "                                        da.values,     \n",
    "                                       )\n",
    "        l = ax.plot(da.year.values.astype(int), lin(da.year.values, *res[0]), **kw)\n",
    "        ret.append(l[0])\n",
    "        \n",
    "    return ret"
   ]
  },
  {
   "cell_type": "code",
   "execution_count": 28,
   "id": "17e992ba",
   "metadata": {
    "ExecuteTime": {
     "end_time": "2024-09-30T14:36:59.954152Z",
     "start_time": "2024-09-30T14:36:59.946049Z"
    }
   },
   "outputs": [],
   "source": [
    "def add_add_rapid_and_legend(rapid_kw, cmap_kw, axes=None, **kw):\n",
    "    kw = kw.copy()\n",
    "    for k, v in dict(\n",
    "        loc=\"upper right\",\n",
    "        ncol=2,\n",
    "        plt_kw=dict(linewidth=7),\n",
    "    ).items():\n",
    "        kw.setdefault(k, v)\n",
    "    axes = axes or plt.gcf().axes\n",
    "    for ax in axes:\n",
    "        l = ax.get_legend()\n",
    "        use_cmaps = {\n",
    "            k: v\n",
    "            for k, v in cmap_kw[\"use_cmaps\"].items()\n",
    "            if k in [t._text for t in l.properties()[\"texts\"]]\n",
    "        }\n",
    "        artists = plot_rapid_data(ax=ax, **rapid_kw)\n",
    "        manual_msft.cmap_legend(\n",
    "            list(use_cmaps.values()),\n",
    "            list(use_cmaps) + [\"RAPID\"],\n",
    "            np.linspace(*cmap_kw[\"cmap_range\"], 100),\n",
    "            extra_handles=artists,\n",
    "            ax=ax,\n",
    "            **kw\n",
    "        )"
   ]
  },
  {
   "cell_type": "markdown",
   "id": "cc4352a1",
   "metadata": {},
   "source": [
    "## Figures"
   ]
  },
  {
   "cell_type": "code",
   "execution_count": 29,
   "id": "78cd5069",
   "metadata": {
    "ExecuteTime": {
     "end_time": "2024-09-30T14:36:59.960177Z",
     "start_time": "2024-09-30T14:36:59.955220Z"
    }
   },
   "outputs": [],
   "source": [
    "default_colors = {\n",
    "    f\"ssp{ssp}\": np.array(\n",
    "        [np.linspace(0, 1, 5), [0, 0.5, 0.75, 0.5, 0], np.linspace(1, 0, 5), np.ones(5)]\n",
    "    ).T[i]\n",
    "    for i, ssp in enumerate(\"119 126 245 370 585\".split())\n",
    "}"
   ]
  },
  {
   "cell_type": "code",
   "execution_count": 30,
   "id": "b5b387df",
   "metadata": {
    "ExecuteTime": {
     "end_time": "2024-09-30T14:36:59.969787Z",
     "start_time": "2024-09-30T14:36:59.961230Z"
    }
   },
   "outputs": [],
   "source": [
    "keep_combinations = (\n",
    "    df_info[df_info[\"pass\"]]\n",
    "    .sort_values(\"source_id ssp variant_label\".split())[\n",
    "        \"source_id ssp variant_label\".split()\n",
    "    ]\n",
    "    .values\n",
    ")\n",
    "keep_combinations = np.array(list(set([tuple(k) for k in keep_combinations])))\n",
    "\n",
    "cmap_kw = dict(\n",
    "    use_cmaps=dict(ssp126=plt.cm.Blues, ssp245=plt.cm.Greens, ssp585=plt.cm.Reds),\n",
    "    cmap_range=(0.4, 0.9),\n",
    ")\n",
    "rm = \"smooth\"\n",
    "\n",
    "kw = dict(rm=rm, _ann_dict=dict(dx=10, dy=1.3, offy=2.5, offx=130, clip_t=2470))\n",
    "kw[\"bar_ref_year\"] = None\n",
    "rapid_kw = dict(\n",
    "    c=\"k\", zorder=1000, sel=\"ovt\", scatter_kw=dict(marker=\".\", zorder=900, c=\"gray\")\n",
    ")"
   ]
  },
  {
   "cell_type": "code",
   "execution_count": 31,
   "id": "ca0a6df0",
   "metadata": {
    "ExecuteTime": {
     "end_time": "2024-09-30T14:37:14.230199Z",
     "start_time": "2024-09-30T14:36:59.971090Z"
    },
    "scrolled": false
   },
   "outputs": [
    {
     "data": {
      "application/vnd.jupyter.widget-view+json": {
       "model_id": "02a550bf92ee4157b3fba7654755f0bf",
       "version_major": 2,
       "version_minor": 0
      },
      "text/plain": [
       "read rmx:   0%|          | 0/815 [00:00<?, ?it/s]"
      ]
     },
     "metadata": {},
     "output_type": "display_data"
    },
    {
     "data": {
      "application/vnd.jupyter.widget-view+json": {
       "model_id": "1073cc9a43e349098a8240672aee9fe2",
       "version_major": 2,
       "version_minor": 0
      },
      "text/plain": [
       "plot ts:   0%|          | 0/815 [00:00<?, ?it/s]"
      ]
     },
     "metadata": {},
     "output_type": "display_data"
    },
    {
     "name": "stdout",
     "output_type": "stream",
     "text": [
      "('GISS-E2-1-G', 'ssp585') kept 5/5\n",
      "('GISS-E2-1-G', 'ssp245') kept 2/14\n",
      "('ACCESS-ESM1-5', 'ssp585') kept 10/10\n",
      "Do GISS-E2-1-G, H_245 used 2/6 members\n",
      "Do GISS-E2-1-G, H_585 used 5/6 members\n"
     ]
    },
    {
     "data": {
      "image/png": "[encoded data removed]",
      "text/plain": [
       "<Figure size 1200x1400 with 2 Axes>"
      ]
     },
     "metadata": {},
     "output_type": "display_data"
    }
   ],
   "source": [
    "_, axes = plt.subplots(2,1, figsize=(12,14), sharex=True, gridspec_kw=dict(hspace=0.01))\n",
    "spaghetti_plot(axes_dict={k:axes[0] for k in 'ssp126 ssp245 ssp585 GISS-E2-1-G'.split()},\n",
    "               single_panel=True, \n",
    "               only_p2300=True,\n",
    "               split_giss=False, \n",
    "               all_ensambles=True,\n",
    "               take_ensemble_mean=True,\n",
    "               giss_on_seperate_ax=False,\n",
    "               only_passing=True,\n",
    "               annotate_below=6,\n",
    "               passing_reference_value=7,\n",
    "               annotate_kw=dict(size=10, use_text_color_for_edge=False,use_text_color_for_line=True,),\n",
    "               **cmap_kw,\n",
    "               **{**kw, **dict(_ann_dict={'dx': 10, 'dy': 1.8, 'offy': -0.9, 'offx': 140, 'clip_t': 2495,\n",
    "                                          'off_for_year': {2500: 4}})},\n",
    "              )\n",
    "add_add_rapid_and_legend(rapid_kw, cmap_kw, **oet.utils.legend_kw(ncol=4), axes=[axes[0]])\n",
    "plt.ylim(0,27)\n",
    "plt.title('AMOC and heat transport in collapsing runs', y=1.1)\n",
    "\n",
    "kw_oht = dict(rm=rm, \n",
    "              _ann_dict=dict(dx=10, dy=.09, offy=.01, offx=150, clip_t=2495, off_for_year= {2500: 0.1}),\n",
    "              **cmap_kw,\n",
    "              annotate_kw=dict(size=10, use_text_color_for_edge=False,use_text_color_for_line=True,),\n",
    "              data_from='jenny')\n",
    "rapid_oht_kw = {**rapid_kw, **dict(sel='oht')}\n",
    "\n",
    "spaghetti_plot(axes_dict={k:axes[1] for k in 'ssp126 ssp245 ssp585 GISS-E2-1-G'.split()},\n",
    "               single_panel=True, \n",
    "               only_p2300=True, \n",
    "               split_giss=False,\n",
    "               all_ensambles=True,\n",
    "               take_ensemble_mean=True,\n",
    "               giss_on_seperate_ax=False,\n",
    "               **kw_oht, \n",
    "               annotate_below=6,\n",
    "               passing_reference_value=0.6,\n",
    "               only_keep_combinations=True,\n",
    "              )\n",
    "plt.ylim(0,1.35)    \n",
    "add_add_rapid_and_legend(rapid_oht_kw, cmap_kw, **oet.utils.legend_kw(ncol=4), axes=[axes[1]])\n",
    "axes[1].get_legend().remove()\n",
    "suptitle_and_save(\n",
    "    'amoc and heat transport', figure = 'figure_1',\n",
    "    skip=True,y=0.93)\n"
   ]
  },
  {
   "cell_type": "code",
   "execution_count": 32,
   "id": "993f2f0b",
   "metadata": {
    "ExecuteTime": {
     "end_time": "2024-09-30T14:37:14.837232Z",
     "start_time": "2024-09-30T14:37:14.231915Z"
    }
   },
   "outputs": [
    {
     "name": "stdout",
     "output_type": "stream",
     "text": [
      "/data/volume_2/2024_06_17_msft_manual_stage/data/CMIP6/ScenarioMIP/MRI/MRI-ESM2-0/ssp126/r1i1p1f1/Omon/msftmz/gr2z/v20200222\n",
      "/data/volume_2/2024_06_17_msft_manual_stage/data/CMIP6/ScenarioMIP/MRI/MRI-ESM2-0/ssp585/r1i1p1f1/Omon/msftmz/gr2z/v20200120\n"
     ]
    },
    {
     "data": {
      "image/png": "[encoded data removed]",
      "text/plain": [
       "<Figure size 800x600 with 1 Axes>"
      ]
     },
     "metadata": {},
     "output_type": "display_data"
    }
   ],
   "source": [
    "for _, row in df_info[(df_info.source_id == 'MRI-ESM2-0' ) & (df_info.last_year == 2300)\n",
    "                     & (df_info.basin == 'atlantic_max')].iterrows():\n",
    "    print(row.h)\n",
    "    ds2, _ = read_from_h(row.h)\n",
    "    manual_msft.set_time_int(ds2)\n",
    "    manual_msft.set_depth_meter(ds2)\n",
    "    plt.plot(ds2['time'], smoother(ds2['atlantic_max_fix']), label=row.ssp, c=default_colors[row.ssp])\n",
    "\n",
    "plt.legend(**oet.utils.legend_kw())\n",
    "plt.ylim(0,None)\n",
    "plt.title(row.source_id,y=1.1)\n",
    "plt.ylabel(f\"Streamfunction at 26$^\\circ$N [Sv]\")\n",
    "suptitle_and_save(\n",
    "    'mri streamfunction', figure = 'figure_s1',\n",
    "    skip=True,y=0.93)\n"
   ]
  },
  {
   "cell_type": "code",
   "execution_count": null,
   "id": "fb3585f5",
   "metadata": {
    "ExecuteTime": {
     "start_time": "2024-09-30T14:35:49.191Z"
    },
    "scrolled": false
   },
   "outputs": [
    {
     "data": {
      "application/vnd.jupyter.widget-view+json": {
       "model_id": "29b3c0bdb3044a3eb4884c2e25fa607e",
       "version_major": 2,
       "version_minor": 0
      },
      "text/plain": [
       "read rmx:   0%|          | 0/815 [00:00<?, ?it/s]"
      ]
     },
     "metadata": {},
     "output_type": "display_data"
    },
    {
     "data": {
      "application/vnd.jupyter.widget-view+json": {
       "model_id": "722bd744941347a0ab9720632d500769",
       "version_major": 2,
       "version_minor": 0
      },
      "text/plain": [
       "plot ts:   0%|          | 0/815 [00:00<?, ?it/s]"
      ]
     },
     "metadata": {},
     "output_type": "display_data"
    },
    {
     "name": "stdout",
     "output_type": "stream",
     "text": [
      "('ACCESS-CM2', 'ssp585') kept 10/10\n",
      "('CanESM5', 'ssp585') kept 50/50\n",
      "('MRI-ESM2-0', 'ssp585') kept 5/5\n",
      "('MRI-ESM2-0', 'ssp126') kept 4/4\n",
      "('ACCESS-ESM1-5', 'ssp585') kept 40/40\n",
      "('UKESM1-0-LL', 'ssp585') kept 5/5\n",
      "('IPSL-CM6A-LR', 'ssp585') kept 7/7\n",
      "('IPSL-CM6A-LR', 'ssp126') kept 6/6\n",
      "('UKESM1-0-LL', 'ssp126') kept 16/16\n",
      "('CanESM5', 'ssp126') kept 50/50\n",
      "('ACCESS-CM2', 'ssp126') kept 10/10\n",
      "('ACCESS-ESM1-5', 'ssp126') kept 40/40\n",
      "('GISS-E2-2-G', 'ssp126') kept 5/5\n",
      "('GISS-E2-2-G', 'ssp245') kept 5/5\n",
      "('CESM2-WACCM', 'ssp585') kept 5/5\n",
      "('MIROC-ES2L', 'ssp585') kept 10/10\n",
      "('CESM2', 'ssp585') kept 3/3\n",
      "('MIROC-ES2L', 'ssp245') kept 30/30\n",
      "('CanESM5-1', 'ssp585') kept 18/18\n",
      "('CanESM5-CanOE', 'ssp585') kept 3/3\n",
      "('CESM2', 'ssp126') kept 3/3\n",
      "('MIROC6', 'ssp585') kept 3/3\n",
      "('MRI-ESM2-0', 'ssp245') kept 4/4\n",
      "('CESM2-WACCM', 'ssp245') kept 5/5\n",
      "('MIROC-ES2L', 'ssp126') kept 10/10\n",
      "('CESM2', 'ssp245') kept 3/3\n",
      "('HadGEM3-GC31-MM', 'ssp585') kept 4/4\n",
      "('CNRM-CM6-1', 'ssp585') kept 6/6\n",
      "('CNRM-ESM2-1', 'ssp585') kept 5/5\n",
      "('MIROC6', 'ssp245') kept 3/3\n",
      "('CanESM5', 'ssp245') kept 50/50\n",
      "('IPSL-CM6A-LR', 'ssp245') kept 11/11\n",
      "('CanESM5-CanOE', 'ssp245') kept 3/3\n",
      "('HadGEM3-GC31-LL', 'ssp585') kept 4/4\n",
      "('CNRM-CM6-1', 'ssp245') kept 10/10\n",
      "('MIROC6', 'ssp126') kept 3/3\n",
      "('CNRM-CM6-1', 'ssp126') kept 6/6\n",
      "('UKESM1-0-LL', 'ssp245') kept 5/5\n",
      "('CNRM-ESM2-1', 'ssp245') kept 10/10\n",
      "('NorESM2-LM', 'ssp245') kept 13/13\n",
      "('CanESM5-CanOE', 'ssp126') kept 3/3\n",
      "('NorESM2-MM', 'ssp245') kept 2/2\n",
      "('CNRM-ESM2-1', 'ssp126') kept 5/5\n",
      "('HadGEM3-GC31-LL', 'ssp245') kept 5/5\n",
      "('GISS-E2-2-G', 'ssp585') kept 5/5\n",
      "('ACCESS-CM2', 'ssp245') kept 10/10\n",
      "('ACCESS-ESM1-5', 'ssp245') kept 40/40\n",
      "('MPI-ESM1-2-LR', 'ssp585') kept 30/30\n"
     ]
    }
   ],
   "source": [
    "spaghetti_plot(single_panel=False,\n",
    "               only_p2300=False, \n",
    "               split_giss=False, \n",
    "               all_ensambles=True,\n",
    "               take_ensemble_mean=True,\n",
    "               giss_on_seperate_ax=True,\n",
    "               include_all_giss_when_seperate=True,\n",
    "               annotate_below=None,          \n",
    "               **kw,               \n",
    "               **cmap_kw, \n",
    "              )\n",
    "plt.gcf().axes[0].set_title('Atlantic overturning collapses in many standard global warming projections')\n",
    "# add_add_rapid_and_legend(rapid_kw, cmap_kw)\n",
    "suptitle_and_save(f'All means (except GISS with all ensembles), color-map based on values in 1900-2000, GISS separate (4 panels), rm{rm}',\n",
    "                  figure = 'figure_s1',\n",
    "                  y=0.85, skip=True)\n",
    "\n",
    "plt.show()\n",
    "#####"
   ]
  },
  {
   "cell_type": "markdown",
   "id": "b2432314",
   "metadata": {},
   "source": [
    "## Overview of values in time slices"
   ]
  },
  {
   "cell_type": "code",
   "execution_count": null,
   "id": "d1826b9a",
   "metadata": {
    "ExecuteTime": {
     "start_time": "2024-09-30T14:35:49.193Z"
    }
   },
   "outputs": [],
   "source": [
    "all_ens=(df_info.basin == \"atlantic_max\") & (df_info.p_dip < 2)\n",
    "mask_df = keep_one_per_source_per_ssp_prev_passing\n",
    "\n",
    "time_slices = [slice(1990,2000), \n",
    "               slice(2090,2100), \n",
    "               slice(2090+100,2100+100),\n",
    "               slice(2090+200,2100+200),\n",
    "               slice(2090+300,2100+300),\n",
    "               slice(2090+400,2100+400)\n",
    "              ]\n",
    "slices_dec = [\n",
    "    (f'{row.source_id} {row.ssp} {row.variant_label}', row.last_year,\n",
    "     *[read_except_rmx_from_h(row.h,  time_slice, rm=1) for time_slice in time_slices])\n",
    "     for __, row in oet.utils.tqdm(list(df_info[mask_df].iterrows()))]\n",
    "\n",
    "slices_dec_all = [\n",
    "    (f'{row.source_id} {row.ssp} {row.variant_label}', row.last_year,\n",
    "     *[read_except_rmx_from_h(row.h,  time_slice, rm=1) for time_slice in time_slices])\n",
    "     for __, row in oet.utils.tqdm(list(df_info[all_ens].iterrows()))]\n",
    "\n",
    "# vv_2100 = [(f'{row.source_id} {row.ssp} {row.variant_label} ', f'{row.ssp}', _(row.h, 2100)) \n",
    "#            for __, row in oet.utils.tqdm(list(df_info[mask_df].iterrows()))]\n",
    "# _vv = [[*a, b[-1]] for a,b in zip(vv_2300, vv_2100)]\n",
    "# smooth_2300 = pd.DataFrame(_vv,columns=['id', 'ssp', 'v2300', 'v2100'])"
   ]
  },
  {
   "cell_type": "code",
   "execution_count": null,
   "id": "c7d4fd88",
   "metadata": {
    "ExecuteTime": {
     "start_time": "2024-09-30T14:35:49.195Z"
    }
   },
   "outputs": [],
   "source": [
    "pd.options.display.max_rows=120\n",
    "pd.DataFrame(slices_dec, columns = ['id', 'last_year'] + [manual_msft.slice_to_string(s).replace('$', '').replace(' ', '') for s in time_slices]\n",
    "            )"
   ]
  },
  {
   "cell_type": "code",
   "execution_count": null,
   "id": "8e5abf41",
   "metadata": {
    "ExecuteTime": {
     "start_time": "2024-09-30T14:35:49.195Z"
    }
   },
   "outputs": [],
   "source": [
    "df_slices_dec = pd.DataFrame(slices_dec, columns = ['id', 'last_year'] + [manual_msft.slice_to_string(s).replace('$', '').replace(' ', '') for s in time_slices])\n",
    "df_slices_dec.to_csv(os.path.join(paper_figure_path, 'strengths_one_member.csv'))\n",
    "df_slices_dec_all = pd.DataFrame(slices_dec_all, columns = ['id', 'last_year'] + [manual_msft.slice_to_string(s).replace('$', '').replace(' ', '') for s in time_slices])\n",
    "df_slices_dec_all.to_csv(os.path.join(paper_figure_path, 'strengths_all_member.csv'))"
   ]
  },
  {
   "cell_type": "code",
   "execution_count": null,
   "id": "0503e526",
   "metadata": {
    "ExecuteTime": {
     "end_time": "2024-09-02T10:13:57.980328Z",
     "start_time": "2024-09-02T10:13:57.980319Z"
    }
   },
   "outputs": [],
   "source": []
  },
  {
   "cell_type": "code",
   "execution_count": null,
   "id": "7303b453",
   "metadata": {
    "ExecuteTime": {
     "end_time": "2024-09-02T10:13:57.981774Z",
     "start_time": "2024-09-02T10:13:57.981764Z"
    }
   },
   "outputs": [],
   "source": []
  },
  {
   "cell_type": "code",
   "execution_count": null,
   "id": "d340b633",
   "metadata": {
    "ExecuteTime": {
     "start_time": "2024-09-30T14:35:49.196Z"
    }
   },
   "outputs": [],
   "source": [
    "def perc(x):\n",
    "    return 100*sum(x)/len(x)"
   ]
  },
  {
   "cell_type": "code",
   "execution_count": null,
   "id": "6e5d4d23",
   "metadata": {
    "ExecuteTime": {
     "start_time": "2024-09-30T14:35:49.196Z"
    }
   },
   "outputs": [],
   "source": [
    "def simple_hist(a, scatter=False, error_bar=False, lines=True,\n",
    "                hist_kw=None,\n",
    "               overflow_last=True, **plot_kw):\n",
    "    hist_kw = hist_kw or dict()\n",
    "    c, be = np.histogram(a, **hist_kw)\n",
    "    bc = (be[1:]+be[:-1])/2\n",
    "    if scatter:\n",
    "        plt.scatter(bc, c, **plot_kw)\n",
    "    if error_bar:\n",
    "        plt.errorbar(bc,c, yerr=np.sqrt(c), **plot_kw)\n",
    "    if lines:\n",
    "        plt.plot(bc, c, **plot_kw)\n",
    "    if overflow_last:\n",
    "        c[-1] += np.sum(a>be[-1])\n",
    "    return bc, c"
   ]
  },
  {
   "cell_type": "code",
   "execution_count": null,
   "id": "d646be4a",
   "metadata": {
    "ExecuteTime": {
     "start_time": "2024-09-30T14:35:49.197Z"
    }
   },
   "outputs": [],
   "source": [
    "passing = (df_slices_dec['2290-2300'] < 7) & (df_slices_dec['2090-2100'] < 10)"
   ]
  },
  {
   "cell_type": "code",
   "execution_count": null,
   "id": "aa5caa3c",
   "metadata": {
    "ExecuteTime": {
     "start_time": "2024-09-30T14:35:49.197Z"
    }
   },
   "outputs": [],
   "source": [
    "df_slices_dec['ssp'] = [d.split()[1] for d in df_slices_dec['id']]"
   ]
  },
  {
   "cell_type": "code",
   "execution_count": null,
   "id": "3660156f",
   "metadata": {
    "ExecuteTime": {
     "start_time": "2024-09-30T14:35:49.200Z"
    }
   },
   "outputs": [],
   "source": [
    "df_slices_dec[passing]"
   ]
  },
  {
   "cell_type": "code",
   "execution_count": null,
   "id": "5253c262",
   "metadata": {
    "ExecuteTime": {
     "start_time": "2024-09-30T14:35:49.201Z"
    }
   },
   "outputs": [],
   "source": [
    "res_dict = {ssp: df_slices_dec[(df_slices_dec['ssp']==ssp) & (~passing)]['2090-2100'].values\n",
    " for ssp in 'ssp126 ssp245 ssp585'.split()\n",
    " }\n"
   ]
  },
  {
   "cell_type": "code",
   "execution_count": null,
   "id": "82a8e0f0",
   "metadata": {
    "ExecuteTime": {
     "start_time": "2024-09-30T14:35:49.203Z"
    },
    "scrolled": false
   },
   "outputs": [],
   "source": [
    "def gauss_1d(x, mu, sig):\n",
    "    return (\n",
    "        1.0 / (np.sqrt(2.0 * np.pi) * sig) * np.exp(-np.power((x - mu) / sig, 2.0) / 2)\n",
    "    )\n",
    "plot_kw = dict(s=10)\n",
    "\n",
    "x = np.linspace(0,30,1000)\n",
    "thrs = 10\n",
    "a = df_slices_dec[passing]['2090-2100'].values\n",
    "ticks = np.arange(4)\n",
    "labels = []\n",
    "i=3\n",
    "plt.scatter(\n",
    "            a,[i]*len(a),\n",
    "            color='purple',\n",
    "    **plot_kw\n",
    "           )\n",
    "labels.append(f'Known collapse ({perc(df_slices_dec[passing][\"2090-2100\"].values<thrs):.0f}$\\%$)')\n",
    "for i, (ssp, vv) in enumerate(res_dict.items()):\n",
    "    j=i+4\n",
    "    plt.scatter(vv, [j]*len(vv), color=default_colors[ssp], **plot_kw)\n",
    "    labels.append(f'{ssp} ({perc(vv<thrs):.0f}$\\%$)')\n",
    "              \n",
    "plt.axvline(thrs, ls='--', c='k', lw=1)\n",
    "plt.title(f'Number of models below {thrs}\\,Sv')\n",
    "plt.xlabel(f'AMOC strength in 2090-2100 [Sv]')\n",
    "plt.grid(axis='y')\n",
    "plt.gca().yaxis.set_ticks(ticks+i+1, labels)\n",
    "plt.xlim(0,30)\n",
    "suptitle_and_save(f'Number of models below {thrs}\\,Sv', \n",
    "                  skip=True,\n",
    "                  figure = 'figure_s7',\n",
    "                  y=0.93)"
   ]
  },
  {
   "cell_type": "markdown",
   "id": "06ccab3d",
   "metadata": {},
   "source": [
    "## Depth discussion"
   ]
  },
  {
   "cell_type": "code",
   "execution_count": null,
   "id": "15368f3b",
   "metadata": {
    "ExecuteTime": {
     "start_time": "2024-09-30T14:35:49.204Z"
    }
   },
   "outputs": [],
   "source": [
    "def get_max_at_time_series(ds, sel_sector='atlantic', variable_id=None, meter_min=800, lat_min=None, lat_sel=None):\n",
    "    variable_id = variable_id or ds.variable_id\n",
    "    ds = ds.copy()\n",
    "    b_var = manual_msft.get_basin_var(ds)\n",
    "    sectors = [manual_msft.sector_normalize(s) for s in manual_msft.get_sectors(ds)]\n",
    "    manual_msft.set_depth_meter(ds)\n",
    "    \n",
    "    assert len(ds[b_var]) == len(sectors)\n",
    "    \n",
    "    for s_i, sector in enumerate(sectors):\n",
    "        if sector != sel_sector:\n",
    "            continue\n",
    "        da_sel = ds[variable_id].isel(**{b_var: s_i})\n",
    "        if lat_min is not None:\n",
    "            da_sel = da_sel.where(ds[manual_msft.get_rlat_coord(ds)]>lat_min, drop=True)\n",
    "        if lat_sel is not None:\n",
    "            da_sel = da_sel.sel(**{manual_msft.get_rlat_coord(ds): lat_sel}, method='nearest')\n",
    "        if meter_min is not None:\n",
    "            da_sel = da_sel.where(ds[manual_msft.get_lev_coord(ds)]>meter_min, drop=False)\n",
    "        return da_sel"
   ]
  },
  {
   "cell_type": "code",
   "execution_count": null,
   "id": "8b28e551",
   "metadata": {
    "ExecuteTime": {
     "start_time": "2024-09-30T14:35:49.204Z"
    }
   },
   "outputs": [],
   "source": [
    "def get_ds_in_sector(ds, sel_sector='atlantic'):\n",
    "    b_var = manual_msft.get_basin_var(ds)\n",
    "    sectors = [manual_msft.sector_normalize(s) for s in manual_msft.get_sectors(ds)]\n",
    "    \n",
    "    assert len(ds[b_var]) == len(sectors)\n",
    "    \n",
    "    for s_i, sector in enumerate(sectors):\n",
    "        if sector != sel_sector:\n",
    "            continue\n",
    "        return ds.isel(**{b_var: s_i})"
   ]
  },
  {
   "cell_type": "code",
   "execution_count": null,
   "id": "25ecbaed",
   "metadata": {
    "ExecuteTime": {
     "end_time": "2024-09-02T14:07:43.396239Z",
     "start_time": "2024-09-02T14:07:43.391908Z"
    }
   },
   "outputs": [],
   "source": []
  },
  {
   "cell_type": "code",
   "execution_count": null,
   "id": "a91ba07b",
   "metadata": {
    "ExecuteTime": {
     "start_time": "2024-09-30T14:35:49.205Z"
    }
   },
   "outputs": [],
   "source": [
    "def get_ts(ds2):\n",
    "    da_north_500 = get_max_at_time_series(ds2, lat_min=0, meter_min=500)\n",
    "    _, max_2d_north_500 = manual_msft.min_max_lat_lev_idx(da_north_500.values.squeeze())\n",
    "    ts_north_500 = manual_msft.index_2d(da_north_500.values.squeeze(), max_2d_north_500)\n",
    "    \n",
    "    da_26p5N_500 = get_max_at_time_series(ds2, lat_sel=26.5, meter_min=500)\n",
    "    v_i = da_26p5N_500.values.squeeze()\n",
    "    len_time, len_lev = v_i.shape\n",
    "    v_i = v_i.reshape(len_time, len_lev, 1)\n",
    "    _, max_2d_26p5N_500 = manual_msft.min_max_lat_lev_idx(v_i)\n",
    "    ts_26p5N_500 = manual_msft.index_2d(v_i, max_2d_26p5N_500)\n",
    "    \n",
    "    return ts_north_500, ts_26p5N_500"
   ]
  },
  {
   "cell_type": "code",
   "execution_count": null,
   "id": "eda84b16",
   "metadata": {
    "ExecuteTime": {
     "start_time": "2024-09-30T14:35:49.206Z"
    }
   },
   "outputs": [],
   "source": [
    "df_info[(df_info['pass']) & (df_info['ssp']=='ssp585')][_header]\n"
   ]
  },
  {
   "cell_type": "code",
   "execution_count": null,
   "id": "c72b8b61",
   "metadata": {
    "ExecuteTime": {
     "start_time": "2024-09-30T14:35:49.207Z"
    }
   },
   "outputs": [],
   "source": [
    "means = dict(ts_north_500=defaultdict(list),\n",
    "             ts_26p5N_500=defaultdict(list),\n",
    "             ts_fix=defaultdict(list),\n",
    "            )\n",
    "depths = defaultdict(list)\n",
    "for _, row in oet.utils.tqdm(list(df_info[(df_info['pass']) & (df_info['ssp']=='ssp585')].iterrows())):\n",
    "    ds2, _ = read_from_h(row.h)\n",
    "    ds2=ds2.sel(time=slice(None, 2298))\n",
    "    depths[row.source_id].append(manual_msft.get_depth(ds2))\n",
    "    manual_msft.set_time_int(ds2)\n",
    "    manual_msft.set_depth_meter(ds2)\n",
    "    ts_north_500, ts_26p5N_500 = get_ts(ds2)\n",
    "    ts_fix = ds2['atlantic_max_fix'].values\n",
    "\n",
    "    means['ts_north_500'][row.source_id].append(ts_north_500)\n",
    "    means['ts_26p5N_500'][row.source_id].append(ts_26p5N_500)\n",
    "    means['ts_fix'][row.source_id].append(ts_fix)"
   ]
  },
  {
   "cell_type": "code",
   "execution_count": null,
   "id": "98880b9a",
   "metadata": {
    "ExecuteTime": {
     "end_time": "2024-09-02T14:24:36.278974Z",
     "start_time": "2024-09-02T14:24:36.274950Z"
    }
   },
   "outputs": [],
   "source": []
  },
  {
   "cell_type": "code",
   "execution_count": null,
   "id": "e5f40e9e",
   "metadata": {
    "ExecuteTime": {
     "start_time": "2024-09-30T14:35:49.208Z"
    }
   },
   "outputs": [],
   "source": [
    "labels=dict(ts_north_500=f'Atlantic max. 0$^\\circ$N:90$^\\circ$N, depth$>${500} m',\n",
    "             ts_26p5N_500=f'Atlantic max. at 26$^\\circ$N, depth$>$500 m',\n",
    "             ts_fix=f'Atlantic at 26$^\\circ$N, depth$\\\\approx{np.mean([np.mean(d) for d in depths.values()]):.0f}$ m')\n",
    "for i, k in enumerate(['ts_fix', 'ts_26p5N_500', 'ts_north_500']):\n",
    "    mm = np.nanmean([np.nanmean(m, axis=0) for m in means[k].values()], axis=0)\n",
    "    \n",
    "    plt.plot(ds2['time'], smoother(mm), label=labels[k], zorder=3-i/3)\n",
    "plt.title('AMOC average for collapsing ssp585 runs')\n",
    "plt.legend()\n",
    "plt.ylim(0, 27.5)\n",
    "plt.ylabel(f\"Streamfunction at 26$^\\circ$N [Sv]\")\n",
    "oet.utils.save_fig('amoc average', save_in=paper_figure_path, sub_dir='figure_s5', file_types=('png',), dpi=300)"
   ]
  },
  {
   "cell_type": "code",
   "execution_count": null,
   "id": "53d3f320",
   "metadata": {
    "ExecuteTime": {
     "start_time": "2024-09-30T14:35:49.210Z"
    }
   },
   "outputs": [],
   "source": [
    "years = slice(2290, 2300)\n",
    "grid = np.arange(0, 5001, 1)\n",
    "def mean_sl(sl):\n",
    "    return (sl.stop+sl.start)/2\n",
    "for years in [slice(1850, 1900), slice(1950, 2000),  slice(2290, 2300)]:\n",
    "    means_depth = defaultdict(list)\n",
    "    for _, row in oet.utils.tqdm(list(df_info[(df_info['pass']) & (df_info['ssp']=='ssp585')].iterrows())):\n",
    "        h = row.h\n",
    "        ds2, _ = read_from_h(h)\n",
    "\n",
    "        ds2 = get_ds_in_sector(ds2)\n",
    "        manual_msft.set_time_int(ds2)\n",
    "        manual_msft.set_depth_meter(ds2)\n",
    "        try:\n",
    "            da = ds2[ds2.variable_id].sel(time=years).sel({manual_msft.get_rlat_coord(ds2): 26.5}, method='nearest').mean('time')\n",
    "        except KeyError:\n",
    "            raise\n",
    "        itp = scipy.interpolate.interp1d(da[manual_msft.get_lev_coord(ds2)], da.values.squeeze(), bounds_error=False, fill_value=0)\n",
    "        v = itp(grid)\n",
    "        if np.any(np.isnan(v)):\n",
    "            continue\n",
    "        means_depth[ds2.source_id] += [v]\n",
    "\n",
    "    plt.plot(np.nanmean([np.nanmean(v, axis=0) for v in means_depth.values()], axis=0), -grid, label=manual_msft.slice_to_string(years))\n",
    "    \n",
    "plt.suptitle(f'Average AMOC versus depth for collapsing ssp585 runs',y=0.93)\n",
    "plt.legend()\n",
    "# oet.utils.save_fig(f'depth profiles', \n",
    "#                        save_in=os.path.join(os.path.split(main_fig_folder)[0], 'figure_s1'), \n",
    "#                        sub_dir='', file_types=('png',), dpi=150)\n",
    "plt.ylim(-1100,50)\n",
    "# plt.xlim(0, 18)\n",
    "plt.ylabel('Depth [m]')\n",
    "plt.xlabel(f\"Streamfunction at 26$^\\circ$N [Sv]\")\n",
    "oet.utils.save_fig('average amoc depth', save_in=paper_figure_path, sub_dir='figure_s5', file_types=('png',), dpi=300)\n",
    "plt.show()"
   ]
  },
  {
   "cell_type": "code",
   "execution_count": null,
   "id": "dc53a4c1",
   "metadata": {
    "ExecuteTime": {
     "start_time": "2024-09-30T14:35:49.211Z"
    }
   },
   "outputs": [],
   "source": [
    "years = slice(2290, 2300)\n",
    "grid = np.arange(0, 5001, 1)\n",
    "def mean_sl(sl):\n",
    "    return (sl.stop+sl.start)/2\n",
    "means = defaultdict(list)\n",
    "for years in [slice(1850, 1900), slice(1950, 2000)]:\n",
    "\n",
    "    for _, row in oet.utils.tqdm(list(df_info[(df_info['pass']) & (df_info['ssp']=='ssp585')].iterrows())):\n",
    "        h = row.h\n",
    "        ds2, _ = read_from_h(h)\n",
    "\n",
    "        ds2 = get_ds_in_sector(ds2)\n",
    "        manual_msft.set_time_int(ds2)\n",
    "        manual_msft.set_depth_meter(ds2)\n",
    "        da = ds2[ds2.variable_id].sel(time=years).sel({manual_msft.get_rlat_coord(ds2): 26.5}, method='nearest').mean('time')\n",
    "        idx = np.nanargmax(da.values)\n",
    "        d=ds2[manual_msft.get_lev_coord(ds2)].values[idx]\n",
    "        if d>1500:\n",
    "            raise\n",
    "        means[h].append(d)"
   ]
  },
  {
   "cell_type": "markdown",
   "id": "0f7f94ec",
   "metadata": {},
   "source": [
    "# Crosssections"
   ]
  },
  {
   "cell_type": "code",
   "execution_count": null,
   "id": "0fdd731a",
   "metadata": {
    "ExecuteTime": {
     "start_time": "2024-09-30T14:35:49.212Z"
    }
   },
   "outputs": [],
   "source": [
    "x=[]\n",
    "ds_dict=dict()\n",
    "seen = []\n",
    "for _, row in oet.utils.tqdm(list(df_info[df_info['pass']].iterrows())\n",
    "                            ):  \n",
    "    \n",
    "    if row.ssp not in ds_dict:\n",
    "        ds_dict[row.ssp] = defaultdict(list)\n",
    "    ds2, _ = read_from_h(row.h)\n",
    "    manual_msft.set_depth_meter(ds2)\n",
    "    if row.last_year > 2200:\n",
    "        ds_dict[row.ssp][row.source_id].append(ds2)\n",
    "    "
   ]
  },
  {
   "cell_type": "code",
   "execution_count": null,
   "id": "18b47e9d",
   "metadata": {
    "ExecuteTime": {
     "start_time": "2024-09-30T14:35:49.213Z"
    }
   },
   "outputs": [],
   "source": [
    "ds_dict_new = defaultdict(list)\n",
    "for ssp in list(ds_dict):\n",
    "    for model in list(ds_dict[ssp]):\n",
    "        if len(ds_dict[ssp][model]) > 1:\n",
    "            print(ssp, model)\n",
    "            average_ds = (\n",
    "                    sum(ds_dict[ssp][model])/len(ds_dict[ssp][model])\n",
    "                ).compute()\n",
    "            \n",
    "            \n",
    "            if not average_ds.attrs:\n",
    "                average_ds.attrs = ds_dict[ssp][model][0].attrs.copy()\n",
    "            ds_dict_new[ssp].append(average_ds)\n",
    "        else:\n",
    "                ds_dict_new[ssp].append(ds_dict[ssp][model][0])\n"
   ]
  },
  {
   "cell_type": "code",
   "execution_count": null,
   "id": "7e0258cf",
   "metadata": {
    "ExecuteTime": {
     "start_time": "2024-09-30T14:35:49.213Z"
    }
   },
   "outputs": [],
   "source": [
    "import matplotlib.ticker as ticker"
   ]
  },
  {
   "cell_type": "code",
   "execution_count": null,
   "id": "c66435fe",
   "metadata": {
    "ExecuteTime": {
     "start_time": "2024-09-30T14:35:49.214Z"
    },
    "scrolled": false
   },
   "outputs": [],
   "source": [
    "kw = dict(lat_grid = np.linspace(-32, 85, 1000),\n",
    "lev_grid = np.linspace(-5000, 0, 1000),\n",
    "         )\n",
    "ensambles = {ssp: manual_msft.EnsambleFromYear(ds_s, **kw) for ssp, ds_s in ds_dict_new.items()}\n"
   ]
  },
  {
   "cell_type": "code",
   "execution_count": null,
   "id": "4cf776f0",
   "metadata": {
    "ExecuteTime": {
     "start_time": "2024-09-30T14:35:49.217Z"
    }
   },
   "outputs": [],
   "source": [
    "skw=dict( ha='right', va='bottom',\n",
    "        bbox=dict(facecolor='gainsboro', edgecolor='black', boxstyle='round'),)\n",
    "\n",
    "p_kw = dict(vmin=-1.2, vmax=1.2, extend='both', cmap='RdBu_r',\n",
    "            add_colorbar=False,levels=np.linspace(-1.2,1.2,25, endpoint=True))\n",
    "p_kw_start = p_kw.copy()      "
   ]
  },
  {
   "cell_type": "code",
   "execution_count": null,
   "id": "c2d32c5f",
   "metadata": {
    "ExecuteTime": {
     "start_time": "2024-09-30T14:35:49.218Z"
    }
   },
   "outputs": [],
   "source": [
    "fig, axes = plt.subplot_mosaic(\n",
    "    'abc\\ndef\\nghi\\n...\\nkkk', figsize=(20,14),\n",
    "    gridspec_kw=dict(height_ratios=[1, 1,1,0.3,0.1], hspace=0.0,wspace=0.0))\n",
    "\n",
    "iter_axes = iter([ax for k, ax in axes.items() if k not in 'jk'])\n",
    "\n",
    "reference = dict()\n",
    "\n",
    "\n",
    "p_kw = dict(vmin=-1.2, vmax=1.2, extend='both', cmap='RdBu_r',\n",
    "            add_colorbar=False,levels=np.linspace(-1.2,1.2,25, endpoint=True))\n",
    "p_kw_start = p_kw.copy()      \n",
    "for i, (year, ssp) in enumerate(\n",
    "    itertools.product(\n",
    "        \n",
    "        [slice(1990,2000),\n",
    "         slice(2090,2100),\n",
    "         slice(2290,2300),\n",
    "        ],\n",
    "   'ssp585 ssp126 ssp245'.split())\n",
    "):\n",
    "    if ssp == 'ssp245' and year == slice(2290,2300):\n",
    "        year = slice(2390,2400)\n",
    "    print(i, ssp, year)\n",
    "    ens = ensambles[ssp]\n",
    "    tot = ens.ensamble_from_year(year_slice=year, normalize_to_year=slice(1990,2000)).astype(np.float64)\n",
    "    ax=next(iter_axes)\n",
    "    \n",
    "#     if ssp not in reference:\n",
    "#         reference[ssp] = tot\n",
    "#     else:\n",
    "#         ref = reference[ssp]\n",
    "#         ref_val = ref.sel(lev=-np.mean([manual_msft.get_depth(ds_n) for ds_n in ens.ds_group]),\n",
    "#                                        lat=26.5,\n",
    "#                                        method='nearest'\n",
    "#                                       )\n",
    "#         tot = (tot - ref)\n",
    "#         p_kw.update(vmin=-1, vmax=1, levels=np.linspace(-1,1,21, endpoint=True))\n",
    "        \n",
    "    \n",
    "    tot.plot(ax=ax, **p_kw)\n",
    "    ax.set_facecolor('darkgray')\n",
    "        \n",
    "    if i<3:\n",
    "        ax.set_title(f'{ssp} (n={len(ds_dict[ssp])})')\n",
    "    if i in range(0,10,3):\n",
    "        ax.set_ylabel('Depth [m]')\n",
    "    elif i in range(1,10,3):\n",
    "        ax.set_ylabel('')\n",
    "        ax.set_yticklabels(['' for _ in ax.get_yticklabels()])\n",
    "    else:\n",
    "        ax.set_ylabel('Depth [m]')\n",
    "        ax.yaxis.tick_right()\n",
    "        ax.yaxis.set_label_position(\"right\")\n",
    "    ax.set_xlabel('Latitude' if i > 5 else '')\n",
    "    \n",
    "    ax.text(ax.get_xlim()[1]/1.05, ax.get_ylim()[0]/1.1, manual_msft.slice_to_string(year), **skw\n",
    "        )\n",
    "    ax.grid()\n",
    "    majors = [0, -1000, -2000, -3000, -4000]\n",
    "    minors = [-1000, -3000]\n",
    "    ax.yaxis.set_major_locator(ticker.FixedLocator(majors))\n",
    "    ax.yaxis.set_minor_locator(ticker.FixedLocator(minors))\n",
    "\n",
    "    if tot.sum():\n",
    "        depths = -np.array([manual_msft.get_depth(ds_n) for ds_n in ens.ds_group])\n",
    "        md = np.mean(depths)\n",
    "        if np.std(depths):\n",
    "            ax.errorbar([26.5],[md], c='black', marker='.',\n",
    "                         yerr=np.array([[np.abs(np.min(depths)-md)], [np.abs(np.max(depths)-md)]]), capsize=3)\n",
    "        else:\n",
    "            ax.scatter([26.5],[md], c='black', marker='.',)\n",
    "plt.suptitle('Ensemble means AMOC',y=0.93)\n",
    "\n",
    "cmap = mpl.cm.RdBu_r\n",
    "norm = mpl.colors.Normalize(vmin=p_kw_start['vmin'], vmax=p_kw_start['vmax'])\n",
    "\n",
    "cb1 = mpl.colorbar.ColorbarBase(axes['k'], \n",
    "                                cmap=cmap,\n",
    "                                norm=norm,\n",
    "                                orientation='horizontal',\n",
    "                                boundaries=p_kw_start['levels'])\n",
    "\n",
    "cb1.set_label(    '$\\Psi(t = {1990 - 2000})=\\\\frac{\\\\mathrm{Stream\\ function}(t = {1990 - 2000},\\ \\\\mathrm{lat},\\ \\\\mathrm{depth}))}'\n",
    "'{\\\\mathrm{Stream\\ function }(t={1990 - 2000},\\ \\\\mathrm{lat}=26.5\\,^\\\\circ\\\\mathrm{N},\\ \\\\mathrm{depth}\\\\sim-1000\\,\\\\mathrm{m})}$',\n",
    "                  fontsize='x-large'\n",
    ")\n",
    "cb1.set_label('Normalized streamfunction')\n",
    "\n",
    "oet.utils.save_fig(\n",
    "    save_in=os.path.join(paper_figure_path, 'figure_s2'), \n",
    "    file_types=('png',), sub_dir='', \n",
    "    name='ensemble_streamfunction_cross_sections_3x3',\n",
    "    dpi=300,\n",
    ")\n",
    "plt.show()"
   ]
  }
 ],
 "metadata": {
  "kernelspec": {
   "display_name": "Python 3 (ipykernel)",
   "language": "python",
   "name": "python3"
  },
  "language_info": {
   "codemirror_mode": {
    "name": "ipython",
    "version": 3
   },
   "file_extension": ".py",
   "mimetype": "text/x-python",
   "name": "python",
   "nbconvert_exporter": "python",
   "pygments_lexer": "ipython3",
   "version": "3.8.16"
  }
 },
 "nbformat": 4,
 "nbformat_minor": 5
}
