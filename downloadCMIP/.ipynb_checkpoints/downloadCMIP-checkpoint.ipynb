{
 "cells": [
  {
   "cell_type": "code",
   "execution_count": 1,
   "id": "8c7aca8d-3f5e-4eb4-80e7-910e9576fdb0",
   "metadata": {},
   "outputs": [],
   "source": [
    "from esgpull import Esgpull, Query\n",
    "import urllib.request\n",
    "import os\n",
    "import glob"
   ]
  },
  {
   "cell_type": "code",
   "execution_count": 2,
   "id": "3d6e1682-6ead-448c-8b77-858971f91b47",
   "metadata": {},
   "outputs": [],
   "source": [
    "# File details:\n",
    "model = 'ACCESS-ESM1-5'\n",
    "ens   = 'r4i1p1f1'\n",
    "exp   = 'historical'\n",
    "var   = 'vo'\n",
    "gtype = 'gn'"
   ]
  },
  {
   "cell_type": "code",
   "execution_count": 7,
   "id": "0ba8962f-c383-4c88-8b22-66fb94324bc9",
   "metadata": {},
   "outputs": [
    {
     "name": "stdout",
     "output_type": "stream",
     "text": [
      "12\n",
      "/gws/nopw/j04/canari/users/jmecking001/CMIP/downloaded/CMIP6/ACCESS-ESM1-5/historical/r4i1p1f1/v20200529/vo_Omon_ACCESS-ESM1-5_historical_r4i1p1f1_gn_185001-185912.nc\n",
      "/gws/nopw/j04/canari/users/jmecking001/CMIP/downloaded/CMIP6/ACCESS-ESM1-5/historical/r4i1p1f1/v20200529/vo_Omon_ACCESS-ESM1-5_historical_r4i1p1f1_gn_186001-186912.nc\n",
      "/gws/nopw/j04/canari/users/jmecking001/CMIP/downloaded/CMIP6/ACCESS-ESM1-5/historical/r4i1p1f1/v20200529/vo_Omon_ACCESS-ESM1-5_historical_r4i1p1f1_gn_187001-187912.nc\n",
      "/gws/nopw/j04/canari/users/jmecking001/CMIP/downloaded/CMIP6/ACCESS-ESM1-5/historical/r4i1p1f1/v20200529/vo_Omon_ACCESS-ESM1-5_historical_r4i1p1f1_gn_188001-188912.nc\n",
      "/gws/nopw/j04/canari/users/jmecking001/CMIP/downloaded/CMIP6/ACCESS-ESM1-5/historical/r4i1p1f1/v20200529/vo_Omon_ACCESS-ESM1-5_historical_r4i1p1f1_gn_189001-189912.nc\n",
      "/gws/nopw/j04/canari/users/jmecking001/CMIP/downloaded/CMIP6/ACCESS-ESM1-5/historical/r4i1p1f1/v20200529/vo_Omon_ACCESS-ESM1-5_historical_r4i1p1f1_gn_190001-190912.nc\n",
      "/gws/nopw/j04/canari/users/jmecking001/CMIP/downloaded/CMIP6/ACCESS-ESM1-5/historical/r4i1p1f1/v20200529/vo_Omon_ACCESS-ESM1-5_historical_r4i1p1f1_gn_191001-191912.nc\n",
      "/gws/nopw/j04/canari/users/jmecking001/CMIP/downloaded/CMIP6/ACCESS-ESM1-5/historical/r4i1p1f1/v20200529/vo_Omon_ACCESS-ESM1-5_historical_r4i1p1f1_gn_192001-192912.nc\n",
      "/gws/nopw/j04/canari/users/jmecking001/CMIP/downloaded/CMIP6/ACCESS-ESM1-5/historical/r4i1p1f1/v20200529/vo_Omon_ACCESS-ESM1-5_historical_r4i1p1f1_gn_193001-193912.nc\n",
      "/gws/nopw/j04/canari/users/jmecking001/CMIP/downloaded/CMIP6/ACCESS-ESM1-5/historical/r4i1p1f1/v20200529/vo_Omon_ACCESS-ESM1-5_historical_r4i1p1f1_gn_194001-194912.nc\n",
      "/gws/nopw/j04/canari/users/jmecking001/CMIP/downloaded/CMIP6/ACCESS-ESM1-5/historical/r4i1p1f1/v20200529/vo_Omon_ACCESS-ESM1-5_historical_r4i1p1f1_gn_195001-195912.nc\n",
      "/gws/nopw/j04/canari/users/jmecking001/CMIP/downloaded/CMIP6/ACCESS-ESM1-5/historical/r4i1p1f1/v20200529/vo_Omon_ACCESS-ESM1-5_historical_r4i1p1f1_gn_196001-196912.nc\n"
     ]
    }
   ],
   "source": [
    "# Check data already downloaded:\n",
    "datadir = ('/gws/nopw/j04/canari/users/jmecking001/CMIP/downloaded/CMIP6/ACCESS-ESM1-5/historical/r4i1p1f1/v20200529/') # Directory where data is stored\n",
    "files   = glob.glob(datadir + var + '_*_'+ model + '_' + exp + '_' + ens + '_' + gtype + '*.nc')\n",
    "print(len(files))\n",
    "for file in files:\n",
    "    print(file)"
   ]
  },
  {
   "cell_type": "code",
   "execution_count": 8,
   "id": "0c14c53a-07de-49bf-a07e-502f3fe9d5c7",
   "metadata": {},
   "outputs": [],
   "source": [
    "# Information on where to download data:\n",
    "query = Query()\n",
    "query.selection.project       = \"CMIP6\"\n",
    "query.selection.activity_id   = \"CMIP\"\n",
    "query.selection.source_id     = model\n",
    "query.selection.experiment_id = exp\n",
    "query.selection.variant_label = ens\n",
    "query.selection.variable_id   = var\n",
    "query.selection.table_id      = \"Omon\"\n",
    "query.selection.grid_label    = gtype\n",
    "query.selection.data_node     = \"esgf.nci.org.au\"\n",
    "query.options.distrib         = True  # default=False"
   ]
  },
  {
   "cell_type": "code",
   "execution_count": null,
   "id": "040c80b6-55b0-471c-9641-9f9a2788a4eb",
   "metadata": {},
   "outputs": [],
   "source": [
    "# Check file availability:\n",
    "esg = Esgpull()\n",
    "nb_datasets = esg.context.hits(query, file=False)[0]\n",
    "nb_files    = esg.context.hits(query, file=True)[0]\n",
    "datasets    = esg.context.datasets(query, max_hits=20)\n",
    "files       = esg.context.files(query, max_hits=100)\n",
    "print(f\"Number of CMIP6 datasets: {nb_datasets}\")\n",
    "print(f\"Number of CMIP6 files: {nb_files}\")\n",
    "for dataset in datasets:\n",
    "    print(dataset)\n",
    "\n",
    "for file in files:\n",
    "    print(file.data_node + ', ' + file.file_id)"
   ]
  }
 ],
 "metadata": {
  "kernelspec": {
   "display_name": "FWTpaper",
   "language": "python",
   "name": "fwtpaper"
  },
  "language_info": {
   "codemirror_mode": {
    "name": "ipython",
    "version": 3
   },
   "file_extension": ".py",
   "mimetype": "text/x-python",
   "name": "python",
   "nbconvert_exporter": "python",
   "pygments_lexer": "ipython3",
   "version": "3.10.14"
  }
 },
 "nbformat": 4,
 "nbformat_minor": 5
}
