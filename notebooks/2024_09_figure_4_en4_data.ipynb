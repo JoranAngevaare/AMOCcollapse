{
 "cells": [
  {
   "cell_type": "markdown",
   "id": "f4542a71",
   "metadata": {},
   "source": [
    "## Setup and imports\n"
   ]
  },
  {
   "cell_type": "code",
   "execution_count": 1,
   "id": "c82072fe",
   "metadata": {
    "ExecuteTime": {
     "end_time": "2024-09-30T12:00:22.381061Z",
     "start_time": "2024-09-30T12:00:21.022694Z"
    }
   },
   "outputs": [
    {
     "name": "stdout",
     "output_type": "stream",
     "text": [
      "go\n",
      "Hi there, have a great and productive day :)\n"
     ]
    }
   ],
   "source": [
    "print('go')\n",
    "import optim_esm_tools as oet\n",
    "%run ../amoc_collapse_scripts/imports.py\n",
    "from amoc_collapse_scripts import amoc_deep_dive"
   ]
  },
  {
   "cell_type": "code",
   "execution_count": 6,
   "id": "329cb0ad",
   "metadata": {
    "ExecuteTime": {
     "end_time": "2024-09-30T11:39:52.466086Z",
     "start_time": "2024-09-30T11:39:52.452921Z"
    }
   },
   "outputs": [],
   "source": [
    "from netCDF4 import Dataset"
   ]
  },
  {
   "cell_type": "markdown",
   "id": "a986ad87",
   "metadata": {},
   "source": [
    "Smooth the time series using this gaussian filter"
   ]
  },
  {
   "cell_type": "code",
   "execution_count": null,
   "id": "62e7953f",
   "metadata": {
    "ExecuteTime": {
     "end_time": "2024-09-30T11:39:33.195496Z",
     "start_time": "2024-09-30T11:39:33.195486Z"
    }
   },
   "outputs": [],
   "source": [
    "def gausian_filter(y, n=100, mu=7.5):\n",
    "    b = gaussian(n, mu)\n",
    "    gauss = scipy.ndimage.convolve1d(y, b / b.sum())\n",
    "    return gauss\n",
    "\n",
    "\n",
    "smoother = partial(gausian_filter, mu=3)"
   ]
  },
  {
   "cell_type": "code",
   "execution_count": null,
   "id": "d64ae059",
   "metadata": {
    "ExecuteTime": {
     "end_time": "2024-09-30T11:39:33.196797Z",
     "start_time": "2024-09-30T11:39:33.196787Z"
    }
   },
   "outputs": [],
   "source": [
    "base = \"/data/volume_2/tipping_figures/2024_05_07_amoc/\"\n",
    "\n",
    "figures_folder = os.path.join(base, \"paper\", \"v2024.09.05_paper\")\n",
    "save_kw = dict(save_in=figures_folder, dpi=300, file_types=(\"png\",))"
   ]
  },
  {
   "cell_type": "markdown",
   "id": "64ed13af",
   "metadata": {
    "ExecuteTime": {
     "end_time": "2024-09-30T09:37:13.898199Z",
     "start_time": "2024-09-30T09:37:13.876036Z"
    }
   },
   "source": [
    "### load the data"
   ]
  },
  {
   "cell_type": "code",
   "execution_count": null,
   "id": "d797ab85",
   "metadata": {
    "ExecuteTime": {
     "end_time": "2024-09-30T11:39:33.197510Z",
     "start_time": "2024-09-30T11:39:33.197501Z"
    }
   },
   "outputs": [],
   "source": [
    "ds = Dataset(\n",
    "    \"/data/volume_2/tipping_figures/2024_05_07_amoc/data/figure_4_from_jenny/EN4_mld_figure.nc\",\n",
    "    \"r\",\n",
    "    format=\"NETCDF4\",\n",
    ")\n",
    "kw = {\n",
    "    k: ((\"lat\", \"lon\"), np.array(ds[k]))\n",
    "    for k in \"mean_mld mask_IS mask_NS mask_LS mask_CB\".split()\n",
    "}\n",
    "d_mld = xr.Dataset(\n",
    "    data_vars=kw,\n",
    "    coords=dict(\n",
    "        lat=(\"lat\", np.array(ds[\"lat\"]).mean(axis=1)),\n",
    "        lon=(\"lon\", np.array(ds[\"lon\"]).mean(axis=0)),\n",
    "    ),\n",
    ")\n",
    "d_mld = d_mld.sortby(\"lon\")"
   ]
  },
  {
   "cell_type": "code",
   "execution_count": null,
   "id": "371f1a82",
   "metadata": {
    "ExecuteTime": {
     "end_time": "2024-09-30T11:39:33.198193Z",
     "start_time": "2024-09-30T11:39:33.198183Z"
    }
   },
   "outputs": [],
   "source": [
    "ts_mld = oet.load_glob(\n",
    "    \"/data/volume_2/tipping_figures/2024_05_07_amoc/data/figure_4_from_jenny/EN4_mld_timeseries.nc\"\n",
    ")\n",
    "ts_sss = oet.load_glob(\n",
    "    \"/data/volume_2/tipping_figures/2024_05_07_amoc/data/figure_4_from_jenny/EN4_SSS_timeseries.nc\"\n",
    ")"
   ]
  },
  {
   "cell_type": "markdown",
   "id": "a208ed61",
   "metadata": {},
   "source": [
    "### Plotting setup"
   ]
  },
  {
   "cell_type": "code",
   "execution_count": null,
   "id": "b4efa2dc",
   "metadata": {
    "ExecuteTime": {
     "end_time": "2024-09-30T11:39:33.199370Z",
     "start_time": "2024-09-30T11:39:33.199360Z"
    }
   },
   "outputs": [],
   "source": [
    "yearly_kw = dict(alpha=0.3)"
   ]
  },
  {
   "cell_type": "code",
   "execution_count": null,
   "id": "108b0bfd",
   "metadata": {
    "ExecuteTime": {
     "end_time": "2024-09-30T11:39:33.200098Z",
     "start_time": "2024-09-30T11:39:33.200089Z"
    }
   },
   "outputs": [],
   "source": [
    "oet.utils.setup_plt()"
   ]
  },
  {
   "cell_type": "code",
   "execution_count": null,
   "id": "9b12f7a2",
   "metadata": {
    "ExecuteTime": {
     "end_time": "2024-09-30T11:39:33.201089Z",
     "start_time": "2024-09-30T11:39:33.201080Z"
    }
   },
   "outputs": [],
   "source": [
    "global_color_dict = {\n",
    "    \"Nordic Seas\": \"#e41a1c\",\n",
    "    \"Irminger Sea\": \"#ff7f00\",\n",
    "    \"Labrador Sea\": \"#a65628\",\n",
    "    \"Cold blob\": [mpl.colors.to_hex(c) for c in plt.cm.tab20.colors][16],\n",
    "}"
   ]
  },
  {
   "cell_type": "markdown",
   "id": "d660f9e4",
   "metadata": {},
   "source": [
    "## The figure"
   ]
  },
  {
   "cell_type": "code",
   "execution_count": null,
   "id": "a5cc4611",
   "metadata": {
    "ExecuteTime": {
     "end_time": "2024-09-30T11:39:33.201850Z",
     "start_time": "2024-09-30T11:39:33.201841Z"
    }
   },
   "outputs": [],
   "source": [
    "xmin, xmax = -70, 5\n",
    "ymin, ymax = 33, 81\n",
    "yoff = 2\n",
    "w_space = 0.05\n",
    "projection = \"LambertAzimuthalEqualArea\"\n",
    "map_kw = dict(\n",
    "    projection=oet.plotting.plot.get_cartopy_projection(\n",
    "        projection=projection,\n",
    "        central_longitude=(xmin + xmax) / 2,\n",
    "        central_latitude=(ymin + ymax) / 2,\n",
    "    )\n",
    ")\n",
    "\n",
    "fig, axes = plt.subplot_mosaic(\n",
    "    \"aa\\n..\\nbc\",\n",
    "    figsize=(8, 12),\n",
    "    height_ratios=[3, 0.0, 1.5],\n",
    "    width_ratios=[1, 1],\n",
    "    gridspec_kw=dict(hspace=0.1, wspace=w_space),\n",
    "    per_subplot_kw=dict(a=map_kw),\n",
    ")\n",
    "\n",
    "cmap = mpl.cm.viridis\n",
    "kw = dict(\n",
    "    add_colorbar=True,\n",
    "    cmap=cmap,\n",
    "    cbar_kwargs=dict(\n",
    "        orientation=\"horizontal\",\n",
    "        aspect=40,\n",
    "        pad=0.07,\n",
    "        label=f\"Mixed layer depth in March [m]\",\n",
    "    ),\n",
    ")\n",
    "for k in \"a\":\n",
    "    ax = axes[k]\n",
    "    off = 0\n",
    "    ax.set_extent([xmin - off, xmax + off, ymin, ymax])\n",
    "    ax.add_feature(\n",
    "        cfeature.NaturalEarthFeature(\n",
    "            \"physical\", \"land\", \"110m\", edgecolor=\"k\", facecolor=\"gainsboro\", zorder=2\n",
    "        )\n",
    "    )\n",
    "    ax.add_feature(cfeature.COASTLINE)\n",
    "    gl = ax.gridlines(draw_labels=True, zorder=1)\n",
    "    gl.top_labels = False\n",
    "    gl.right_labels = False\n",
    "\n",
    "plt.sca(axes[\"a\"])\n",
    "\n",
    "d_mld = d_mld.copy()\n",
    "v = d_mld[\"mean_mld\"]\n",
    "v.data[(v > 1e5).values] = np.nan\n",
    "\n",
    "\n",
    "v.plot(transform=oet.plotting.plot.get_cartopy_transform(), **kw)\n",
    "for key in global_color_dict.keys():\n",
    "\n",
    "    amoc_deep_dive.overlay_contour(\n",
    "        (d_mld[f\"mask_{key[0]}S\" if \"Cold\" not in key else \"mask_CB\"] > 0).astype(\n",
    "            np.float32\n",
    "        ),\n",
    "        levels=[0.5, 1.5],\n",
    "        linewidths=2,\n",
    "        colors=global_color_dict[key],\n",
    "        zorder=2,\n",
    "        transform=oet.plotting.plot.get_cartopy_transform(),\n",
    "    )\n",
    "plt.title(\"March mixed layer depth 1965 -- 1994\")\n",
    "\n",
    "plt.sca(axes[\"b\"])\n",
    "ts_mld = ts_mld.sel(year=slice(1958, None))\n",
    "plt.plot(\n",
    "    ts_mld[\"year\"],\n",
    "    smoother(ts_mld[\"mld_IS\"]),\n",
    "    label=\"Irminger Sea\",\n",
    "    c=global_color_dict[\"Irminger Sea\"],\n",
    ")\n",
    "plt.plot(\n",
    "    ts_mld[\"year\"],\n",
    "    smoother(ts_mld[\"mld_NS\"]),\n",
    "    label=\"Nordic Seas\",\n",
    "    c=global_color_dict[\"Nordic Seas\"],\n",
    ")\n",
    "plt.plot(\n",
    "    ts_mld[\"year\"],\n",
    "    smoother(ts_mld[\"mld_LS\"]),\n",
    "    label=\"Labrador Sea\",\n",
    "    c=global_color_dict[\"Labrador Sea\"],\n",
    ")\n",
    "plt.ylim(0, 3000)\n",
    "plt.xlim(1957 - yoff, 2025 + yoff)\n",
    "plt.ylabel(\"Mixed layer depth in March [m]\")\n",
    "\n",
    "plt.sca(axes[\"c\"])\n",
    "plt.ylabel(\"Surface salinity\")\n",
    "ts_sss = ts_sss.sel(year=slice(1958, None))\n",
    "ref = ts_sss.copy().sel(year=slice(1965, 1994)).mean(\"year\")\n",
    "plt.plot(\n",
    "    ts_sss[\"year\"],\n",
    "    smoother(ts_sss[\"SSS_IS\"] - ref[\"SSS_IS\"]),\n",
    "    label=\"Irminger Sea\",\n",
    "    c=global_color_dict[\"Irminger Sea\"],\n",
    ")\n",
    "plt.plot(\n",
    "    ts_sss[\"year\"],\n",
    "    smoother(ts_sss[\"SSS_NS\"] - ref[\"SSS_NS\"]),\n",
    "    label=\"Nordic Seas\",\n",
    "    c=global_color_dict[\"Nordic Seas\"],\n",
    ")\n",
    "plt.plot(\n",
    "    ts_sss[\"year\"],\n",
    "    smoother(ts_sss[\"SSS_LS\"] - ref[\"SSS_LS\"]),\n",
    "    label=\"Labrador Sea\",\n",
    "    c=global_color_dict[\"Labrador Sea\"],\n",
    ")\n",
    "\n",
    "plt.plot(\n",
    "    ts_sss[\"year\"],\n",
    "    smoother(ts_sss[\"SSS_CB\"] - ref[\"SSS_CB\"]),\n",
    "    label=\"Cold blob\",\n",
    "    c=global_color_dict[\"Cold blob\"],\n",
    ")\n",
    "plt.axvspan(1965, 1994, alpha=0.1, color=\"k\", label=\"reference period\")\n",
    "plt.ylabel(\"Salinity anomaly [psu]\")\n",
    "plt.legend(\n",
    "    **oet.utils.legend_kw(\n",
    "        ncol=3,\n",
    "        bbox_to_anchor=(-1 - w_space, 1.02, 2 + w_space, 0.32),\n",
    "    )\n",
    ")\n",
    "plt.ylim(-0.1, None)\n",
    "plt.suptitle(\"EN4 March mixed layer depth and surface salinity\", y=0.93)\n",
    "plt.xlim(1957 - yoff, 2025 + yoff)\n",
    "axes[\"c\"].yaxis.tick_right()\n",
    "axes[\"c\"].yaxis.set_label_position(\"right\")\n",
    "\n",
    "\n",
    "for k in \"abc\":\n",
    "    axes[k].text(\n",
    "        0.05 if k == \"a\" else 0.90,\n",
    "        0.95,\n",
    "        f\"({k})\",\n",
    "        va=\"top\",\n",
    "        ha=\"center\",\n",
    "        transform=axes[k].transAxes,\n",
    "    )\n",
    "\n",
    "oet.utils.save_fig(f\"en4_data\", **save_kw, sub_dir=\"figure_4\")"
   ]
  }
 ],
 "metadata": {
  "kernelspec": {
   "display_name": "Python 3 (ipykernel)",
   "language": "python",
   "name": "python3"
  },
  "language_info": {
   "codemirror_mode": {
    "name": "ipython",
    "version": 3
   },
   "file_extension": ".py",
   "mimetype": "text/x-python",
   "name": "python",
   "nbconvert_exporter": "python",
   "pygments_lexer": "ipython3",
   "version": "3.8.16"
  }
 },
 "nbformat": 4,
 "nbformat_minor": 5
}
